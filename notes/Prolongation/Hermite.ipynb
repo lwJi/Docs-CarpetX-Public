{
 "cells": [
  {
   "cell_type": "markdown",
   "id": "a9585b9e-74cc-4511-82c0-0ac1cb143fab",
   "metadata": {},
   "source": [
    "# Hermite Interpolation (VC)"
   ]
  },
  {
   "cell_type": "code",
   "execution_count": 1,
   "id": "23d39af8-a6e8-449c-8a31-5d3817903311",
   "metadata": {},
   "outputs": [
    {
     "name": "stdout",
     "output_type": "stream",
     "text": [
      "------------------------------------------------------------\n",
      "Package xAct`xPerm`  version 1.2.3, {2015, 8, 23}\n",
      "CopyRight (C) 2003-2020, Jose M. Martin-Garcia, under the General Public\\\n",
      " \n",
      ">   License.\n",
      "Connecting to external mac executable...\n",
      "Connection established.\n",
      "------------------------------------------------------------\n",
      "Package xAct`xTensor`  version 1.2.0, {2021, 10, 17}\n",
      "CopyRight (C) 2002-2021, Jose M. Martin-Garcia, under the General Public\\\n",
      " \n",
      ">   License.\n",
      "------------------------------------------------------------\n",
      "These packages come with ABSOLUTELY NO WARRANTY; for details type\\\n",
      " \n",
      ">   Disclaimer[]. This is free software, and you are welcome to redistribute\\\n",
      " \n",
      ">   it under certain conditions. See the General Public License for details.\n",
      "------------------------------------------------------------\n",
      "------------------------------------------------------------\n",
      "Package xAct`xCoba`  version 0.8.6, {2021, 2, 28}\n",
      "CopyRight (C) 2005-2021, David Yllanes and Jose M. Martin-Garcia, under the\\\n",
      " \n",
      ">   General Public License.\n",
      "------------------------------------------------------------\n",
      "These packages come with ABSOLUTELY NO WARRANTY; for details type\\\n",
      " \n",
      ">   Disclaimer[]. This is free software, and you are welcome to redistribute\\\n",
      " \n",
      ">   it under certain conditions. See the General Public License for details.\n",
      "------------------------------------------------------------\n",
      "------------------------------------------------------------\n",
      "Package Generato`Basic`, {2024, 1, 11}\n",
      "------------------------------------------------------------\n",
      "------------------------------------------------------------\n",
      "Package Generato`ParseMode`, {2024, 7, 06}\n",
      "------------------------------------------------------------\n",
      "------------------------------------------------------------\n",
      "Package Generato`Component`, {2024, 1, 11}\n",
      "------------------------------------------------------------\n",
      "------------------------------------------------------------\n",
      "Package Generato`Varlist`, {2024, 1, 11}\n",
      "------------------------------------------------------------\n",
      "------------------------------------------------------------\n",
      "Package Generato`Interface`, {2024, 1, 11}\n",
      "------------------------------------------------------------\n",
      "------------------------------------------------------------\n",
      "Package Generato`Derivation`, {2024, 1, 18}\n",
      "------------------------------------------------------------\n",
      "------------------------------------------------------------\n",
      "Package Generato`Writefile`, {2025, 1, 23}\n",
      "------------------------------------------------------------\n",
      "------------------------------------------------------------\n",
      "Package Generato`FiniteDifferenceStencils`, {2025, 1, 21}\n",
      "------------------------------------------------------------\n",
      "\n"
     ]
    }
   ],
   "source": [
    "Needs[\"xAct`xCoba`\", FileNameJoin[{Environment[\"GENERATO\"], \"src/Generato.wl\"}]];"
   ]
  },
  {
   "cell_type": "markdown",
   "id": "2635ec2d-9968-44c6-aaae-3a7bdc69514e",
   "metadata": {},
   "source": [
    "A polynomial of degree $K$, denoted $H(x)$, used to approximate a function $f(x)$ can be written as:\n",
    "$$H(x) = \\sum_{i=0}^{K} c_i x^i.$$\n",
    "Determining the $K+1$ coefficients, $c_i$, requires $K+1$ equations. The Hermite method imposes the following conditions, assuming $K$ is odd, at two nodes (e.g., $x=0$ and $x=1$):\n",
    "$$\n",
    "\\begin{align*}\n",
    "H(0) &= f(0), & H(1) &= f(1) \\\\\n",
    "H'(0) &= f'(0), & H'(1) &= f'(1) \\\\\n",
    "&\\vdots & &\\vdots \\\\\n",
    "\\frac{d^{(K-1)/2}}{dx^{(K-1)/2}}H(0) &= \\frac{d^{(K-1)/2}}{dx^{(K-1)/2}}f(0), &\n",
    "\\frac{d^{(K-1)/2}}{dx^{(K-1)/2}}H(1) &= \\frac{d^{(K-1)/2}}{dx^{(K-1)/2}}f(1)\n",
    "\\end{align*}\n",
    "$$\n",
    "In this context, $x=0$ and $x=1$ might be the coordinates of two coarse-grid nodes nearest to a fine-grid point, such as $x=1/2$, where a value is being interpolated.\n",
    "\n",
    "The derivatives of the function, $\\frac{d^i f}{dx^i}$, must be approximated using a finite difference method that uses neighboring grid points. To achieve consistent accuracy, a finite difference formula of at least order $K+1$ may be needed.\n",
    "\n",
    "This contrasts with Lagrangian interpolation, which requires only $K+1$ grid points (function values) to construct a polynomial of degree $K$."
   ]
  },
  {
   "cell_type": "markdown",
   "id": "70fe0ccd-dea3-4f96-93ef-d42630995f56",
   "metadata": {},
   "source": [
    "## Finite Difference"
   ]
  },
  {
   "cell_type": "code",
   "execution_count": 2,
   "id": "f5e5c349-6055-46c0-8dfd-64a78ea00aff",
   "metadata": {},
   "outputs": [],
   "source": [
    "(**\n",
    " * solFD returns the coefficients of 'fdOrd'-th finite difference,\n",
    " * which is 'accuracyOrd'-th order accurate.\n",
    " *)\n",
    "solFD[fdOrd_, accuracyOrd_] := Module[{stencils},\n",
    "    stencils = GetCenteringStencils[accuracyOrd];\n",
    "    GetFiniteDifferenceCoefficients[stencils, fdOrd]\n",
    "];"
   ]
  },
  {
   "cell_type": "markdown",
   "id": "275a2b5f-7e83-4170-8971-c47326b96b26",
   "metadata": {},
   "source": [
    "For example"
   ]
  },
  {
   "cell_type": "code",
   "execution_count": 4,
   "id": "a412a6b2-766b-4fe7-89d8-03266e4bc035",
   "metadata": {},
   "outputs": [
    {
     "data": {
      "text/html": [
       "<div><img alt=\"Output\" src=\"data:image/png;base64,iVBORw0KGgoAAAANSUhEUgAAAoIAAABZCAIAAAAl9NKHAAAA03pUWHRSYXcgcHJvZmlsZSB0eXBlIGV4aWYAAHjabU9bbgQhDPvnFHuEvEjgOOwMI/UGPf46A1U1VS0RG+MEpczvr6u8EsJUrEbz7k6AdesyIBotLGbqd12WkGz34Zfal+ABq/4++Nz+++mHL5b2Z9CeT5o/QKvthj1IZfk81v298zJaewy6juvGXob6j+D/76YhXp3DUE0owjt0K5Agr0I1/PLDHUH2U8gO8PQItHlkQkc2JmTGMz2LK4wzV9A8VQc4UAVfp8O3FlRWkROvdmdynQ90+1xAf1JfxQAAAAlwSFlzAAAWJQAAFiUBSVIk8AAAADx0RVh0U29mdHdhcmUAQ3JlYXRlZCB3aXRoIHRoZSBXb2xmcmFtIExhbmd1YWdlIDogd3d3LndvbGZyYW0uY29tXKKmhQAAACF0RVh0Q3JlYXRpb24gVGltZQAyMDI1OjA3OjI3IDIxOjIyOjEyGwuUPAAAIABJREFUeF7tnXn4V8MXxxUqSyG7dntIaVFEiKwPpShZUkqUbIWSlH2NyE5kF1o8tiittFgqkkRZo0JlTbLk93p+8zz39/l9Pp9779y5c7fP59w/er7fbzNnzrznzJyZM+ecqfDvv/9uIF80CMyaNWvGjBlPPPHEggULXn/99SOOOCKadoRqWAS+/PLL3r17T5s27ffff4fWbrvtdt999x1++OFh6Up9QcAIgTvvvHP48OGff/45tTfccMOePXsOHTp00003NSImlfwR+OGHH6ZMmfLaa68999xz++2335tvvulfx16JCqKG7YGZT2mTTTb5448/1F8nTJjQpk2b6NoSysYIfPzxxy1btmQi9OrVq0GDBhMnThw9evT69evnz5+/8847G5OVioKAGQLI4f3338+uvWPHjr/88sszzzwzZ84c/njvvfeaEZRavgjcfPPNAwYMUMUOPPBAjk++VSwWEDVsEcx8Uj/99BOL+1133TVkyBBRwxECHY40Gvf6668/7bTTHKV70003XX755bfeeusll1wSjrbUFgQCIzB37lxOYxdeeKGqyVZ+xx13/Oeff37++ecKFSoEJicVNBAA5LVr11KwZs2ajRo1ilkNV9TgUIoYIrDllltutdVWYkoyhC+uahUrVrzyyitzD75HHXUUjS9btiwuFqQdQeB/CDRu3NjRwfy1SpUqrVq1+vXXXzkZC0wRIQDIrNV8iWx0tNTw22+/fd1110XUfyErCKQNgffeew+WmjZtmjbGhJ8yRACLGudj/BW22GKLMux+prv8559/durU6a+//vLuhb8aRgg4K/To0SPTcAjzgoAmAlwlXHvttTvssMNxxx2nWUWKCQLRITBs2LBvvvmme/fu0TUhlCNCoFKlStzxcy8ZVg3jOXbQQQexKkXEqJAVBNKDAPfEZ5111tKlS++++245fBiPC1uZhQsXcp1pTEEqKgRmz56NmwK+u/369RNMsogA+6fnn3+ee30P5n1OwxyF8Zvv06dPFvsvPAsCgRBAB3ft2nXcuHGYfzp06BCorhRWCNx444177bVX9erV9957b/Yxhx12mLLwy2eAANAdffTR22233QsvvLDRRhsZUJAqiSOA6wnxZvfcc4+5GiaOio0YkyrxzggDgkCkCHB069atG0HeBBBfc801kbZVksS5BjvjjDMGDhxIABh+LptvvvmaNWumTp16yCGHvPjiiyXZ5Ug79c477xx55JEbb7wxKQdq164daVtCPFIETj/9dKLOmCBurfichh9++OEzzzwzUhaFuCCQOALEKpx44omPP/543759vfetibOaWgYw4z/55JOwd8EFF6xevRrP3g8//BDHIjKi4KVCeoTUcp5CxlC9rVu3Jshi+vTpWBdSyKGwpI8AeyluiD02o15xw8ylgw8++KOPPtJvz7ckO4JPP/2Uf/fZZx+ur33LZ7fAY489tnz5cvhnIo0fP54bR5YkfmW532OPPdLQr++++440PXXq1Nlpp53SwE9SPHBtc+yxx86cORPrH0kScjetXMckC05Wxghbwi677PLVV18Rfq2UsfqYAnvuuSeRNhgYMPXHPMQZXW2efvppLkdwr8Uxdvvtt+euROEGkl26dIkOw4zCFR6Qzz77jOtbRWfw4MFM+XPPPZeft912W1uecdwvXH311S+99FJxbrn9dfuQBgx0HgX0/wtJQi2xrXNuONDBTZo0GTVqlD6RbJWkd0URf+qpp5LtCGvlqaeemnvRQHIApvf333+fLGNJtT558mS3mUx6y0S4ytwYcaGuMCTfUx5i55xzDn9HnaCq4wEz66sNZvyiAslFexQAZh2u8Ji8+uqrRQHn4BSeuKIAyLVq1cIyVJTgBh7NsDSPGTMmPB/s6Pfff3+nn1hatt56a+dXjonhmwhPgexx2M3C00k5BfLhkWLTAR8HeGdjxNavcA2NvztLlizhHiX+dtPTYuJjZDAEV111FUJVv379QhixBil5Ix1KDCCnYbXJ0GIicMUgk6qJk08+GX0fWA3vvvvuxKuF5JJdAM5+ah6SnIjrIrUpxhyqzvssOiGbCF+d+ApOhPvuu+/KlSvDU0stBTLkkSYezHFhZaVQuTbZoI0dO5adGls/zLOJM3/LLbfg4PPAAw8kzkkiDKRhjAyGQOUVOP744xVo3MKQ8IcHM/jZSUb27rvvRg1pGlabDC0mAlfUAplLn+S4ODAGU8N4WJCLMTyXLPdKBzNRC6nx9FD4JqxQWLRoEUfDhg0blqom5uJH+VtijeB6Pg80FPDXX39tBcnwRC6++GI08YMPPhieVLYopGeMgg7BMccc48xxbtnVlCfIAvz//vtvYjb4FcN11MORktUmK4uJwBW1QObSf+WVV/BBCaaG2bqS4To8lyeccIK6GUrDScu7OwRawCeaeNWqVeE7njYK5MNTiyPvFqSNt0J+yKmLJn7ooYfSz6pFDlM1RoGGoFmzZojWZZddBhq8EakkjfsOXND5i0qEEsNopme1ycRiInBZnLy+pBAJEtcXLeYasMTZiLcm1HQK83HdSHWcDqpVqxaGTl5drjRw4V63bp1Fmjgi4q2DbycPzeIlbpFyGkipgeBTcy/l3x133IGXMmHvhMylnFWL7JmNEY/DcNejXkq2+AUagm222Yamscfyb7t27ZTzB+GSZMznEgrTGr+qMpF+Ea02BjxnYjExgAvbBibMFStWGGDiUSUTcIXsco0aNdCqjt97LjXXgCUmIXCPGDEiTNuoSRyC0P9XXHGFrcchzB7EJmZLM5sP2p27UuxpkyZN4sENne7jBI6bsU5JtzKoxqijmLiWIMMRDBAIYSUjj9lD2azI3JHoYIXYwDBSixDix+dRhaWBLNCUdyuDXad9+/ZF//eLL77gdWEP4lxVkJVCh+HwZYKOEQqYux5iLbBmM6aYvEg/4rvfjWIIzj77bIapbdu25HsCByY+29m6devyMztmlQoXA1ukr2UYrDZmMhzpYsK+0/sMQJgDC3p4YQsKFzf9BM4QO6A2fLiSYPbgxOLLSRRwvfHGG47rX1EGSADApWrhf7H6odp8efYuQFgj2WkMiHAhiFNUYWZoVzXMisDqhrOGQWO5VdgCY+NlISM3QkhSVDd+EPu2227DNK/DADv6efPmEUI6a9YszVff8SdirdEh7lbmpJNOijpIn+wK559/PgwQJKfZL+8emT2UzdU7j5lrYjVlyhRK8uivt+ZmQVGXLm5k27RpQ2Leov8LGoSQefBDEGFs75oEHSNcol5++WVsBjg/8kLq7bfffsABBzhXs26dimIIiInEWZpkAJzL89plHvGOOn/EVwtHSM2hNysWdLUxk+FIFxNcVhkgj+6T6w2HSjN88mrpw4VBtWXLlkwxVuAGDRpMnDiRzStb5Pnz5/suJlHAxQUH8RQeIDCpiwobalidRsJ8eE5UrVrVgAL7J7wX8QXOr+tm0QZuzq++9m7fAmq7xL6YnbtvYd8CWFHYyzjFuHliywMiCIRvXZ0C6GBiqwjdSY/vmA7bOmVwwVVjj1+GTnnfMoDPtp2PLR7rrG/5oAXIAoFrj63I9aCtJ1I+0Bi9//77jCaLssMq+xX+ghXHFvP6Q4ABSUnXBx98kNf6eeedx9/jiRsOutpEKsPpX0z04eJmgQQs7FmdwVXKjP2xLWFLP1zhe0pEH0eLQjquccOdO3dmcx2+YSc9b1FfbdIU8IVpRd10qtibkB9OZM2bN2eHyBYvJKkUVieTkbLSkLgDg2Eeh+xj3nrrLTO2N9tsM+tqmM0ssVXksrG1wTLrWsy1Ao1R//79GU28uhwmMRvi11Y0JMGgI4GGgEOGOqIRhZjbFlZfdbMzZMgQAx6CVjFebazLcCYWE2O4GBflTsi5MOgYFS2fCbjC95ScTpjoA6hh1Bum//ANcwjGiKF2ypimnRB+DC+oeSzsnD6xfps1xBqNH5mVXCfIQYsWLXAt4ZBhxkz6aznWVwytHF9YOuEZ8EkirxL3FBUR335ZX8JI34YO5rqxrHSwwll/jNgok6sWiNhU8aCp2s5y6OQ9AN8h8y1gMAQYeNU0R+Mq0WKyK/sbKfNw6vFtNHwB49XGrgxnZTExhouRIp6QkbWSEzArcIWXT54MLpo40vU0TCAgzgLhG4YCh8tcp2tM9sp3Q32HHnrojz/+aNYQtw5QCB+Bg9MBl2ocE7kVNuMkK7VIu8+BSSFfuXJlHBRZgNSvbIlw8DHoiN0ljDsndDA+WWWogxX4mmPUqlUrrpoor9Lg4B7Fz6g9nAwMBjG3itkQMIkcJ3zcxHjoUIULs1ewslhrdspstbEow9laTMzgYsXG+IGrUXgzZLbg0hRCt2KkI8Wft/B/XdUwXi2PPvpoyFad6r/99hvO0rmOxygDTrEjR440bgLXD3bZuDSrrXeYDx8fgivSkMoxTC806+LLw55DpdNSH5frJFozTt9hcQmjC7wtQ6hSbPmHNUGLuZjOGGHAwKoBY3iJM4j43/Ezlif8pEJyazwEWFaINs6d5vj/484Tkp+g1Q1WG4synLnFJChczE3ep0Hk2K4FHZrC8pmDK0yXeWep6OHW1VMavY33h/UHPbBNkcKJKCbmZ2FkBf54RX2zWWIaN27sqA1+IPqILqE/WLDkMc5cZDR/RvoZCHa1GCd23XVX54isqusPhDpGk/OEgdBsWoppIuA9Rmwcn332WUKVGDu2UGoWcEAhOotnwjWbiKIY6xTyQwgfe4Lc7PFRtOVN03u1ya0rMgwaOnBho+L1J8xmvJclz3IHFWkiGjjwFEZeuKphbMUYu2KLmFT9YV82e/bswr4xn7n0cv7OXSZ5qjnPEcQWdZxPUKBLo7zmQKjOyhKWyKBjXrrhhhtyg3EJSWRHRfySk6QwEcay2KjIsM6ocQ7mtojQU+IX5FluHcTyyqCGiU3F6yW/rtsRG5MXcIc5gEdUl50+FiRuxRYuXBhRE5GSZctJNJSV8K1I+dQnbtGgp99oFCW53WBoUGbhrzmiYC+PpnoInPd9nb9jEOYvRD3F0HqJNZFOGcaigMeoseuM3THiEpc4dQSMzBh2KaeZmt3lGvfJoqny03Ua9t1fJPUgti9jFPDNyGOW/0un6fjLxPBQdpyd+uSTTwi9IKSP7RHtYkodMGCACsNN89ehQwc83jmg4BtFHtbhw4eze546dWqaeU4Pb6mVYQ6duL4TSLJ06VIFFxdwnD558i4p9HBmJkMOmWHIa0RKCa5CHE7w5MBHISnGjNvFtYh7NKzr7LxxhgDhPFJRLNclchqO+UHsQNs0HLadgSyMoyUEVk0ndkNDhw4lgIxfEehATaSncAwPZcfWWbb5XKniqYDqJTEkCaHq1KnD6NiKFIiuI2wauDbCFRluSWZJMmcSVUbXXIlRTq0Mo4AZ0NatW5NRC5Nkp06d+LVevXrGgZ3hB45NnpvC42YwPP34KZDt3OnRhAkT8hiIaLl2Ow27ekqn1igd/4BptuidkSfq/F+aTEqxogjgbcDJw/kvlfeUI2Ym4ELwSCHJdX4muBUmfRHgTiQvgl89YJWbqsWXiBTwRgBTPxkA2XMDbKEajmi5dlPDri8sGR/2y7Yi2ytCNfjyvI4VIHh6q6s79VGYuE/OLiROKlvE0tNxlrnc0HaVECorHvjIEkFKTvx3elAVTswQwLChbmGdD4EkONPKk3dmLJVeLVIKslaTiLdo12JerkUNJyNg7NTY2xI5rZ5ilS8lCKxZs4aDCEEFrHq4g6aEK2GjPBEgOogLbHwU8AA45ZRTyHVfnjgk3uuol2tRw8kM8bBhw7755huV/0i+lCBACioCV0hHhY8MfsjkYU8JY8JGGSKAmwJ7QSLQyBXIKztkOipDEFLS5aiXa1HDCQw0sdG8u0f+r379+iXQvDTpggDxfLh98qAbRxCsgrhQClSCQFIIsAvkHEySFvz2SdM9aNCgpDgp83ZjWK5FDcctY+T/IvcIfv88kM4lUNzNS3vuCJCsjUARXpoi9BZbRfv27QUtQSApBLjvJ/iCiBpeyCDnAw8LEq6ZFDNl2248y7Wo4VgFDI9cnOWIMCFSLSseQLEClI7GOBAzTIsXL+bZonRwJFyULwKYpsmYRv/Jzl2+KCTR89iWa1HD8Q0vqpdYQHzzpk+fLjk448PdryX81QcPHkzAj1OQeFzuhtktiVOMH3jy//YR4C28SZMm5dIlfoZfSR1ovzGh6IJAnMt1xrJopVZmfDPypDn/V2pRjYcxMiSceeaZpEfo2LFj06ZNSRhETmaMUTjQjRgxIh4epBVBQCGAeyC3wkuWLCFFGskbCFLiloQUWlxgcTgTt0ErcsJrg7zSDSlOROPHjycPHUEr/MrLUbw5xA8RLdclkkUrtTHpvhl50pz/K7WoxsYYw9e8eXMnsQ7+0v379+eBo9gYkIYEAQcBHvEli1NulHCLFi3IvCgQ2UJAJTEs/JyHsSNarkskp7SVrZAQEQSKIkCywEWLFvEKJ8ksxXtOhCRxBEhTj6tg3bp1c59wTpwrYcAYAbfTsNwNG0MqFUsNAVQv7qm77LKL6OBSG9ps9gfXBMIaRQdnc/QCcC1qOABYUlQQEAQEAUFAELCLgKhhu3gKNUFAEBAEBAFBIAACooYDgCVFBQFBQBAQBAQBuwiIGraLp1ATBAQBQUAQEAQCICBqOABYUlQQEAQEAUFAELCLgKhhu3gKNUFAEBAEBAFBIAACooYDgCVFBQFBQBAQBAQBuwiIGraLp1ATBAQBQUAQEAQCICBqOABYUlQQEAQEAUFAELCLgKhhu3hqUSNH3XPPPUc+cXIXH3zwwVp1pJBVBHhPiYRZG264IQNhlbAQK47A5MmTQTvv69atm+DljYAIajwSkuyaLGo4nlH+v1YeeeSRTp06jRw5cs2aNevXr0+Ag7Jvkj0QTxkCPsniyx6MOAD48ccfQbtt27aX5nxkuo+j7Sy3IYIaz+gluyaLGo5nlP+vlQsvvHD1fz/eHk6g+bJv8rbbbnv++ed51KzskYgPAKSdxpD8m3K+zp07x8dBBlsSQY1t0JJdk0UNxzbQ/2uIB/VI185XoUKFBJov7yanTp06YMCAE044gTeGyxuJWHvPaZj2tt9++1hbzXJjIqhxjl6ya7Ko4TjHWtpKGIFvv/2W64B69eo9/vjjYo6OczDUafjZZ5/Fytq1a9frr7+eJ/ziZCBbbYmgZmu8QnIrajgkgFI9Mwj8+eefJ5100u+//z5u3LgtttgiM3yXBKO//PIL/bj33nuXLFkyduzYQYMG7bbbbq+99lpJdM5yJ0RQLQOaenKihlM/RMKgJQQuuuii2bNn4xm39957WyIpZHQRuPHGG9n9cMibPn06XqkjRoz4448/uBcQm0QhgiKoulJVKuVEDZfKSEo/PBF4/fXX77vvPm6Ann766fb//XAVogZeMPy8dOlSwS9SBDA/tGvXbqONNqKVypUrd+/evUGDBt9///1nn30WabuZIy6CmrkhC8+wqOHwGAqFDCDwzz//HHLIIc2bN1c+6nxEZMI3rkPq2lK+mBHYf//9aZE7gpjbTXlzIqgpH6BI2MMoVPRjzVJuLPJFh8Bmm2124IEHRkdfKHsggI2UGTVq1ChBKWoEfv311+HDh6NgnIa+++47vKYJ2Pv777+jbj3r9EVQ4xzBSNdkAuUffPDBwu5EdRpmms2aNWvZsmWR7B2yTBQrnBM5iS8Gt2Xq14cffjgl3YKrBQsWzJ07lx9SwlKpslEm0+Sxxx674IILmjVrds8997zyyiuoZI7C9P26664jr1Z0gyuSHAjbsoUr+TXZ7mn4q6++OvXUU6tXr+4M/4477tilSxcugeLc0aS5rVdffbXo3MBxNFm2SXLEcrnXXnupCzy+SpUqNWnSpFTPiy+++CJ9JI9H/LCX4TR56KGHdt99d0fyOQpzVR8R8iUmyVELaonBZSBUsa3JbqfhDSyqYaIRNtlkE2em7bDDDs6Cvu22286ZM8cAILtVCJZ45pln7NIsDWocTdRdnfqwFm699dbOr8R6pqGb999/P062aeAkDA+JT5MEZwG2n3fffffLL79UaUSj+NIgyRkSVIErCiF0oxm5Gn7zzTeVfQmXSKTwp59+ghX8L4gRrFWrFke9n3/+Oc4OF23rlltuIXHVAw88kDgnqWKANfHoo49WSveoo4768MMP1TXe559/jkcrf0RzJM4wEoVlZd999125cmXizBgzkIZpUsKzIA2SnCFBFbiMJ7JZxWjVMJcKtWvXVqeoTz/9NI9FFPDXX39txrf1WhdffDGauOg9ufW2skKQbZPSwT169CjkmXvilHRk0aJFmFgaNmyYUU2cnmlSqrMgJZKcFUEVuGJe2aJVw7jzqHUcVyOLHfvrr784mS1fvtwiTUiRxRtNzGWVXbLZpUaCZcaO67o0WCy8Yfz444/hE028atWqzAFuNk3Wrl07f/58HuOy29+SnAXpkeRMCKoBXBGtyZmAK/wERA0X1TsVIF3UY+iII44444wzNNPfkxPn7LPPhs7ChQvr169flGCgP3J71Lt372nTpqmwQmzaOHQcfvjhgYh4FMZv8+677wYRZXSN6IP5L774IgxxLtf32GOPMBR06tasWZNLu44dO5LyV6e8bxlucKdMmUKqQl7z3W+//bDE+lbRL4CMHXbYYTvttNOkSZNynQG9KSxevNjb8XvnnXfO9WzQ50e/ZNBpQp4p7BM4kcE5knDsscc+8cQT1apV02/Ru2Q8swDTBReQHpwwiFw3WOlUUElOoaByc79u3ToPNCwKaiC4ol6TzeZ1ULFB39FQ0Fp55VmTHbenQKRQw+S0L1Q6rmqYy0IqaL7LPXDgQJLVwRB7JTP+cjvDzqhly5bg1atXL1LtTJw4cfTo0VxjcCZABD26TXjirbfeqoMLxGEYmqyM+B95VCGu8dprr3XbrFCxUaNGpGEqSgGGzznnHB1+3MrwCpObF18Ysrl1mfOoHzp4xRVXEEBihezNN9/MK0aKFIHRM2bM0CGLR+h7772nU5KngvE5QMGjiYFIp8rJJ5/s/ZYAAWN4ieuQMi4TdJocf/zxL7/8cs+ePbmwB8Pbb7/9gAMOmDlzpjcDaZsFuN87xs+inPPi5GWXXWaMqlPRQJJTKKinnHIKjvQeaODagodEzHAZr8nwGcW8fuONN8iK6gFC3759t9xyy8ICbG3ZxIdEjx7hdGxAhMPt6aefztMmeXVd1TBLAB9LgE5jnCzPP/98ShKA5a0pdaihHXmA5bTTTnNIYeu+/PLLUbGXXHKJBwX23RzpdJqgDMc1/oWgt+ZmbnMK8VDDbdq0gTfNRtNZbJtttsHGi/GDhC1WOETWMaVCiu022xRNNUxeSYJKdRjAC2bevHnbbbcdsenh5U2nRStlAk2TDz74AOjYB/MguWr90ksvHTp0KDuP1q1byywoikBQSS5zQdWHy3hNZpiimNcYMol58ZgFTz31lC0Ti5W5r4iQFIuDGTG9+TTd7N28RUOUvaY13LE6su3VrBKomLpUw68kUC2Pwk8++WTFihWxe9simGk6ytpft25dViW7HYkiJQ06mNgqdqPp8R3TBC3QNOnfvz+DguQ7xLEK4tNQ1I1Ok4G8YqU3C4wluTwF1RguBMn6mpzdea0/+0imixmvsLxrFi3ijvTTveIyoywAmN1WrFiRp+ppVfM85LbvULbKpk2bWtmYkNyfO28O+pxOrBDMOhH2aHSBVf6aa64p7Ate7nwp6SPv5WGhJZKKQ2HmHkoKNE3AfOONN+ZAzIRCUPm1Tp06GABsjUVJzoL0SHImBDUMXHbX5EzAFX4NRKVuvvnmRei4afJ+/fpxWaiv5zECKOr4zqDwuSSmLher77zzjhps7On61HJLknyfyGMiVVQscsiP1Yf4ZhzKoksgEJLD+KtzCOYOXg0fpmlSkCoeMPJzH4nccPo0y/1r95CBI3eLFi3IK/L+++/Hj5KVFvWnSatWrWrUqEGjyqGjbdu2/MylIBfY4Tkp1VlgLMnlKajGcNldk0tgXmtOSSyOKMTCwq5ZtLidDWqzxfESo5lazXnLbM8990S41a8s5Th5avKaW4w8EnhwQAEvLYPqeVUggg7GJ0t0cB4yeJNxj+ts07hWQWKcXw899FAmngH+Flc3NpI4KOFVy62wASfpqaI5Tdi8sqOFbTwEGQh8L/iZ3dI+++wTsi+lPQvMJLlsBdUALrtrcsnMa51Zic0Y96kAahj/RpxLdUjnlsH4zFqZm669atWq0MlN34G/OK5ihV9htkvGm8MZa9CVV14ZlJOi5XnLs0+fPrkvvVghWxpEePgP+0eu4zGbKkLFRo4cmdtBPMwLx85tgCyubvjK4WSYhpSo4YdbZ5rgokjQgdov4jqrGiVmGpt8SAZKfhZoSnIujOUsqIHgsr4ml9K89p6YhB2yorLtKCzm6ik9depU1laziE+QJZcW5ycOVbvuuqtzRFanK0Z99uzZhfZxdvqsMs7fGW+OrfjucijnYZbwdnmhoIkAl5EMH1FMhMcVRqlyJ8TtQB4pVjG2X4X0sYJwIRrSM0CT7cwV854mbIluuOEGMjA7LhHciDOb8Gnwjv/JHA7RMewtybntiqCChi9csiaHkdWlS5fyUg6vHBUh4qbAOb9ipQy57zauzpaBcCnYJfzLmIhUTBwBi4eMxPsSMwPERiP/nImddsl7xV/YGcfMSTk0J4LqO8qyJvtC5F2AmctZpWgZ19MwE56YELxnnfvdMBuBQHW5sSdUlzQF+IWSwSM3+REmZS7MAlHLSmF8oEhFSyQfzmhZ4bkon1x+kPhJ/dfgwYMZr3PPPVeJU6Q5y/RBI3cSbmg4HhcN8NenE3XJDh064O2ITYikg5MnTyaAkAtjzFRRtxsd/VQJuQiq/kCX55oMPiSAw1MVKxTeTvpwFS1JAoBP2urnAAAEeklEQVS3336b7CsBTsMobRJTYE4MuQUwqM6K49Zh0lsaEEy8ClsKkoTg5kqwMknB8vgh4eUxxxzDqxiq11zHkiMmcZ6NGYjt8c6gHKIDhg0bhte9I10ktfnkk0+C0omtPI6s+EYQtgTD3BO3a9eODFmxtW63oRQKuQiq/hCX25oMMnfccYeTGghvJw6EIfO6c4YkaWNRzF09pSlNpjf8pfWHSkq6IVClShVn6Z8wYUJuMRzW8IriWEYqLsJIyJqEUxsWiKIOdYJwGAQIvmIUSEHFu434HJCrlV/r1atnFosVhpNAdclHxgMneFQEqpWqwiLkgYYjo4IaqI+JF/ZYk+FNGfDYpvMWH6nruNPlVzRxGLZxfnJ8LfPoeKlhfNlJvxmmYamrEMBbbfXq1VdffTVjmaeG8XogaUau0lXZuTk9C3p2ESCWPS94vVmzZkCdm6nKbotCTSEgQh5IEkRQA8FlVthjTYYgERmchh3KbIU5KXFAMo50xf3NI9TQNYsWyxPaG165SAtpE5fqDCFHXsfsnAsIZmo80nMTIxORQgEuLwU3uwhg11V+f86HgbpSpUq5AdN2WxRqCgER8kCSIIIaCC6zwh5rMgQbN26sPCLVx9GZdDpcCZHty6y5MWPGdO7c2a2ulxqmDldT3hm0zXiSWh4I2M0SJ1AXIsCWFvMDr3rgAMWDNmaPpQiwYRAQIddBTwRVB6UYynAsxmaG1w45ns2aI31ely5dDNUwV5WoYZgwa1tqBUWAkFyyJuEsfdxxxwWtK+V1EMCLmxMwro88/MLDjiQn0aklZSwiIEKuA6YIqg5K8ZTBtZNnUo0DPVDhJKb1sLr5nIYxpXIYf+mll+LpbZm3wuaX6BSivEnlb7ztKnMMfbtfv359zsEk5CI39ZAhQwYNGuRbRQpYRECEXBNMEVRNoKIuRrIp/Gd53Zx3FszawtnZ5zFc3/tt7oZxLpUEkL5A+RZQDxvnuWg5taxnifPlp8wLkMRKOUtjLypzKGLrvgi5AdQiqAagaVbxXpMhQho7TkQcZN2cnH0b4uHwjh07ehfzOQ2zSJFQAscW5+1xs+2A1PJGgOUJ+z+vX5C5s+hrgwKgdQQwTZMwErJEclsnLgQLERAhN5MKEVQz3MLX4jWkI488ksB90rDXrl3bjCDnYE7D3nX91TD1zzvvPN4rNmNCavkigDc8r0gRyUrmTsme7QuXcYFRo0bxSnFudcIS+JVrG2OaUlETARFyTaAoJoKqj1V0JVG9mIEJb5k+fTqvi5o1ROwZOjj3tbqidLySWZo1LLXyEOCtquXLl/NHhnP8+PHc/uJxx6+oXt5OKNsscTHLCUcxLtuWLFlChkhSQmJleuutt9j0EBzCnpf/ipmfsmpOhFx/uEVQ9bEyLum9JkOWTEq8I4cS7dGjBw8O4dCg2uL1Xg+HZ2N+vNJ3+Fq9pYAOAioDS+GnriRLL0ucDiaJlMFBl+Q4uf6KLVq0SCRdayLdT7BREfJA4IugBoLLoLD3mgxBdupFF+2I8ln9Bxwi2ZPQqF0TAAAAAElFTkSuQmCC\"></div>"
      ],
      "text/plain": [
       "       1                2                          2                1\n",
       "c   -> --      c   -> -(-)    c  -> 0        c  -> -        c  -> -(--)\n",
       " -2    12       -1      3      0              1    3         2      12\n",
       "\n",
       "         1            4               5            4                1\n",
       "c   -> -(--)   c   -> -       c  -> -(-)     c  -> -        c  -> -(--)\n",
       " -2      12     -1    3        0      2       1    3         2      12"
      ]
     },
     "execution_count": 4,
     "metadata": {
      "text/html": [],
      "text/plain": []
     },
     "output_type": "execute_result"
    }
   ],
   "source": [
    "{solFD[1, 4], solFD[2, 4]} // MatrixForm"
   ]
  },
  {
   "cell_type": "markdown",
   "id": "d3c5262f-7b4a-43f7-b828-577887105d91",
   "metadata": {},
   "source": [
    "## Sampling Values and Sampling Derivatives"
   ]
  },
  {
   "cell_type": "code",
   "execution_count": 5,
   "id": "ef95c26d-f72c-4011-9fe4-400a42f6c319",
   "metadata": {},
   "outputs": [],
   "source": [
    "(**\n",
    " * Function values at grid index i\n",
    " *)\n",
    "(*s[i_] := ToExpression[\"s\" <> If[i == 0, \"\", If[i > 0, \"p\", \"m\"]] <> ToString[Abs[i]]];*)\n",
    "s[i_] := Subscript[f, i];"
   ]
  },
  {
   "cell_type": "markdown",
   "id": "f1a9978a-1dad-43ec-b42e-1efa6c2c821f",
   "metadata": {},
   "source": [
    "For example"
   ]
  },
  {
   "cell_type": "code",
   "execution_count": 8,
   "id": "aca71f3d-bc3d-4406-9b34-19a087245301",
   "metadata": {},
   "outputs": [
    {
     "data": {
      "text/html": [
       "<div><img alt=\"Output\" src=\"data:image/png;base64,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\"></div>"
      ],
      "text/plain": [
       "f\n",
       " -1\n",
       "\n",
       "f\n",
       " 0\n",
       "\n",
       "f\n",
       " 1"
      ]
     },
     "execution_count": 8,
     "metadata": {
      "text/html": [],
      "text/plain": []
     },
     "output_type": "execute_result"
    }
   ],
   "source": [
    "{s[-1], s[0], s[1]} // MatrixForm"
   ]
  },
  {
   "cell_type": "markdown",
   "id": "64a09ff1-aef8-4e47-9c0a-ad2119ffd524",
   "metadata": {},
   "source": [
    "$$\n",
    "df(i)=\\sum_{j=-(K+1)/2}^{(K+1)/2}c_js_{j+i}.\n",
    "$$\n",
    "Note here $df$ represents a derivative. The specific order of derivative is determined by the choice of coefficients $c_j$."
   ]
  },
  {
   "cell_type": "code",
   "execution_count": 9,
   "id": "d9fbdca1-dc77-4bc3-9383-30bac8718fc4",
   "metadata": {},
   "outputs": [],
   "source": [
    "(**\n",
    " * Derivatives of grid function expressed using neighboring grid function values\n",
    " *)\n",
    "ds[i_, accuracyOrd_] := Module[{i0 = Quotient[accuracyOrd, 2]}, Sum[Subscript[c, j] s[i + j], {j, -i0, i0}]];"
   ]
  },
  {
   "cell_type": "markdown",
   "id": "a08a3afc-6d05-4362-a929-9c9476c1a8fc",
   "metadata": {},
   "source": [
    "For example"
   ]
  },
  {
   "cell_type": "code",
   "execution_count": 11,
   "id": "1ed3606c-6dcc-4364-8199-704bb7d9b11e",
   "metadata": {},
   "outputs": [
    {
     "data": {
      "text/html": [
       "<div><img alt=\"Output\" src=\"data:image/png;base64,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\"></div>"
      ],
      "text/plain": [
       "c   f   + c   f   + c  f   + c  f  + c  f\n",
       " -2  -3    -1  -2    0  -1    1  0    2  1\n",
       "\n",
       "c   f   + c   f   + c  f  + c  f  + c  f\n",
       " -2  -2    -1  -1    0  0    1  1    2  2\n",
       "\n",
       "c   f   + c   f  + c  f  + c  f  + c  f\n",
       " -2  -1    -1  0    0  1    1  2    2  3"
      ]
     },
     "execution_count": 11,
     "metadata": {
      "text/html": [],
      "text/plain": []
     },
     "output_type": "execute_result"
    }
   ],
   "source": [
    "{ds[-1, 4], ds[0, 4], ds[1, 4]} // MatrixForm"
   ]
  },
  {
   "cell_type": "markdown",
   "id": "935910f5-7d3f-4459-8d37-37c4f11522db",
   "metadata": {},
   "source": [
    "## Hermite Interpolation"
   ]
  },
  {
   "cell_type": "code",
   "execution_count": 12,
   "id": "3874db9d-d0e6-48ab-bdc7-34b024063569",
   "metadata": {},
   "outputs": [],
   "source": [
    "H[x_, ord_] = Sum[Subscript[h, i] x^i, {i, 0, ord}];"
   ]
  },
  {
   "cell_type": "code",
   "execution_count": 13,
   "id": "a463672a-1e63-4406-ba9f-8c8e977b2c93",
   "metadata": {},
   "outputs": [
    {
     "data": {
      "text/html": [
       "<div><img alt=\"Output\" src=\"data:image/png;base64,iVBORw0KGgoAAAANSUhEUgAAAR8AAAAhCAIAAABvMjhzAAAA0npUWHRSYXcgcHJvZmlsZSB0eXBlIGV4aWYAAHjabU9BDgMhCLz7ij5BAQd9jrurSX/Q5xfUptmmJMsMw4BL6K/nCA8PSjFI1oIKRAupUqkZKXHFwhTrzKsYm6W7HuhjaCblbwN968ddVyyk8rMo0iLsLxhn2QN7EdPSU1v1sf3USrktGueYsY+Zvf3rf2thJWQkFctCURXVeAlGDZApZsXACZgx4aIop2GHqo1B3cHNBz2o693dA9iEy09g/zI3Q7VM9rQraXKynJjosq5Mj5/zBqafXGELii35AAAACXBIWXMAABYlAAAWJQFJUiTwAAAAPHRFWHRTb2Z0d2FyZQBDcmVhdGVkIHdpdGggdGhlIFdvbGZyYW0gTGFuZ3VhZ2UgOiB3d3cud29sZnJhbS5jb21coqaFAAAAIXRFWHRDcmVhdGlvbiBUaW1lADIwMjU6MDc6MjcgMjE6MjI6MTIbC5Q8AAAK7ElEQVR4Xu2cZYwUSxCAuUOChoe7u7u7u+sPIHhwJ8DDPcEdgjsECAR3h+Du7hbcIdj7eE36ze3eu+mZ3R12h5kfl92+6uqq6q7qstmgHz9+hHMeRwKOBHwggWAf4HRQOhJwJPBTAo522eccfP369fz5848fP7YPSx5wgjQuXLhw69YtPniAxqOpjnZ5JD4/mXz79u3KlSvHjBkzW7ZsiRIlSp8+/c6dO/2ENuvJuHLlCtKIESNG1qxZU6dOnTBhwjFjxlhPBisGOXHXb5G7Fxe9dOlSkSJF2Me2bduiXdu3b1+1atX379/Pnj3L2fLiQgGB6uPHj3D94cOHdu3a5cmT5+LFi3Pnzr1z586cOXOaN29uNQvsivMEtAS+ffs2ZMiQGzduSC5GjhzJMRo9enRA82Wa+KNHj967d09O37hxI9KoXr26aYSmJzqeodXmzOvrBQcH9+/fX3tNVahQgVUePnzo9bUCAmG+fPmSJk0qSU2WLBmfkydPbj3xv7SrU6dOOXPm5K/1FFi84p/A6fHjx5Fq3rx5dWVrb2m8f/9+3bp19erVixQpEo6irjTIgqAFPDjbusAqAL+0C3RnzpwhwaIyJ6BhbM/pq1evhg4dSihfpUoV3Z2ysTSyZ88ePXr0GjVq4DmjNpkyZdKVBqJDC3gI23SBVQAcz1BFSgEDQzKD2J2oY8qUKaQQA4ZuHxDaqlWrDh06kO8hIq1WrRq1Ch8sooPS0S7rZe6rFVGtpk2brlmzhjCsTp06vlomQPB27Nhx8uTJBw4c2L9///3792vXrm094Y52WS9zn6yI/9OsWbNFixYRYJBC9MkagYmU66t8+fLXrl0jL28xByG0KygoSC7/6NGjI0eOvHz50mKCrFnOZpxS5KlVq9bChQu7des2depUozK0kzTevn07YMCAd+/eSSF8+vSJuCtixIjx4sVTlIwUCH0epIjQTIyX4lwtWAjtihw5MugGDRpEUTJx4sQFCxaMHTs2f8FuArXXp8yePfuvf58lS5a4IMcjYhyaFdPQduL09evXZcuWXb9+ffz48WlQ+Fvz2EManElyEuwvqXZURbv1RFPoDP/q3bu3GMcxJqlDSoMRquoUkYsVK0b3RpMmTaJGjap4Jjkex44dIyMSJ04cFqX3BcGK+qEihl9golLG9vCd/pGSJUuKf2hJSZIkCVyZrqmFOpFb8dSpU4ZwfvnypVChQtAGq9ri6fLlywXN06dP10VoPaeQRNvE06dPdWmTAIY43bVr1/9t+d69e8NeNCCkAQsbNmwQPLZv315y9Pnz5xw5cjCYNm1ariw5vmnTpgIFCqAhYgqZw169egGsK3+CNDEF11pMjxAhApeeFC+BnC4SLUA4rXYJLI0bNyY1zzjOIeorBmfNmmUIry7w0qVLsTq6YC4AEIahgh7ExxHkvw8ePIgVKxYjkKqCTZwnKzmFKowfDpsKeRLGc05VlgsUacBLly5dxK5RwhKsoTN85fTTnOHOLMfj3Llz169fF+dE5ZHaBVpKGlht5vKsXr0ag84g14wKHgkTQrtwN1208/nz59GiRQMvPWyG8OoCm9Mu0K5YsUJIGQeAr3S48Bmf8NmzZ7qLAiDOk5WcmtMuzzm1mTS4fHLlysXeJUiQgL3GcwsfPjxfaftS4VQFRmoXkRFXi3aK9DyfPHmigkrAhNAuOmjcZ+bPnx8eKE2qI1WBNK1dIG/durUwWgTxQlVoCVdZVGqXlZya1i4POVURiLA1gSINwifcPHEa6X/nQ6lSpcg3qHCqAiO169ChQy7weJvCpqPVKqgETIishtbFlO4TpoLPNJXIEfnh7t27N2/edB/39ciECROyZMnClT1u3DjW6tmzZ+nSpQ0tapRTQ8i9COw5pyrEGJUG9pssHJeJCnIvwggHG4Q05pLPIOVGBYI2Sy8uIVC5C0RoQaiKQERNewd9Hu5k6FMm7l+XZ8eOHTRHpkiRIk2aNCxMokaXQzI/AwcOJFsqHpzaN2/eyK98wLvVRSIAokSJUrNmTfGZuLNv376KE8MGC5VTzBhvBxE981+4VlwISC1rHMe1a9dqR0LdDHfkPuJUhYtQpTFx4kR2nJiEq4OQgdqaStOQt6QB2QQCIlThadGiBYGQCi+ew7hLgzsT20dzMKlaWhMJ/suVK3f16lXtWvra5U4ZB47sIjaDN2fmz5+PCalbt+7mzZvD5gFquHnlwy3P5eMyoiiFkydPkh4VwCht165dFSeaAONW5G4k6UcnxE9PWu0hJ6FljXoUSU6XERVMVnKqSw+xN6kFmvFnzpyJxeFIkaTt0aOH7kRvSYOF6G+SbtS0adO81W6ry4I7wKRJkzh46dKlgwwqjQ0aNMCIVKxYMURlTDiIwv+uWrWqu08pbgky9fJfjHBjkI0RI7xqjjdMVUHdHwXSdNxF7hWWIKlEiRJjx44VbKPkiqsb4hScVA5evHgxePBgVtm2bZviKi5gJnKGYPCQUxVSDUnjxIkTWGuJFpNB/pZkmrA76o85aYB/xowZ7AJh9sqVK1OmTMlnAgSUTX3psCFl3EUF2QXy9OnT4qTt2bNH/Iu7QWYvxQiVMQAwiHKu4bsLTwCk3F14CGI9PMP69evTzUVy3IQNMDoFC0p1G31Go8hqQAkYcFF81KbJAeLSVy9EGmUnDHiLOdWlPHfu3J07d5ZgVISKFy+OCcDD153rOQD7K5wU9hpfiY4CvDXCP6TkOXITGLhgaA7WTiRW4lUX7atlhrWLhkhslVBT+gNEflx8JclhgkpDUxYsWLB48WKmYESF9ULHcL7ReV7j0fa/GELrh8D+zykWGjuNH2FBMz77i+vFbZkhQ4ZRo0axX4ULFxbtlHhlNPH8xh1EHXD78ZBJHDRs2FDbb2VYu8QFRVzLL6VQwIVnLk2RUUHxfMokoRqlepagAZyIVqwFMyRIMCSXL18WmXobPAHB6fjx49lxuRE+FTt3Jr+QQSqPgEL6EX369KlUqRLr0g5P1s6nBPwfcnxU7iuaRQhShg0bNm/ePC3kL+0SKRHgdEkUDY7Yrbhx42K0SGqJlgsGDeVGqQzyooTucloAWsVwsrl5iaq140WLFh0xYgQjy5YtQ/ph41Tn1BBtYQNj2LC16gi9wqnKcqalcfjwYQ43m9i9e3eVhbQwRqVBwkzcTsOHD8c7lag4imTk8cdo08PKi0PoySMTgyqKIBaiARJ2GjVqREciKfF+/fqFIMBoRCg6ekWfBA43ET8fyB0x6F6DM4rcb+FFitJ0VsNv+TJHGBVVDCtmjnc6zGGw3yyqf2g4h4SA0HxWgyAHNwzTBSLyRaLHD73irwiEnMfeEqCpj9elcNK2bt36W34Kxj/Fy3Un6q784p2k0HDchSvIa55btmwhNhBYiMRo9S9TpgzBmH9y7lDlLQmgURQAiXz27duXOXNmb6ENRDxE+y4/yUrFAka0BW4zvxZKNYBQh7iLpA02DC+Rfij0TdtwHYjycqeZxB3dnIxzmPD++ckKUWrjVUWSV/bgUZ0LYlreo6PO07JlS/JY5MrE3IwZMxIoquOxASQlYyIuSr4k2Ki74iRTK6NLC7eOu/2/X8gx5wHv3r1b5vXpBKHNxxweP5/Fj7mGehS0vrWfs+BF8jhGoUqDVlovrhIoqOhla9Omjba6xXvGBw8e1NJv5u6SIqbAhRKnSpXKBtbIYcGRgDkJ0MVLZYKkg8hBaB+PtMscNc4sRwJ/iAT+AW/xb448KltsAAAAAElFTkSuQmCC\"></div>"
      ],
      "text/plain": [
       "             2       3\n",
       "h  + x h  + x  h  + x  h\n",
       " 0      1       2       3"
      ]
     },
     "execution_count": 13,
     "metadata": {
      "text/html": [],
      "text/plain": []
     },
     "output_type": "execute_result"
    }
   ],
   "source": [
    "H[x, 3]"
   ]
  },
  {
   "cell_type": "code",
   "execution_count": 14,
   "id": "af730259-5767-435d-9b99-a4de3a004ef9",
   "metadata": {},
   "outputs": [],
   "source": [
    "HermiteInterp[x0_, ord_] := Module[{eqs, i0, fdaccuracy},\n",
    "    i0 = (ord - 1) / 2;\n",
    "    fdaccuracy = ord + 1;\n",
    "    eqs = Flatten@Table[{(D[H[x, ord], {x, fdord}] /. {x -> i}) == (ds[i, fdaccuracy] /. solFD[fdord, fdaccuracy])}, {fdord, 0, i0}, {i, 0, 1}];\n",
    "    hs = Table[Subscript[h, i], {i, 0, ord}];\n",
    "    Return[\n",
    "        (H[x, ord] /. Solve[eqs, hs][[1]] // FullSimplify) /. {x -> x0} // Simplify\n",
    "    ]\n",
    "];"
   ]
  },
  {
   "cell_type": "code",
   "execution_count": 15,
   "id": "120195bc-9f4e-42c8-b49e-4582f5b54ace",
   "metadata": {},
   "outputs": [
    {
     "data": {
      "text/html": [
       "<div><img alt=\"Output\" src=\"data:image/png;base64,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\"></div>"
      ],
      "text/plain": [
       "f  + f\n",
       " 0    1\n",
       "-------\n",
       "   2"
      ]
     },
     "execution_count": 15,
     "metadata": {
      "text/html": [],
      "text/plain": []
     },
     "output_type": "execute_result"
    }
   ],
   "source": [
    "HermiteInterp[1/2, 1]"
   ]
  },
  {
   "cell_type": "code",
   "execution_count": 16,
   "id": "b15871dc-5e60-4c21-91d3-5395b0c4922c",
   "metadata": {},
   "outputs": [
    {
     "data": {
      "text/html": [
       "<div><img alt=\"Output\" src=\"data:image/png;base64,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\"></div>"
      ],
      "text/plain": [
       "f   - 9 f   + 56 f  + 56 f  - 9 f  + f\n",
       " -2      -1       0       1      2    3\n",
       "---------------------------------------\n",
       "                  96"
      ]
     },
     "execution_count": 16,
     "metadata": {
      "text/html": [],
      "text/plain": []
     },
     "output_type": "execute_result"
    }
   ],
   "source": [
    "HermiteInterp[1/2, 3]"
   ]
  },
  {
   "cell_type": "code",
   "execution_count": 17,
   "id": "19774b15-c3d6-4cba-88bf-da6dcb560a94",
   "metadata": {},
   "outputs": [
    {
     "data": {
      "text/html": [
       "<div><img alt=\"Output\" src=\"data:image/png;base64,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\"></div>"
      ],
      "text/plain": [
       "-28 f   + 275 f   - 1377 f   + 6890 f  + 6890 f  - 1377 f  + 275 f  - 28 f\n",
       "     -3        -2         -1         0         1         2        3       4\n",
       "---------------------------------------------------------------------------\n",
       "                                   11520"
      ]
     },
     "execution_count": 17,
     "metadata": {
      "text/html": [],
      "text/plain": []
     },
     "output_type": "execute_result"
    }
   ],
   "source": [
    "HermiteInterp[1/2, 5]"
   ]
  },
  {
   "cell_type": "code",
   "execution_count": 18,
   "id": "ef91e08c-a66b-4bae-97ad-563ff6fc96d6",
   "metadata": {},
   "outputs": [
    {
     "data": {
      "text/html": [
       "<div><img alt=\"Output\" src=\"data:image/png;base64,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\"></div>"
      ],
      "text/plain": [
       "(689 f   - 7973 f   + 44650 f   - 173642 f   + 781396 f  + 781396 f  - 173642 f  + \n",
       "      -4         -3          -2           -1           0           1           2\n",
       " \n",
       ">     44650 f  - 7973 f  + 689 f ) / 1290240\n",
       "             3         4        5"
      ]
     },
     "execution_count": 18,
     "metadata": {
      "text/html": [],
      "text/plain": []
     },
     "output_type": "execute_result"
    }
   ],
   "source": [
    "HermiteInterp[1/2, 7]"
   ]
  }
 ],
 "metadata": {
  "kernelspec": {
   "display_name": "Wolfram Language 14.1",
   "language": "Wolfram Language",
   "name": "wolframlanguage14.1"
  },
  "language_info": {
   "codemirror_mode": "mathematica",
   "file_extension": ".m",
   "mimetype": "application/vnd.wolfram.m",
   "name": "Wolfram Language",
   "pygments_lexer": "mathematica",
   "version": "12.0"
  }
 },
 "nbformat": 4,
 "nbformat_minor": 5
}
