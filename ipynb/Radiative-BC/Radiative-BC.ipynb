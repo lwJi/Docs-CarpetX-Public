{
 "cells": [
  {
   "cell_type": "markdown",
   "id": "cbf6194b-35aa-456d-bd97-10f5766b5b9c",
   "metadata": {},
   "source": [
    "# Radiative Boundary Conditions"
   ]
  },
  {
   "cell_type": "code",
   "execution_count": 1,
   "id": "79b9fcbd-0aaf-4934-beff-c2aae5e761af",
   "metadata": {},
   "outputs": [
    {
     "name": "stdout",
     "output_type": "stream",
     "text": [
      "------------------------------------------------------------\n",
      "Package xAct`xPerm`  version 1.2.3, {2015, 8, 23}\n",
      "CopyRight (C) 2003-2020, Jose M. Martin-Garcia, under the General Public\\\n",
      " \n",
      ">   License.\n",
      "Connecting to external mac executable...\n",
      "Connection established.\n",
      "------------------------------------------------------------\n",
      "Package xAct`xTensor`  version 1.2.0, {2021, 10, 17}\n",
      "CopyRight (C) 2002-2021, Jose M. Martin-Garcia, under the General Public\\\n",
      " \n",
      ">   License.\n",
      "------------------------------------------------------------\n",
      "Package xAct`xPert`  version 1.0.6, {2018, 2, 28}\n",
      "CopyRight (C) 2005-2020, David Brizuela, Jose M. Martin-Garcia and Guillermo\\\n",
      " \n",
      ">   A. Mena Marugan, under the General Public License.\n",
      "** Variable $PrePrint assigned value ScreenDollarIndices\n",
      "** Variable Prefix changed from Prefix to Postfix\n",
      "** Option AllowUpperDerivatives of ContractMetric changed from False to True\n",
      "** Option MetricOn of MakeRule changed from None to All\n",
      "** Option ContractMetrics of MakeRule changed from False to True\n",
      "------------------------------------------------------------\n",
      "Package xAct`Invar`  version 2.0.5, {2013, 7, 1}\n",
      "CopyRight (C) 2006-2020, J. M. Martin-Garcia, D. Yllanes and R. Portugal,\\\n",
      " \n",
      ">   under the General Public License.\n",
      "** DefConstantSymbol: Defining constant symbol sigma. \n",
      "** DefConstantSymbol: Defining constant symbol dim. \n",
      "** Option CurvatureRelations of DefCovD changed from True to False\n",
      "** Variable True changed from True to False\n",
      "------------------------------------------------------------\n",
      "Package xAct`xCoba`  version 0.8.6, {2021, 2, 28}\n",
      "CopyRight (C) 2005-2021, David Yllanes and Jose M. Martin-Garcia, under the\\\n",
      " \n",
      ">   General Public License.\n",
      "------------------------------------------------------------\n",
      "Package xAct`SymManipulator`  version 0.9.5, {2021, 9, 14}\n",
      "CopyRight (C) 2011-2021, Thomas Ba\"ckdahl, under the General Public License.\n",
      "------------------------------------------------------------\n",
      "Package xAct`xTras`  version 1.4.2, {2014, 10, 30}\n",
      "CopyRight (C) 2012-2014, Teake Nutma, under the General Public License.\n",
      "** Variable Postfix changed from Postfix to Prefix\n",
      "** Option CurvatureRelations of DefCovD changed from False to True\n",
      "------------------------------------------------------------\n",
      "These packages come with ABSOLUTELY NO WARRANTY; for details type\\\n",
      " \n",
      ">   Disclaimer[]. This is free software, and you are welcome to redistribute\\\n",
      " \n",
      ">   it under certain conditions. See the General Public License for details.\n",
      "------------------------------------------------------------\n"
     ]
    }
   ],
   "source": [
    "<< xAct`xTras`"
   ]
  },
  {
   "cell_type": "markdown",
   "id": "d4532faa-f20b-4d51-b478-9c087ef63ac6",
   "metadata": {},
   "source": [
    "#### Define Symbols"
   ]
  },
  {
   "cell_type": "code",
   "execution_count": 7,
   "id": "23130a6a-0bad-41c8-860a-19b37bbda4bc",
   "metadata": {},
   "outputs": [
    {
     "name": "stdout",
     "output_type": "stream",
     "text": [
      "** DefConstantSymbol: Defining constant symbol v1. \n",
      "** DefConstantSymbol: Defining constant symbol v2. \n",
      "** DefConstantSymbol: Defining constant symbol v3. \n",
      "** DefConstantSymbol: Defining constant symbol s1. \n",
      "** DefConstantSymbol: Defining constant symbol s2. \n",
      "** DefConstantSymbol: Defining constant symbol s3. \n"
     ]
    }
   ],
   "source": [
    "Do[DefConstantSymbol[ToExpression[\"v\" <> ToString[ii]], PrintAs -> ToString[Subscript[\"v\", ToString[ii]], FormatType -> StandardForm]], {ii, 1, 3}];\n",
    "Do[DefConstantSymbol[ToExpression[\"s\" <> ToString[ii]], PrintAs -> ToString[Subscript[\"s\", ToString[ii]], FormatType -> StandardForm]], {ii, 1, 3}];"
   ]
  },
  {
   "cell_type": "markdown",
   "id": "2254dbe1-7716-44d5-b31f-ff25ede2f629",
   "metadata": {},
   "source": [
    "## Scalar Waves"
   ]
  },
  {
   "cell_type": "markdown",
   "id": "3db5fcbd-c4f2-4f5b-949b-9030fc6d9485",
   "metadata": {},
   "source": [
    "$$\n",
    "\\begin{align}\n",
    "  \\partial_t{u}\n",
    "  &=\\rho, \\\\\n",
    "  \\partial_t{\\rho}\n",
    "  &=\\partial_kv_k, \\\\\n",
    "  \\partial_t{v_k}\n",
    "  &=\\partial_k \\rho.\n",
    "\\end{align}\n",
    "$$"
   ]
  },
  {
   "cell_type": "markdown",
   "id": "9d0b8713-33df-45b1-8019-31b806e8c01a",
   "metadata": {},
   "source": [
    "where $v_k\\equiv\\partial_ku$."
   ]
  },
  {
   "cell_type": "code",
   "execution_count": 9,
   "id": "52bf31b9-f4de-4db0-8f85-eddbcdaedf31",
   "metadata": {},
   "outputs": [
    {
     "data": {
      "text/html": [
       "<div><img alt=\"Output\" src=\"data:image/png;base64,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\"></div>"
      ],
      "text/plain": [
       "u\n",
       "\n",
       "ρ\n",
       "\n",
       "v1\n",
       "\n",
       "v2\n",
       "\n",
       "v3"
      ]
     },
     "execution_count": 10,
     "metadata": {
      "text/html": [],
      "text/plain": []
     },
     "output_type": "execute_result"
    }
   ],
   "source": [
    "U = {u, \\[Rho], v1, v2, v3};\n",
    "U//MatrixForm"
   ]
  },
  {
   "cell_type": "markdown",
   "id": "1a5564dc-6d4c-4657-aa5a-6c5dba48dd6d",
   "metadata": {},
   "source": [
    "#### Replacement Rules"
   ]
  },
  {
   "cell_type": "code",
   "execution_count": 2,
   "id": "2f1d7b12-69de-4cfe-a179-53b9ec655da4",
   "metadata": {},
   "outputs": [
    {
     "data": {
      "text/html": [
       "<div><img alt=\"Output\" src=\"data:image/png;base64,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\"></div>"
      ],
      "text/plain": [
       "   2     2     2          2     2     2\n",
       "{sx  + sy  + sz  -> 1, -sx  - sy  - sz  -> -1, sx vx + sy vy + sz vz -> sv, \n",
       " \n",
       ">   -(sx vx) - sy vy - sz vz -> -sv}"
      ]
     },
     "execution_count": 2,
     "metadata": {
      "text/html": [],
      "text/plain": []
     },
     "output_type": "execute_result"
    }
   ],
   "source": [
    "cnd = {\n",
    "    sx^2+sy^2+sz^2 -> 1,\n",
    "    -sx^2-sy^2-sz^2 -> -1,\n",
    "    sx vx+sy vy+sz vz -> sv,\n",
    "    -sx vx-sy vy-sz vz -> -sv\n",
    "}"
   ]
  },
  {
   "cell_type": "markdown",
   "id": "c4050f2c-2afa-40fc-afe8-eb2f546f4efe",
   "metadata": {},
   "source": [
    "### Characteristic matrix with respect to normal $s_i$: $A^{\\mathbf{s}\\alpha}{}_\\beta$"
   ]
  },
  {
   "cell_type": "code",
   "execution_count": 3,
   "id": "645f7e6b-3754-4ef3-a9fe-84b695e934fb",
   "metadata": {},
   "outputs": [
    {
     "data": {
      "text/html": [
       "<div><img alt=\"Output\" src=\"data:image/png;base64,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\"></div>"
      ],
      "text/plain": [
       "0     0     0     0     0\n",
       "\n",
       "0     0     -sx   -sy   -sz\n",
       "\n",
       "0     -sx   0     0     0\n",
       "\n",
       "0     -sy   0     0     0\n",
       "\n",
       "0     -sz   0     0     0"
      ]
     },
     "execution_count": 4,
     "metadata": {
      "text/html": [],
      "text/plain": []
     },
     "output_type": "execute_result"
    }
   ],
   "source": [
    "As = {\n",
    "    {0, 0, 0, 0, 0},\n",
    "    {0, 0, -sx, -sy, -sz},\n",
    "    {0, -sx, 0, 0, 0},\n",
    "    {0, -sy, 0, 0, 0},\n",
    "    {0, -sz, 0, 0, 0}\n",
    "};\n",
    "As//MatrixForm"
   ]
  },
  {
   "cell_type": "code",
   "execution_count": 5,
   "id": "679af6c7-b9a3-40be-a2dc-5221a83601fa",
   "metadata": {},
   "outputs": [
    {
     "data": {
      "text/html": [
       "<div><img alt=\"Output\" src=\"data:image/png;base64,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\"></div>"
      ],
      "text/plain": [
       "0\n",
       "\n",
       "-sv\n",
       "\n",
       "-(sx ρ)\n",
       "\n",
       "-(sy ρ)\n",
       "\n",
       "-(sz ρ)"
      ]
     },
     "execution_count": 5,
     "metadata": {
      "text/html": [],
      "text/plain": []
     },
     "output_type": "execute_result"
    }
   ],
   "source": [
    "As.U/.cnd//MatrixForm"
   ]
  },
  {
   "cell_type": "markdown",
   "id": "6a3cf136-4067-4e19-8ab8-d71641f25132",
   "metadata": {},
   "source": [
    "### Characteristic Fields"
   ]
  },
  {
   "cell_type": "markdown",
   "id": "a33e1abd-a960-4c34-9312-1a19bbc2fcbd",
   "metadata": {},
   "source": [
    "$$U^{\\hat{\\alpha}}=e^{\\hat{\\alpha}}{}_\\beta U^{\\beta}$$"
   ]
  },
  {
   "cell_type": "markdown",
   "id": "b2ae3caf-88fb-463d-8e0d-be702991d867",
   "metadata": {},
   "source": [
    "#### Left Eigenvectors"
   ]
  },
  {
   "cell_type": "markdown",
   "id": "0616f3c8-92ad-4a4c-93f0-905daa3a28ad",
   "metadata": {},
   "source": [
    "where $e^{\\hat{\\alpha}}{}_\\beta$ is the **LEFT** eigenvectors of $A^{\\mathbf{s}\\alpha}{}_{\\beta}$\n",
    "$$e^{\\hat{\\alpha}}{}_\\mu A^{\\mathbf{s}\\mu}{}_\\beta=v^{(\\hat{\\alpha})}e^{\\hat{\\alpha}}{}_\\beta$$"
   ]
  },
  {
   "cell_type": "code",
   "execution_count": 6,
   "id": "42819358-5732-4fdb-a39d-ea6b4dcb21ad",
   "metadata": {},
   "outputs": [
    {
     "data": {
      "text/html": [
       "<div><pre style=\"&#102;&#111;&#110;&#116;&#45;&#102;&#97;&#109;&#105;&#108;&#121;&#58;&#32;&#34;&#67;&#111;&#117;&#114;&#105;&#101;&#114;&#32;&#78;&#101;&#119;&#34;&#44;&#67;&#111;&#117;&#114;&#105;&#101;&#114;&#44;&#109;&#111;&#110;&#111;&#115;&#112;&#97;&#99;&#101;&#59;\">&#123;&#48;&#44;&#32;&#48;&#44;&#32;&#48;&#44;&#32;&#45;&#49;&#44;&#32;&#49;&#125;</pre></div>"
      ],
      "text/plain": [
       "{0, 0, 0, -1, 1}"
      ]
     },
     "execution_count": 6,
     "metadata": {
      "text/html": [],
      "text/plain": []
     },
     "output_type": "execute_result"
    }
   ],
   "source": [
    "eValue = Eigenvalues[Transpose[As]]/.cnd"
   ]
  },
  {
   "cell_type": "markdown",
   "id": "f9df3d8b-9171-46f3-a5a4-3def5437a5d1",
   "metadata": {},
   "source": [
    "$$\n",
    "\\begin{align}\n",
    "  \\begin{array}{lll}\n",
    "    U^{\\hat{0}}    &=u, \\quad                          &\\text{speed} \\quad 0, \\\\\n",
    "    U^{\\hat{1}\\pm} &=\\rho\\mp\\mathbf{s}\\cdot\\mathbf{v},         &\\text{speed} \\quad \\pm 1, \\\\\n",
    "    U^{\\hat{2}}    &=\\mathbf{v}-\\mathbf{s}(\\mathbf{s}\\cdot\\mathbf{v}), &\\text{speed} \\quad 0.\n",
    "  \\end{array}\n",
    "\\end{align}\n",
    "$$"
   ]
  },
  {
   "cell_type": "code",
   "execution_count": 7,
   "id": "a2cdc0d4-8c85-40ec-b405-58c4610acd35",
   "metadata": {},
   "outputs": [
    {
     "data": {
      "text/html": [
       "<div><img alt=\"Output\" src=\"data:image/png;base64,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\"></div>"
      ],
      "text/plain": [
       "\n",
       "1          0          0          0          0\n",
       "\n",
       "\n",
       "0          1          -sx        -sy        -sz\n",
       "\n",
       "\n",
       "0          1          sx         sy         sz\n",
       "\n",
       "                            2\n",
       "0          0          1 - sx     -(sx sy)   -(sx sz)\n",
       "\n",
       "                                       2\n",
       "0          0          -(sx sy)   1 - sy     -(sy sz)\n",
       "\n",
       "                                                  2\n",
       "0          0          -(sx sz)   -(sy sz)   1 - sz"
      ]
     },
     "execution_count": 8,
     "metadata": {
      "text/html": [],
      "text/plain": []
     },
     "output_type": "execute_result"
    }
   ],
   "source": [
    "eLeftVector = {\n",
    "    {1, 0, 0, 0, 0},\n",
    "    {0, 1, -sx, -sy, -sz},\n",
    "    {0, 1, sx, sy, sz},\n",
    "    {0, 0, 1-sx sx, -sx sy, -sx sz},\n",
    "    {0, 0, -sy sx, 1-sy sy, -sy sz},\n",
    "    {0, 0, -sz sx, -sz sy, 1-sz sz}\n",
    "};\n",
    "eLeftVector//MatrixForm"
   ]
  },
  {
   "cell_type": "code",
   "execution_count": 9,
   "id": "336be585-2eca-4f21-aa6b-8b55eeabcd2a",
   "metadata": {},
   "outputs": [
    {
     "data": {
      "text/html": [
       "<div><pre style=\"&#102;&#111;&#110;&#116;&#45;&#102;&#97;&#109;&#105;&#108;&#121;&#58;&#32;&#34;&#67;&#111;&#117;&#114;&#105;&#101;&#114;&#32;&#78;&#101;&#119;&#34;&#44;&#67;&#111;&#117;&#114;&#105;&#101;&#114;&#44;&#109;&#111;&#110;&#111;&#115;&#112;&#97;&#99;&#101;&#59;\">&#123;&#48;&#44;&#32;&#48;&#44;&#32;&#48;&#44;&#32;&#48;&#44;&#32;&#48;&#125;</pre></div>"
      ],
      "text/plain": [
       "{0, 0, 0, 0, 0}"
      ]
     },
     "execution_count": 9,
     "metadata": {
      "text/html": [],
      "text/plain": []
     },
     "output_type": "execute_result"
    }
   ],
   "source": [
    "eLeftVector[[1]].As - eLeftVector[[1]]eValue[[1]]"
   ]
  },
  {
   "cell_type": "code",
   "execution_count": 10,
   "id": "00c5b255-cd83-4a08-8b3d-ea9a6b1c6b4b",
   "metadata": {},
   "outputs": [
    {
     "data": {
      "text/html": [
       "<div><pre style=\"&#102;&#111;&#110;&#116;&#45;&#102;&#97;&#109;&#105;&#108;&#121;&#58;&#32;&#34;&#67;&#111;&#117;&#114;&#105;&#101;&#114;&#32;&#78;&#101;&#119;&#34;&#44;&#67;&#111;&#117;&#114;&#105;&#101;&#114;&#44;&#109;&#111;&#110;&#111;&#115;&#112;&#97;&#99;&#101;&#59;\">&#123;&#48;&#44;&#32;&#48;&#44;&#32;&#48;&#44;&#32;&#48;&#44;&#32;&#48;&#125;</pre></div>"
      ],
      "text/plain": [
       "{0, 0, 0, 0, 0}"
      ]
     },
     "execution_count": 10,
     "metadata": {
      "text/html": [],
      "text/plain": []
     },
     "output_type": "execute_result"
    }
   ],
   "source": [
    "eLeftVector[[2]].As - eLeftVector[[2]]eValue[[5]]/.cnd"
   ]
  },
  {
   "cell_type": "code",
   "execution_count": 11,
   "id": "3d3e90d8-700b-46e8-9a40-23e6cde54e4f",
   "metadata": {},
   "outputs": [
    {
     "data": {
      "text/html": [
       "<div><pre style=\"&#102;&#111;&#110;&#116;&#45;&#102;&#97;&#109;&#105;&#108;&#121;&#58;&#32;&#34;&#67;&#111;&#117;&#114;&#105;&#101;&#114;&#32;&#78;&#101;&#119;&#34;&#44;&#67;&#111;&#117;&#114;&#105;&#101;&#114;&#44;&#109;&#111;&#110;&#111;&#115;&#112;&#97;&#99;&#101;&#59;\">&#123;&#48;&#44;&#32;&#48;&#44;&#32;&#48;&#44;&#32;&#48;&#44;&#32;&#48;&#125;</pre></div>"
      ],
      "text/plain": [
       "{0, 0, 0, 0, 0}"
      ]
     },
     "execution_count": 11,
     "metadata": {
      "text/html": [],
      "text/plain": []
     },
     "output_type": "execute_result"
    }
   ],
   "source": [
    "eLeftVector[[3]].As - eLeftVector[[3]]eValue[[4]]/.cnd"
   ]
  },
  {
   "cell_type": "code",
   "execution_count": 12,
   "id": "45cb2405-5e0b-4196-8494-76e37bf0d771",
   "metadata": {},
   "outputs": [
    {
     "data": {
      "text/html": [
       "<div><pre style=\"&#102;&#111;&#110;&#116;&#45;&#102;&#97;&#109;&#105;&#108;&#121;&#58;&#32;&#34;&#67;&#111;&#117;&#114;&#105;&#101;&#114;&#32;&#78;&#101;&#119;&#34;&#44;&#67;&#111;&#117;&#114;&#105;&#101;&#114;&#44;&#109;&#111;&#110;&#111;&#115;&#112;&#97;&#99;&#101;&#59;\">&#123;&#123;&#48;&#44;&#32;&#48;&#44;&#32;&#48;&#44;&#32;&#48;&#44;&#32;&#48;&#125;&#44;&#32;&#123;&#48;&#44;&#32;&#48;&#44;&#32;&#48;&#44;&#32;&#48;&#44;&#32;&#48;&#125;&#44;&#32;&#123;&#48;&#44;&#32;&#48;&#44;&#32;&#48;&#44;&#32;&#48;&#44;&#32;&#48;&#125;&#125;</pre></div>"
      ],
      "text/plain": [
       "{{0, 0, 0, 0, 0}, {0, 0, 0, 0, 0}, {0, 0, 0, 0, 0}}"
      ]
     },
     "execution_count": 12,
     "metadata": {
      "text/html": [],
      "text/plain": []
     },
     "output_type": "execute_result"
    }
   ],
   "source": [
    "Table[(eLeftVector[[i]].As - eLeftVector[[i]]eValue[[1]]//Simplify)/.cnd, {i,4,6}]"
   ]
  },
  {
   "cell_type": "code",
   "execution_count": 13,
   "id": "615876e0-6ca1-4d04-847a-650968d3c8a2",
   "metadata": {},
   "outputs": [
    {
     "data": {
      "text/html": [
       "<div><img alt=\"Output\" src=\"data:image/png;base64,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\"></div>"
      ],
      "text/plain": [
       "\n",
       "u\n",
       "\n",
       "\n",
       "-sv + ρ\n",
       "\n",
       "\n",
       "sv + ρ\n",
       "\n",
       "       2\n",
       "(1 - sx ) vx - sx sy vy - sx sz vz\n",
       "\n",
       "                     2\n",
       "-(sx sy vx) + (1 - sy ) vy - sy sz vz\n",
       "\n",
       "                                2\n",
       "-(sx sz vx) - sy sz vy + (1 - sz ) vz"
      ]
     },
     "execution_count": 13,
     "metadata": {
      "text/html": [],
      "text/plain": []
     },
     "output_type": "execute_result"
    }
   ],
   "source": [
    "(eLeftVector.U)/.cnd//MatrixForm"
   ]
  },
  {
   "cell_type": "markdown",
   "id": "9e04720a-c9d2-45fd-a2f5-f075a2ff8b6a",
   "metadata": {},
   "source": [
    "#### Right Eigenvectors (left inverse of Left Eigenvectors)"
   ]
  },
  {
   "cell_type": "markdown",
   "id": "6274eb02-283c-43a0-a7d9-d74d3c091854",
   "metadata": {},
   "source": [
    "and $e^{\\alpha}{}_{\\hat{\\beta}}$ is the **RIGHT** eigenvector of $A^{\\mathbf{s}\\alpha}{}_{\\beta}$\n",
    "$$A^{\\mathbf{s}\\alpha}{}_\\mu e^{\\mu}{}_{\\hat{\\beta}} =v_{(\\hat{\\beta})}e^{\\alpha}{}_{\\hat{\\beta}}$$"
   ]
  },
  {
   "cell_type": "code",
   "execution_count": 47,
   "id": "6f600695-fc9e-49e3-9a12-f41c90038613",
   "metadata": {},
   "outputs": [
    {
     "data": {
      "text/html": [
       "<div><img alt=\"Output\" src=\"data:image/png;base64,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\"></div>"
      ],
      "text/plain": [
       "\n",
       "\n",
       "1         0         0         0         0         0\n",
       "\n",
       "          1         1\n",
       "          -         -\n",
       "0         2         2         0         0         0\n",
       "\n",
       "            1       sx\n",
       "          -(-) sx   --\n",
       "0           2       2         1         0         0\n",
       "\n",
       "            1       sy\n",
       "          -(-) sy   --\n",
       "0           2       2         0         1         0\n",
       "\n",
       "            1       sz\n",
       "          -(-) sz   --\n",
       "0           2       2         0         0         1"
      ]
     },
     "execution_count": 49,
     "metadata": {
      "text/html": [],
      "text/plain": []
     },
     "output_type": "execute_result"
    }
   ],
   "source": [
    "(*eRightVector = PseudoInverse[eLeftVector]*)\n",
    "eRightVector = {\n",
    "    {1, 0, 0, 0, 0, 0},\n",
    "    {0, 1/2, 1/2, 0, 0, 0},\n",
    "    {0, -sx/2, sx/2, 1, 0, 0},\n",
    "    {0, -sy/2, sy/2, 0, 1, 0},\n",
    "    {0, -sz/2, sz/2, 0, 0, 1}\n",
    "};\n",
    "eRightVector//MatrixForm"
   ]
  },
  {
   "cell_type": "markdown",
   "id": "3ce88968-0e3a-4293-b931-2b16b7b1e736",
   "metadata": {},
   "source": [
    "It's left inverse\n",
    "$$e^{\\alpha}{}_{\\hat{\\gamma}}e^{\\hat{\\gamma}}{}_\\beta=\\delta^\\alpha{}_{\\beta}$$"
   ]
  },
  {
   "cell_type": "code",
   "execution_count": 43,
   "id": "9d7e7ac9-25a8-4417-a62e-9cdeb5f863b2",
   "metadata": {},
   "outputs": [
    {
     "data": {
      "text/html": [
       "<div><img alt=\"Output\" src=\"data:image/png;base64,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\"></div>"
      ],
      "text/plain": [
       "1   0   0   0   0\n",
       "\n",
       "0   1   0   0   0\n",
       "\n",
       "0   0   1   0   0\n",
       "\n",
       "0   0   0   1   0\n",
       "\n",
       "0   0   0   0   1"
      ]
     },
     "execution_count": 43,
     "metadata": {
      "text/html": [],
      "text/plain": []
     },
     "output_type": "execute_result"
    }
   ],
   "source": [
    "eRightVector.eLeftVector//Simplify//MatrixForm"
   ]
  },
  {
   "cell_type": "markdown",
   "id": "015404af-d872-4859-968c-ed4c27e6fabf",
   "metadata": {},
   "source": [
    "But not right inverse\n",
    "$$e^{\\hat{\\alpha}}{}_{\\gamma}e^{\\gamma}{}_{\\hat{\\beta}}\\neq \\delta^{\\hat{\\alpha}}{}_{\\hat{\\beta}}$$"
   ]
  },
  {
   "cell_type": "code",
   "execution_count": 46,
   "id": "c3eb4ca2-1678-48af-9700-bc298ae3dfb8",
   "metadata": {},
   "outputs": [
    {
     "data": {
      "text/html": [
       "<div><img alt=\"Output\" src=\"data:image/png;base64,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\"></div>"
      ],
      "text/plain": [
       "\n",
       "1          0          0          0          0          0\n",
       "\n",
       "\n",
       "0          1          0          -sx        -sy        -sz\n",
       "\n",
       "\n",
       "0          0          1          sx         sy         sz\n",
       "\n",
       "                                       2\n",
       "0          0          0          1 - sx     -(sx sy)   -(sx sz)\n",
       "\n",
       "                                                  2\n",
       "0          0          0          -(sx sy)   1 - sy     -(sy sz)\n",
       "\n",
       "                                                             2\n",
       "0          0          0          -(sx sz)   -(sy sz)   1 - sz"
      ]
     },
     "execution_count": 46,
     "metadata": {
      "text/html": [],
      "text/plain": []
     },
     "output_type": "execute_result"
    }
   ],
   "source": [
    "(eLeftVector.eRightVector//Simplify)/.cnd//MatrixForm"
   ]
  },
  {
   "cell_type": "markdown",
   "id": "d187de7b-4bc9-4df5-b2b3-7c9f85d33fbe",
   "metadata": {},
   "source": [
    "### Radiative Boundary Condition"
   ]
  },
  {
   "cell_type": "markdown",
   "id": "8c0a284b-8fc4-40a6-837d-e75e930bfc4c",
   "metadata": {},
   "source": [
    "$$U^{\\hat{1}-}=0$$"
   ]
  }
 ],
 "metadata": {
  "kernelspec": {
   "display_name": "Wolfram Language 13.2",
   "language": "Wolfram Language",
   "name": "wolframlanguage13.2"
  },
  "language_info": {
   "codemirror_mode": "mathematica",
   "file_extension": ".m",
   "mimetype": "application/vnd.wolfram.m",
   "name": "Wolfram Language",
   "pygments_lexer": "mathematica",
   "version": "12.0"
  }
 },
 "nbformat": 4,
 "nbformat_minor": 5
}
