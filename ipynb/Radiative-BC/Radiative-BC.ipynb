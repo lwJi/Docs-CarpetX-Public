{
 "cells": [
  {
   "cell_type": "markdown",
   "id": "cbf6194b-35aa-456d-bd97-10f5766b5b9c",
   "metadata": {},
   "source": [
    "# Radiative Boundary Conditions"
   ]
  },
  {
   "cell_type": "markdown",
   "id": "2254dbe1-7716-44d5-b31f-ff25ede2f629",
   "metadata": {},
   "source": [
    "## Scalar Waves"
   ]
  },
  {
   "cell_type": "markdown",
   "id": "3db5fcbd-c4f2-4f5b-949b-9030fc6d9485",
   "metadata": {},
   "source": [
    "$$\n",
    "\\begin{align}\n",
    "  \\dot{u}\n",
    "  &=\\rho, \\\\\n",
    "  \\dot{\\rho}\n",
    "  &=\\partial_kv_k, \\\\\n",
    "  \\dot{v_k}\n",
    "  &=\\partial_k \\rho.\n",
    "\\end{align}\n",
    "$$"
   ]
  },
  {
   "cell_type": "markdown",
   "id": "9d0b8713-33df-45b1-8019-31b806e8c01a",
   "metadata": {},
   "source": [
    "where $v_k:=\\partial_ku$."
   ]
  },
  {
   "cell_type": "code",
   "execution_count": 1,
   "id": "52bf31b9-f4de-4db0-8f85-eddbcdaedf31",
   "metadata": {},
   "outputs": [
    {
     "data": {
      "text/html": [
       "<div><pre style=\"&#102;&#111;&#110;&#116;&#45;&#102;&#97;&#109;&#105;&#108;&#121;&#58;&#32;&#34;&#67;&#111;&#117;&#114;&#105;&#101;&#114;&#32;&#78;&#101;&#119;&#34;&#44;&#67;&#111;&#117;&#114;&#105;&#101;&#114;&#44;&#109;&#111;&#110;&#111;&#115;&#112;&#97;&#99;&#101;&#59;\">&#123;&#117;&#44;&#32;&#961;&#44;&#32;&#118;&#120;&#44;&#32;&#118;&#121;&#44;&#32;&#118;&#122;&#125;</pre></div>"
      ],
      "text/plain": [
       "{u, ρ, vx, vy, vz}"
      ]
     },
     "execution_count": 1,
     "metadata": {
      "text/html": [],
      "text/plain": []
     },
     "output_type": "execute_result"
    }
   ],
   "source": [
    "U = {u, \\[Rho], vx, vy, vz}"
   ]
  },
  {
   "cell_type": "markdown",
   "id": "1a5564dc-6d4c-4657-aa5a-6c5dba48dd6d",
   "metadata": {},
   "source": [
    "#### Replacement Rules"
   ]
  },
  {
   "cell_type": "code",
   "execution_count": 2,
   "id": "2f1d7b12-69de-4cfe-a179-53b9ec655da4",
   "metadata": {},
   "outputs": [
    {
     "data": {
      "text/html": [
       "<div><img alt=\"Output\" src=\"data:image/png;base64,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\"></div>"
      ],
      "text/plain": [
       "   2     2     2          2     2     2\n",
       "{sx  + sy  + sz  -> 1, -sx  - sy  - sz  -> -1, sx vx + sy vy + sz vz -> sv, \n",
       " \n",
       ">   -(sx vx) - sy vy - sz vz -> -sv}"
      ]
     },
     "execution_count": 2,
     "metadata": {
      "text/html": [],
      "text/plain": []
     },
     "output_type": "execute_result"
    }
   ],
   "source": [
    "cnd = {\n",
    "    sx^2+sy^2+sz^2 -> 1,\n",
    "    -sx^2-sy^2-sz^2 -> -1,\n",
    "    sx vx+sy vy+sz vz -> sv,\n",
    "    -sx vx-sy vy-sz vz -> -sv\n",
    "}"
   ]
  },
  {
   "cell_type": "markdown",
   "id": "c4050f2c-2afa-40fc-afe8-eb2f546f4efe",
   "metadata": {},
   "source": [
    "### Characteristic matrix with respect to normal $s_i$: $A^{\\mathbf{s}\\alpha}{}_\\beta$"
   ]
  },
  {
   "cell_type": "code",
   "execution_count": 3,
   "id": "645f7e6b-3754-4ef3-a9fe-84b695e934fb",
   "metadata": {},
   "outputs": [
    {
     "data": {
      "text/html": [
       "<div><img alt=\"Output\" src=\"data:image/png;base64,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\"></div>"
      ],
      "text/plain": [
       "0     0     0     0     0\n",
       "\n",
       "0     0     -sx   -sy   -sz\n",
       "\n",
       "0     -sx   0     0     0\n",
       "\n",
       "0     -sy   0     0     0\n",
       "\n",
       "0     -sz   0     0     0"
      ]
     },
     "execution_count": 4,
     "metadata": {
      "text/html": [],
      "text/plain": []
     },
     "output_type": "execute_result"
    }
   ],
   "source": [
    "As = {\n",
    "    {0, 0, 0, 0, 0},\n",
    "    {0, 0, -sx, -sy, -sz},\n",
    "    {0, -sx, 0, 0, 0},\n",
    "    {0, -sy, 0, 0, 0},\n",
    "    {0, -sz, 0, 0, 0}\n",
    "};\n",
    "As//MatrixForm"
   ]
  },
  {
   "cell_type": "code",
   "execution_count": 5,
   "id": "679af6c7-b9a3-40be-a2dc-5221a83601fa",
   "metadata": {},
   "outputs": [
    {
     "data": {
      "text/html": [
       "<div><img alt=\"Output\" src=\"data:image/png;base64,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\"></div>"
      ],
      "text/plain": [
       "0\n",
       "\n",
       "-(sx vx) - sy vy - sz vz\n",
       "\n",
       "-(sx ρ)\n",
       "\n",
       "-(sy ρ)\n",
       "\n",
       "-(sz ρ)"
      ]
     },
     "execution_count": 5,
     "metadata": {
      "text/html": [],
      "text/plain": []
     },
     "output_type": "execute_result"
    }
   ],
   "source": [
    "As.U//MatrixForm"
   ]
  },
  {
   "cell_type": "markdown",
   "id": "6a3cf136-4067-4e19-8ab8-d71641f25132",
   "metadata": {},
   "source": [
    "### Characteristic Fields"
   ]
  },
  {
   "cell_type": "markdown",
   "id": "a33e1abd-a960-4c34-9312-1a19bbc2fcbd",
   "metadata": {},
   "source": [
    "$$U^{\\hat{\\alpha}}=e^{\\hat{\\alpha}}{}_\\beta U^{\\beta}$$"
   ]
  },
  {
   "cell_type": "markdown",
   "id": "0616f3c8-92ad-4a4c-93f0-905daa3a28ad",
   "metadata": {},
   "source": [
    "where $e^{\\hat{\\alpha}}{}_\\beta$ is the **LEFT** eigenvectors of $A^{\\mathbf{s}\\alpha}{}_{\\beta}$\n",
    "$$e^{\\hat{\\alpha}}{}_\\mu A^{\\mathbf{s}\\mu}{}_\\beta=v^{(\\hat{\\alpha})}e^{\\hat{\\alpha}}{}_\\beta$$"
   ]
  },
  {
   "cell_type": "markdown",
   "id": "28f8a82f-0483-4314-90df-8df3b5554c70",
   "metadata": {},
   "source": [
    "and $e_{\\hat{\\alpha}}{}^{\\beta}$ is the **RIGHT** eigenvector of $A^{\\mathbf{s}\\alpha}{}_{\\beta}$\n",
    "$$A^{\\mathbf{s}\\alpha}{}_\\mu e_{\\hat{\\beta}}{}^{\\mu} =v_{(\\hat{\\beta})}e_{\\hat{\\beta}}{}^{\\alpha}$$"
   ]
  },
  {
   "cell_type": "code",
   "execution_count": 6,
   "id": "42819358-5732-4fdb-a39d-ea6b4dcb21ad",
   "metadata": {},
   "outputs": [
    {
     "data": {
      "text/html": [
       "<div><pre style=\"&#102;&#111;&#110;&#116;&#45;&#102;&#97;&#109;&#105;&#108;&#121;&#58;&#32;&#34;&#67;&#111;&#117;&#114;&#105;&#101;&#114;&#32;&#78;&#101;&#119;&#34;&#44;&#67;&#111;&#117;&#114;&#105;&#101;&#114;&#44;&#109;&#111;&#110;&#111;&#115;&#112;&#97;&#99;&#101;&#59;\">&#123;&#48;&#44;&#32;&#48;&#44;&#32;&#48;&#44;&#32;&#45;&#49;&#44;&#32;&#49;&#125;</pre></div>"
      ],
      "text/plain": [
       "{0, 0, 0, -1, 1}"
      ]
     },
     "execution_count": 6,
     "metadata": {
      "text/html": [],
      "text/plain": []
     },
     "output_type": "execute_result"
    }
   ],
   "source": [
    "eValue = Eigenvalues[Transpose[As]]/.cnd"
   ]
  },
  {
   "cell_type": "markdown",
   "id": "f9df3d8b-9171-46f3-a5a4-3def5437a5d1",
   "metadata": {},
   "source": [
    "$$\n",
    "\\begin{align}\n",
    "  \\begin{array}{lll}\n",
    "    U^{\\hat{0}}    &=u, \\quad                          &\\text{speed} \\quad 0, \\\\\n",
    "    U^{\\hat{1}\\pm} &=\\rho\\mp\\mathbf{s}\\cdot\\mathbf{v},         &\\text{speed} \\quad \\pm 1, \\\\\n",
    "    U^{\\hat{2}}    &=\\mathbf{v}-\\mathbf{s}(\\mathbf{s}\\cdot\\mathbf{v}), &\\text{speed} \\quad 0.\n",
    "  \\end{array}\n",
    "\\end{align}\n",
    "$$"
   ]
  },
  {
   "cell_type": "code",
   "execution_count": 14,
   "id": "a2cdc0d4-8c85-40ec-b405-58c4610acd35",
   "metadata": {},
   "outputs": [],
   "source": [
    "eLeftVector = {\n",
    "    {1, 0, 0, 0, 0},\n",
    "    {0, 1, -sx, -sy, -sz},\n",
    "    {0, 1, sx, sy, sz},\n",
    "    {0, 0, 1-sx sx, -sx sy, -sx sz},\n",
    "    {0, 0, -sy sx, 1-sy sy, -sy sz},\n",
    "    {0, 0, -sz sx, -sz sy, 1-sz sz}\n",
    "};"
   ]
  },
  {
   "cell_type": "code",
   "execution_count": 15,
   "id": "336be585-2eca-4f21-aa6b-8b55eeabcd2a",
   "metadata": {},
   "outputs": [
    {
     "data": {
      "text/html": [
       "<div><pre style=\"&#102;&#111;&#110;&#116;&#45;&#102;&#97;&#109;&#105;&#108;&#121;&#58;&#32;&#34;&#67;&#111;&#117;&#114;&#105;&#101;&#114;&#32;&#78;&#101;&#119;&#34;&#44;&#67;&#111;&#117;&#114;&#105;&#101;&#114;&#44;&#109;&#111;&#110;&#111;&#115;&#112;&#97;&#99;&#101;&#59;\">&#123;&#48;&#44;&#32;&#48;&#44;&#32;&#48;&#44;&#32;&#48;&#44;&#32;&#48;&#125;</pre></div>"
      ],
      "text/plain": [
       "{0, 0, 0, 0, 0}"
      ]
     },
     "execution_count": 15,
     "metadata": {
      "text/html": [],
      "text/plain": []
     },
     "output_type": "execute_result"
    }
   ],
   "source": [
    "eLeftVector[[1]].As - eLeftVector[[1]]eValue[[1]]"
   ]
  },
  {
   "cell_type": "code",
   "execution_count": 9,
   "id": "00c5b255-cd83-4a08-8b3d-ea9a6b1c6b4b",
   "metadata": {},
   "outputs": [
    {
     "data": {
      "text/html": [
       "<div><pre style=\"&#102;&#111;&#110;&#116;&#45;&#102;&#97;&#109;&#105;&#108;&#121;&#58;&#32;&#34;&#67;&#111;&#117;&#114;&#105;&#101;&#114;&#32;&#78;&#101;&#119;&#34;&#44;&#67;&#111;&#117;&#114;&#105;&#101;&#114;&#44;&#109;&#111;&#110;&#111;&#115;&#112;&#97;&#99;&#101;&#59;\">&#123;&#48;&#44;&#32;&#48;&#44;&#32;&#48;&#44;&#32;&#48;&#44;&#32;&#48;&#125;</pre></div>"
      ],
      "text/plain": [
       "{0, 0, 0, 0, 0}"
      ]
     },
     "execution_count": 9,
     "metadata": {
      "text/html": [],
      "text/plain": []
     },
     "output_type": "execute_result"
    }
   ],
   "source": [
    "eLeftVector[[2]].As - eLeftVector[[2]]eValue[[5]]/.cnd"
   ]
  },
  {
   "cell_type": "code",
   "execution_count": 10,
   "id": "3d3e90d8-700b-46e8-9a40-23e6cde54e4f",
   "metadata": {},
   "outputs": [
    {
     "data": {
      "text/html": [
       "<div><pre style=\"&#102;&#111;&#110;&#116;&#45;&#102;&#97;&#109;&#105;&#108;&#121;&#58;&#32;&#34;&#67;&#111;&#117;&#114;&#105;&#101;&#114;&#32;&#78;&#101;&#119;&#34;&#44;&#67;&#111;&#117;&#114;&#105;&#101;&#114;&#44;&#109;&#111;&#110;&#111;&#115;&#112;&#97;&#99;&#101;&#59;\">&#123;&#48;&#44;&#32;&#48;&#44;&#32;&#48;&#44;&#32;&#48;&#44;&#32;&#48;&#125;</pre></div>"
      ],
      "text/plain": [
       "{0, 0, 0, 0, 0}"
      ]
     },
     "execution_count": 10,
     "metadata": {
      "text/html": [],
      "text/plain": []
     },
     "output_type": "execute_result"
    }
   ],
   "source": [
    "eLeftVector[[3]].As - eLeftVector[[3]]eValue[[4]]/.cnd"
   ]
  },
  {
   "cell_type": "code",
   "execution_count": 11,
   "id": "45cb2405-5e0b-4196-8494-76e37bf0d771",
   "metadata": {},
   "outputs": [
    {
     "data": {
      "text/html": [
       "<div><pre style=\"&#102;&#111;&#110;&#116;&#45;&#102;&#97;&#109;&#105;&#108;&#121;&#58;&#32;&#34;&#67;&#111;&#117;&#114;&#105;&#101;&#114;&#32;&#78;&#101;&#119;&#34;&#44;&#67;&#111;&#117;&#114;&#105;&#101;&#114;&#44;&#109;&#111;&#110;&#111;&#115;&#112;&#97;&#99;&#101;&#59;\">&#123;&#123;&#48;&#44;&#32;&#48;&#44;&#32;&#48;&#44;&#32;&#48;&#44;&#32;&#48;&#125;&#44;&#32;&#123;&#48;&#44;&#32;&#48;&#44;&#32;&#48;&#44;&#32;&#48;&#44;&#32;&#48;&#125;&#44;&#32;&#123;&#48;&#44;&#32;&#48;&#44;&#32;&#48;&#44;&#32;&#48;&#44;&#32;&#48;&#125;&#125;</pre></div>"
      ],
      "text/plain": [
       "{{0, 0, 0, 0, 0}, {0, 0, 0, 0, 0}, {0, 0, 0, 0, 0}}"
      ]
     },
     "execution_count": 11,
     "metadata": {
      "text/html": [],
      "text/plain": []
     },
     "output_type": "execute_result"
    }
   ],
   "source": [
    "Table[(eLeftVector[[i]].As - eLeftVector[[i]]eValue[[1]]//Simplify)/.cnd, {i,4,6}]"
   ]
  },
  {
   "cell_type": "code",
   "execution_count": 12,
   "id": "615876e0-6ca1-4d04-847a-650968d3c8a2",
   "metadata": {},
   "outputs": [
    {
     "data": {
      "text/html": [
       "<div><img alt=\"Output\" src=\"data:image/png;base64,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\"></div>"
      ],
      "text/plain": [
       "\n",
       "u\n",
       "\n",
       "\n",
       "-sv + ρ\n",
       "\n",
       "\n",
       "sv + ρ\n",
       "\n",
       "       2\n",
       "(1 - sx ) vx - sx sy vy - sx sz vz\n",
       "\n",
       "                     2\n",
       "-(sx sy vx) + (1 - sy ) vy - sy sz vz\n",
       "\n",
       "                                2\n",
       "-(sx sz vx) - sy sz vy + (1 - sz ) vz"
      ]
     },
     "execution_count": 12,
     "metadata": {
      "text/html": [],
      "text/plain": []
     },
     "output_type": "execute_result"
    }
   ],
   "source": [
    "(eLeftVector.U)/.cnd//MatrixForm"
   ]
  },
  {
   "cell_type": "code",
   "execution_count": 21,
   "id": "c60f072f-912b-4f57-9016-cecf47b0bc55",
   "metadata": {},
   "outputs": [
    {
     "data": {
      "text/html": [
       "<div><img alt=\"Output\" src=\"data:image/png;base64,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\"></div>"
      ],
      "text/plain": [
       "          sz                   sy                               1   sx  sy\n",
       "{{0, 0, -(--), 0, 1}, {0, 0, -(--), 1, 0}, {1, 0, 0, 0, 0}, {0, --, --, --, 1}, \n",
       "          sx                   sx                               sz  sz  sz\n",
       " \n",
       "          1    sx  sy\n",
       ">   {0, -(--), --, --, 1}}\n",
       "          sz   sz  sz"
      ]
     },
     "execution_count": 21,
     "metadata": {
      "text/html": [],
      "text/plain": []
     },
     "output_type": "execute_result"
    }
   ],
   "source": [
    "Eigenvectors[Transpose[As]]/.cnd"
   ]
  },
  {
   "cell_type": "code",
   "execution_count": 20,
   "id": "7b0eaf90-4b32-4118-b4be-62dd3692f847",
   "metadata": {},
   "outputs": [
    {
     "data": {
      "text/html": [
       "<div><img alt=\"Output\" src=\"data:image/png;base64,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\"></div>"
      ],
      "text/plain": [
       "          sz                   sy                               1   sx  sy\n",
       "{{0, 0, -(--), 0, 1}, {0, 0, -(--), 1, 0}, {1, 0, 0, 0, 0}, {0, --, --, --, 1}, \n",
       "          sx                   sx                               sz  sz  sz\n",
       " \n",
       "          1    sx  sy\n",
       ">   {0, -(--), --, --, 1}}\n",
       "          sz   sz  sz"
      ]
     },
     "execution_count": 20,
     "metadata": {
      "text/html": [],
      "text/plain": []
     },
     "output_type": "execute_result"
    }
   ],
   "source": [
    "Eigenvectors[As]/.cnd"
   ]
  },
  {
   "cell_type": "markdown",
   "id": "d187de7b-4bc9-4df5-b2b3-7c9f85d33fbe",
   "metadata": {},
   "source": [
    "### Radiative Boundary Condition"
   ]
  },
  {
   "cell_type": "markdown",
   "id": "8c0a284b-8fc4-40a6-837d-e75e930bfc4c",
   "metadata": {},
   "source": [
    "$$U^{\\hat{1}-}=0$$"
   ]
  }
 ],
 "metadata": {
  "kernelspec": {
   "display_name": "Wolfram Language 12.2",
   "language": "Wolfram Language",
   "name": "wolframlanguage12.2"
  },
  "language_info": {
   "codemirror_mode": "mathematica",
   "file_extension": ".m",
   "mimetype": "application/vnd.wolfram.m",
   "name": "Wolfram Language",
   "pygments_lexer": "mathematica",
   "version": "12.0"
  }
 },
 "nbformat": 4,
 "nbformat_minor": 5
}
