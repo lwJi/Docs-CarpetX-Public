{
 "cells": [
  {
   "cell_type": "markdown",
   "id": "cbf6194b-35aa-456d-bd97-10f5766b5b9c",
   "metadata": {},
   "source": [
    "# Radiative Boundary Conditions"
   ]
  },
  {
   "cell_type": "code",
   "execution_count": 1,
   "id": "79b9fcbd-0aaf-4934-beff-c2aae5e761af",
   "metadata": {},
   "outputs": [
    {
     "name": "stdout",
     "output_type": "stream",
     "text": [
      "------------------------------------------------------------\n",
      "Package xAct`xPerm`  version 1.2.3, {2015, 8, 23}\n",
      "CopyRight (C) 2003-2020, Jose M. Martin-Garcia, under the General Public\\\n",
      " \n",
      ">   License.\n",
      "Connecting to external mac executable...\n",
      "Connection established.\n",
      "------------------------------------------------------------\n",
      "Package xAct`xTensor`  version 1.2.0, {2021, 10, 17}\n",
      "CopyRight (C) 2002-2021, Jose M. Martin-Garcia, under the General Public\\\n",
      " \n",
      ">   License.\n",
      "------------------------------------------------------------\n",
      "Package xAct`xPert`  version 1.0.6, {2018, 2, 28}\n",
      "CopyRight (C) 2005-2020, David Brizuela, Jose M. Martin-Garcia and Guillermo\\\n",
      " \n",
      ">   A. Mena Marugan, under the General Public License.\n",
      "** Variable $PrePrint assigned value ScreenDollarIndices\n",
      "** Variable Prefix changed from Prefix to Postfix\n",
      "** Option AllowUpperDerivatives of ContractMetric changed from False to True\n",
      "** Option MetricOn of MakeRule changed from None to All\n",
      "** Option ContractMetrics of MakeRule changed from False to True\n",
      "------------------------------------------------------------\n",
      "Package xAct`Invar`  version 2.0.5, {2013, 7, 1}\n",
      "CopyRight (C) 2006-2020, J. M. Martin-Garcia, D. Yllanes and R. Portugal,\\\n",
      " \n",
      ">   under the General Public License.\n",
      "** DefConstantSymbol: Defining constant symbol sigma. \n",
      "** DefConstantSymbol: Defining constant symbol dim. \n",
      "** Option CurvatureRelations of DefCovD changed from True to False\n",
      "** Variable True changed from True to False\n",
      "------------------------------------------------------------\n",
      "Package xAct`xCoba`  version 0.8.6, {2021, 2, 28}\n",
      "CopyRight (C) 2005-2021, David Yllanes and Jose M. Martin-Garcia, under the\\\n",
      " \n",
      ">   General Public License.\n",
      "------------------------------------------------------------\n",
      "Package xAct`SymManipulator`  version 0.9.5, {2021, 9, 14}\n",
      "CopyRight (C) 2011-2021, Thomas Ba\"ckdahl, under the General Public License.\n",
      "------------------------------------------------------------\n",
      "Package xAct`xTras`  version 1.4.2, {2014, 10, 30}\n",
      "CopyRight (C) 2012-2014, Teake Nutma, under the General Public License.\n",
      "** Variable Postfix changed from Postfix to Prefix\n",
      "** Option CurvatureRelations of DefCovD changed from False to True\n",
      "------------------------------------------------------------\n",
      "These packages come with ABSOLUTELY NO WARRANTY; for details type\\\n",
      " \n",
      ">   Disclaimer[]. This is free software, and you are welcome to redistribute\\\n",
      " \n",
      ">   it under certain conditions. See the General Public License for details.\n",
      "------------------------------------------------------------\n"
     ]
    }
   ],
   "source": [
    "<< xAct`xTras`"
   ]
  },
  {
   "cell_type": "markdown",
   "id": "d4532faa-f20b-4d51-b478-9c087ef63ac6",
   "metadata": {},
   "source": [
    "#### Define Symbols"
   ]
  },
  {
   "cell_type": "code",
   "execution_count": 2,
   "id": "23130a6a-0bad-41c8-860a-19b37bbda4bc",
   "metadata": {},
   "outputs": [
    {
     "name": "stdout",
     "output_type": "stream",
     "text": [
      "** DefConstantSymbol: Defining constant symbol v1. \n",
      "** DefConstantSymbol: Defining constant symbol v2. \n",
      "** DefConstantSymbol: Defining constant symbol v3. \n",
      "** DefConstantSymbol: Defining constant symbol s1. \n",
      "** DefConstantSymbol: Defining constant symbol s2. \n",
      "** DefConstantSymbol: Defining constant symbol s3. \n",
      "** DefConstantSymbol: Defining constant symbol sv. \n"
     ]
    }
   ],
   "source": [
    "Do[DefConstantSymbol[ToExpression[\"v\" <> ToString[ii]], PrintAs -> ToString[Subscript[\"v\", ToString[ii]], FormatType -> StandardForm]], {ii, 1, 3}];\n",
    "Do[DefConstantSymbol[ToExpression[\"s\" <> ToString[ii]], PrintAs -> ToString[Subscript[\"s\", ToString[ii]], FormatType -> StandardForm]], {ii, 1, 3}];\n",
    "DefConstantSymbol[sv, PrintAs -> \"\\*StyleBox[\\(\\!\\(\\*StyleBox[\\\"s\\\",\\nFontWeight->\\\"Bold\\\"]\\)\\[Bullet]\\!\\(\\*StyleBox[\\\"v\\\",\\nFontWeight->\\\"Bold\\\"]\\)\\)]\"];"
   ]
  },
  {
   "cell_type": "markdown",
   "id": "2254dbe1-7716-44d5-b31f-ff25ede2f629",
   "metadata": {},
   "source": [
    "## Scalar Waves"
   ]
  },
  {
   "cell_type": "markdown",
   "id": "3db5fcbd-c4f2-4f5b-949b-9030fc6d9485",
   "metadata": {},
   "source": [
    "$$\n",
    "\\begin{align}\n",
    "  \\partial_t{u}\n",
    "  &=\\rho, \\\\\n",
    "  \\partial_t{\\rho}\n",
    "  &=\\partial_kv_k, \\\\\n",
    "  \\partial_t{v_k}\n",
    "  &=\\partial_k \\rho.\n",
    "\\end{align}\n",
    "$$"
   ]
  },
  {
   "cell_type": "markdown",
   "id": "9d0b8713-33df-45b1-8019-31b806e8c01a",
   "metadata": {},
   "source": [
    "where $v_k\\equiv\\partial_ku$."
   ]
  },
  {
   "cell_type": "code",
   "execution_count": 5,
   "id": "52bf31b9-f4de-4db0-8f85-eddbcdaedf31",
   "metadata": {},
   "outputs": [
    {
     "data": {
      "text/html": [
       "<div><img alt=\"Output\" src=\"data:image/png;base64,iVBORw0KGgoAAAANSUhEUgAAAEoAAACsCAIAAABTr625AAAA0npUWHRSYXcgcHJvZmlsZSB0eXBlIGV4aWYAAHjabU9BDgMhCLz7ij5BAUGfY3c16Q/6/I5K0th0koVxBlgI/f0a4TFBKQbJVrSqRkCqVGogJW7snGJdcUGae+nUQ7tcb5Dy19Du+vPUTXem8jMo0iY8/wDO4g0+iGnryTd5ej21Uo5B4xoLvvDyfPW/b2EjzZpMEIWimVbwEkCRNFPMpkMvVRQmvSnKhdzVDG1qs4LbbJygbmd1D8oQ7nkCz4+5IecVcRUnFvCEV4Nb6AaT5c5zPia/XLvQ0zgSAAAACXBIWXMAABYlAAAWJQFJUiTwAAAAPHRFWHRTb2Z0d2FyZQBDcmVhdGVkIHdpdGggdGhlIFdvbGZyYW0gTGFuZ3VhZ2UgOiB3d3cud29sZnJhbS5jb21coqaFAAAAIXRFWHRDcmVhdGlvbiBUaW1lADIwMjM6MDU6MDMgMTQ6MTA6MjiDp3HqAAALI0lEQVR4nO2daUwTXReAb0tbSgFpsRIQ8RURQ2QRNQKJECMqAhog2EgkSBSNLDEiojEmGkMiiiigMSEoLohgBGRzBSIGcQmiEAWVSkBZXELBsrdCl/v9mKQh0E6n7Uzr+M3zq8y53HOfTjszvWcWGoQQ/LvQTT0AYqH0yAylZwDd3d1cLpfL5T5+/HhWqKurCwnV19cTNwAGcV0DABQKxejoKABAJpNpCsnlcuIGgHXtpaam1tTUEDcOXYmIiOjs7NTaDJNeZ2dnT09PcHCwwaPCjYyMjGPHjmlthknvxIkTaWlpBg8JT9zc3Ph8fmNjI3oz7XpCoXB6etrDwwOngeHG0aNHMzIy0Nto18vJyTlw4ABOQ8KT5cuXm5mZffz4EaWNFj2JRPLixYvAwEADh6JUKg3sQS27du26ceMGSgMtetXV1UFBQXS6nrtHDoeDvBCJRLNCuOwPwsLCqqqqUN47LeN+9OhRUFCQ3ukdHBwYDAYAoKmpaeZykUgUGxurd7cq2Gz28uXL3759q7EFRMXe3n58fBy9DTorV64EALBYrHv37kEIJRLJ48ePly1bphpATU2NIf1nZmampaVpiqLpffv2zd3d3ZDcEMKioiKViZWVFZvNBgDQ6fTs7GwnJyfD9err67ds2aIpiqZXUVEhEAgMyQ0hVCqVWVlZ5ubmiCGdTvfx8amsrIQQrl69GgBQV1dnSP8/fvywt7fXFKVBzb/Wz549Ozw8nJmZaeA3BAAglUq/fPkyMDDg4+PD4/EM71AFhNDCwmJwcNDa2npuFO2Quq+vz83NDZdBWFhYeHt749LVLGg02sKFC3t6ejw9PedG0bac/f39dnZ2RIwJXxYsWPDz50+1ITS9oaEhfD9IBMHj8YaGhtSG0PRGRkbmzZtHzJDwZN68eWKxWG1Ii56lpSUxQ8ITDoczMTGhNoSmJ5FIVBv0vxk2my2RSNSG0PTkcjmLxSJmSHjCYrGmp6fVhtD0ZDKZmZkZMUPCEzqdrukAXcvao9FoxAwJT+h0uqYfDdQ8J5mh9MgMpUdmKD0yQ+mRGUoPb0ZHRzX9fsEd4+l9+/ZNIBAsXLiQy+VaW1u7urqmp6cTWpoFRtOrra319PQUCoVZWVnt7e2NjY07duxIS0tbv349sYYoM6QAgN7eXkPmWBHEYrGDg0NoaKhUKp25/OnTpwCA9PR0A/tPSUk5dOiQ2pAx1l5GRoZUKr127RoyA69i48aNAoHg5s2bxKU2hl5ZWdmePXscHBzmhvz9/b9+/frnzx+CUhOu9/79e2SjojZqbm6uVCo1zZQYDuF6DQ0NNjY2fn5+aqO9vb18Pp+42VTC9Zqbm319fTXVd5uamtzd3YnLbgy9X79+zT0rCQBQV1fX0NCg6XOLC8Tq/f79u7u7u729/dSpU7NC/f39Bw8e9PPzS0pKIm4AxOohVe/09PTz58+fPHlSKBQCAMbHx8vLy1evXi2XywsKCvQ+LwETKLtLYPBuPS0tzcnJCUKYm5uLFJscHR3pdDqDwYiPj5+YmDCkcxUou3Vizwh8+/atr68vACAxMTE+Pr6lpUUoFK5YscLDw8M41Qti9Zqbm48cOYK8ptPpa9euXbt2LaEZZ0Hg5763t1ckEiFrz1QQqDc2NhYWFrZmzRriUmiFwA+np6dndXU1cf1jgZqMIDOUHpmh9MgMpUdmKD0yQ+mRGUqPzFB6ZAYfvZiYGC6Xu27dOrXRvr4+W1tbLpdbVVWFSzrs4KO3bdu20dHR169fv3nzZm40Pz9/eHiYwWAY//pNfPS2b9+O1Lfy8vJmheRy+fXr1wEAcXFxs+p7RgAfPSaTuX//fgBASUnJ8PDwzFB1dfWvX79oNFpCQgIuuXQCt01LfHw8k8mUSqWFhYUzlyPrMzg4eOnSpXjlwg5ueg4ODpGRkQCAK1euqBZ2dXUhV90TWidBAc8dA3KJbUdHx/Pnz5ElV65cgRD+999/oaGhOCbCDp56/v7+yMWIyAqUyWQFBQUAgPj4+LlloMHBwdLS0ri4OCsrq4CAAByHMROcd+vICqyoqBCLxQ8ePBgaGmKxWHv37p3b8saNG1FRUTdv3pycnCTowmGAu150dDSPx5uamioqKrp16xYAQCAQqL2MLDk5WSwWi8Vi1eXDRICzHofDiYuLAwDk5OQ8efIEaN6osNlsHo/H4/EIvVQC/2POxMREOp3e09Mjk8m8vLw0HakZB/z1XFxcQkJCkNem2h+oIKRC9PDhQyK61QPqBxGZ+cf1iD11QBPd3d1lZWXI6+np6R8/fiB3XlmwYIHaYwD9QTlfBOB0uupc5t74CsHV1VWP3kx2XosmQkJCoFHuTfiPf/coPTJD6ZEZSo/MUHpkhtIjM5QemaH0yAylhwGqtk7V1gmAqq1jg6qtmwAT19YHBgY+ffo0NTWF4zBmYrLa+qVLl1xcXOzt7T08PCwtLZOSkgi5TwbK7C/QfZY6Pz8fAGBubv779+/y8nIAAIvFGhgYmNUM2cxs2rTp6tWrFy5cQK4SS0xM1CmXCpRZapz1JicnkYtIL126FBYWBgCIjo6e26ylpeXixYuqP6VSKXIbEKVSqVM6BOPpQQhTU1MBAEuWLGEymQCAly9fYvkv5L0YGRnRNR008i0x9KitQwhbW1tdXV1tbGzwHcxfUVvPycn5/v07zqUvAMDfUFtvamo6fvz4qlWrkE81vpj4B9G7d++Cg4Pt7OyqqqqQm+Pjiyn1mpubg4KCmExmbW3t4sWLiUhhMr3a2trAwEAOh9PY2LhixQqCspimOnvnzp3du3fLZLKdO3cWFxerTplzc3PD5TkNKkyjd/XqVeQWJ9euXZu5fMOGDf+CXkNDg3ESUVNJZIbSIzOUHpmh9MgMpUdmKD0yQ+mRGUqPzPwf19YZDAbEdr66aWvrSqVS000+0fSYTKZCocCSwLS1dYVCoWmOVIsexlsqm7a2LpPJND3MC03PwsICe93UhLX1P3/+aLpCFU2Py+VOTk5izGHC2rpEIrGyslIb0qI3NjaGPY0etfXBwcEPHz6MjIxgzzKXsbExW1tbtSE0PT6fP+uLhA722rpCobh48eLixYvt7Oy8vb15PN7mzZuxPB5eLcPDw3w+X30MpeqZkJAws0SMBYy19ezsbABAYGBgbm5uYWFhVFQUAMDZ2Vkul+uUDsHZ2bmtrU1tCE3vzJkzR48e1SkTxtq6TCa7f//+zCXILYFbW1t1SgchVCqV5ubmY2NjaqNoeuXl5Xo8NVi/2npkZCSLxRKJRLqmQ39qMJre169f9Xjmc1dXl+qb5uXlhd5YoVB0dXUh70hsbKyuuaAhz3yG+j6xe+vWrYheXl4eSrPS0lLVwydPnz6tUCh0TQQhPHfunJ5P7IYQRkdHP3r0SI+sWGhvbz927FhMTMz8+fPNzMyOHz+uRydbtmxpamrSFNWiV1xcnJycrEdWnZiamkI2nsXFxTr9o1QqdXZ2RlntWvQmJyfd3Nz0+9joRFtbGwBg9+7dOv1XSUlJSkoKSgMtv/c4HE5AQMCzZ8/02+Fq4u7du8jBmoqWlhYAgKOjo0793L59G7nBiEa0vkMdHR3h4eE6vanoyOVyV1dXGo0mEAguX75cWVmZmprKZrOtrKw+f/6MvZ/Ozk7kCmoUtOtBCAUCQXt7O/bEWhkZGUlISFi0aJHqXfbz83v16pVOnezbt+/58+fobTDpCYXCyMhInXJjRCQStba2isViXf+xo6MjIiJCazNMehDCw4cPP3nyRNdBEEd4ePiXL1+0NqNBo1z9byqoiUAyQ+mRmX9c739hynNSwqbMjQAAAABJRU5ErkJggg==\"></div>"
      ],
      "text/plain": [
       "u\n",
       "\n",
       "ρ\n",
       "\n",
       "v1\n",
       "\n",
       "v2\n",
       "\n",
       "v3"
      ]
     },
     "execution_count": 6,
     "metadata": {
      "text/html": [],
      "text/plain": []
     },
     "output_type": "execute_result"
    }
   ],
   "source": [
    "U = {u, \\[Rho], v1, v2, v3};\n",
    "U//MatrixForm"
   ]
  },
  {
   "cell_type": "markdown",
   "id": "1a5564dc-6d4c-4657-aa5a-6c5dba48dd6d",
   "metadata": {},
   "source": [
    "#### Replacement Rules"
   ]
  },
  {
   "cell_type": "code",
   "execution_count": 7,
   "id": "2f1d7b12-69de-4cfe-a179-53b9ec655da4",
   "metadata": {},
   "outputs": [
    {
     "data": {
      "text/html": [
       "<div><img alt=\"Output\" src=\"data:image/png;base64,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\"></div>"
      ],
      "text/plain": [
       "   2     2     2          2     2     2\n",
       "{s1  + s2  + s3  -> 1, -s1  - s2  - s3  -> -1, s1 v1 + s2 v2 + s3 v3 -> sv, \n",
       " \n",
       ">   -(s1 v1) - s2 v2 - s3 v3 -> -sv}"
      ]
     },
     "execution_count": 7,
     "metadata": {
      "text/html": [],
      "text/plain": []
     },
     "output_type": "execute_result"
    }
   ],
   "source": [
    "cnd = {\n",
    "    s1^2+s2^2+s3^2 -> 1,\n",
    "    -s1^2-s2^2-s3^2 -> -1,\n",
    "    s1 v1+s2 v2+s3 v3 -> sv,\n",
    "    -s1 v1-s2 v2-s3 v3 -> -sv\n",
    "}"
   ]
  },
  {
   "cell_type": "markdown",
   "id": "c4050f2c-2afa-40fc-afe8-eb2f546f4efe",
   "metadata": {},
   "source": [
    "### Characteristic matrix with respect to normal $s_i$: $A^{\\mathbf{s}\\alpha}{}_\\beta$"
   ]
  },
  {
   "cell_type": "code",
   "execution_count": 8,
   "id": "645f7e6b-3754-4ef3-a9fe-84b695e934fb",
   "metadata": {},
   "outputs": [
    {
     "data": {
      "text/html": [
       "<div><img alt=\"Output\" src=\"data:image/png;base64,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\"></div>"
      ],
      "text/plain": [
       "0     0     0     0     0\n",
       "\n",
       "0     0     -s1   -s2   -s3\n",
       "\n",
       "0     -s1   0     0     0\n",
       "\n",
       "0     -s2   0     0     0\n",
       "\n",
       "0     -s3   0     0     0"
      ]
     },
     "execution_count": 9,
     "metadata": {
      "text/html": [],
      "text/plain": []
     },
     "output_type": "execute_result"
    }
   ],
   "source": [
    "As = {\n",
    "    {0, 0, 0, 0, 0},\n",
    "    {0, 0, -s1, -s2, -s3},\n",
    "    {0, -s1, 0, 0, 0},\n",
    "    {0, -s2, 0, 0, 0},\n",
    "    {0, -s3, 0, 0, 0}\n",
    "};\n",
    "As//MatrixForm"
   ]
  },
  {
   "cell_type": "code",
   "execution_count": 10,
   "id": "679af6c7-b9a3-40be-a2dc-5221a83601fa",
   "metadata": {},
   "outputs": [
    {
     "data": {
      "text/html": [
       "<div><img alt=\"Output\" src=\"data:image/png;base64,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\"></div>"
      ],
      "text/plain": [
       "0\n",
       "\n",
       "-sv\n",
       "\n",
       "-(s1 ρ)\n",
       "\n",
       "-(s2 ρ)\n",
       "\n",
       "-(s3 ρ)"
      ]
     },
     "execution_count": 10,
     "metadata": {
      "text/html": [],
      "text/plain": []
     },
     "output_type": "execute_result"
    }
   ],
   "source": [
    "As.U/.cnd//MatrixForm"
   ]
  },
  {
   "cell_type": "markdown",
   "id": "6a3cf136-4067-4e19-8ab8-d71641f25132",
   "metadata": {},
   "source": [
    "### Characteristic Fields"
   ]
  },
  {
   "cell_type": "markdown",
   "id": "a33e1abd-a960-4c34-9312-1a19bbc2fcbd",
   "metadata": {},
   "source": [
    "$$U^{\\hat{\\alpha}}=e^{\\hat{\\alpha}}{}_\\beta U^{\\beta}$$"
   ]
  },
  {
   "cell_type": "code",
   "execution_count": 11,
   "id": "9407e28a-7c4f-4bbd-95e7-2feb2cec8707",
   "metadata": {},
   "outputs": [
    {
     "data": {
      "text/html": [
       "<div><img alt=\"Output\" src=\"data:image/png;base64,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\"></div>"
      ],
      "text/plain": [
       "0\n",
       "\n",
       "0\n",
       "\n",
       "0\n",
       "\n",
       "-1\n",
       "\n",
       "1"
      ]
     },
     "execution_count": 12,
     "metadata": {
      "text/html": [],
      "text/plain": []
     },
     "output_type": "execute_result"
    }
   ],
   "source": [
    "eValue = Eigenvalues[As]/.cnd;\n",
    "eValue//MatrixForm"
   ]
  },
  {
   "cell_type": "markdown",
   "id": "b2ae3caf-88fb-463d-8e0d-be702991d867",
   "metadata": {},
   "source": [
    "#### Left Eigenvectors"
   ]
  },
  {
   "cell_type": "markdown",
   "id": "0616f3c8-92ad-4a4c-93f0-905daa3a28ad",
   "metadata": {},
   "source": [
    "where $e^{\\hat{\\alpha}}{}_\\beta$ is the **LEFT** eigenvectors of $A^{\\mathbf{s}\\alpha}{}_{\\beta}$\n",
    "$$e^{\\hat{\\alpha}}{}_\\mu A^{\\mathbf{s}\\mu}{}_\\beta=v^{(\\hat{\\alpha})}e^{\\hat{\\alpha}}{}_\\beta$$"
   ]
  },
  {
   "cell_type": "markdown",
   "id": "af2a5603-1d4e-4eba-a530-63a6f4cfcb62",
   "metadata": {},
   "source": [
    "$$\n",
    "\\begin{align*}\n",
    "e^{\\hat{\\alpha}}{}_\\beta=\n",
    "\\begin{pmatrix}\n",
    "1 &0 &0 \\\\\n",
    "0 &1 &s^k \\\\\n",
    "0 &1 &-s^k \\\\\n",
    "0 & 0 &\\delta_j{}^k-s_js^k\n",
    "\\end{pmatrix}\n",
    "\\end{align*}\n",
    "$$"
   ]
  },
  {
   "cell_type": "code",
   "execution_count": 13,
   "id": "ad124e65-0cfa-4ad8-9ac8-f23fb9330563",
   "metadata": {},
   "outputs": [
    {
     "data": {
      "text/html": [
       "<div><img alt=\"Output\" src=\"data:image/png;base64,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\"></div>"
      ],
      "text/plain": [
       "\n",
       "1           0           0           0           0\n",
       "\n",
       "\n",
       "0           1           s1          s2          s3\n",
       "\n",
       "\n",
       "0           1           -s1         -s2         -s3\n",
       "\n",
       "                          2     2\n",
       "0           0           s2  + s3    -(s1 s2)    -(s1 s3)\n",
       "\n",
       "                                      2     2\n",
       "0           0           -(s1 s2)    s1  + s3    -(s2 s3)\n",
       "\n",
       "                                                  2     2\n",
       "0           0           -(s1 s3)    -(s2 s3)    s1  + s2"
      ]
     },
     "execution_count": 14,
     "metadata": {
      "text/html": [],
      "text/plain": []
     },
     "output_type": "execute_result"
    }
   ],
   "source": [
    "Module[{eLeftVectorRaw = (Inverse[Transpose[Eigenvectors[As]/.cnd]]//Simplify)/.cnd},\n",
    "eLeftVector = Join[\n",
    "    {eLeftVectorRaw[[3]]},\n",
    "    {eLeftVectorRaw[[4]] (2/s3)},\n",
    "    {-eLeftVectorRaw[[5]] (2/s3)},\n",
    "    {\n",
    "        -(eLeftVectorRaw[[2]] (s2/s1) + eLeftVectorRaw[[1]] (s3/s1))//Simplify,\n",
    "        eLeftVectorRaw[[2]],\n",
    "        eLeftVectorRaw[[1]]\n",
    "    }\n",
    "]];\n",
    "eLeftVector//MatrixForm"
   ]
  },
  {
   "cell_type": "code",
   "execution_count": 15,
   "id": "336be585-2eca-4f21-aa6b-8b55eeabcd2a",
   "metadata": {},
   "outputs": [
    {
     "data": {
      "text/html": [
       "<div><pre style=\"&#102;&#111;&#110;&#116;&#45;&#102;&#97;&#109;&#105;&#108;&#121;&#58;&#32;&#34;&#67;&#111;&#117;&#114;&#105;&#101;&#114;&#32;&#78;&#101;&#119;&#34;&#44;&#67;&#111;&#117;&#114;&#105;&#101;&#114;&#44;&#109;&#111;&#110;&#111;&#115;&#112;&#97;&#99;&#101;&#59;\">&#123;&#48;&#44;&#32;&#48;&#44;&#32;&#48;&#44;&#32;&#48;&#44;&#32;&#48;&#125;</pre></div>"
      ],
      "text/plain": [
       "{0, 0, 0, 0, 0}"
      ]
     },
     "execution_count": 15,
     "metadata": {
      "text/html": [],
      "text/plain": []
     },
     "output_type": "execute_result"
    }
   ],
   "source": [
    "eLeftVector[[1]].As - eLeftVector[[1]]eValue[[1]]"
   ]
  },
  {
   "cell_type": "code",
   "execution_count": 16,
   "id": "00c5b255-cd83-4a08-8b3d-ea9a6b1c6b4b",
   "metadata": {},
   "outputs": [
    {
     "data": {
      "text/html": [
       "<div><img alt=\"Output\" src=\"data:image/png;base64,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\"></div>"
      ],
      "text/plain": [
       "{0, -2, -2 s1, -2 s2, -2 s3}"
      ]
     },
     "execution_count": 16,
     "metadata": {
      "text/html": [],
      "text/plain": []
     },
     "output_type": "execute_result"
    }
   ],
   "source": [
    "eLeftVector[[2]].As - eLeftVector[[2]]eValue[[5]]/.cnd"
   ]
  },
  {
   "cell_type": "code",
   "execution_count": 17,
   "id": "3d3e90d8-700b-46e8-9a40-23e6cde54e4f",
   "metadata": {},
   "outputs": [
    {
     "data": {
      "text/html": [
       "<div><img alt=\"Output\" src=\"data:image/png;base64,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\"></div>"
      ],
      "text/plain": [
       "{0, 2, -2 s1, -2 s2, -2 s3}"
      ]
     },
     "execution_count": 17,
     "metadata": {
      "text/html": [],
      "text/plain": []
     },
     "output_type": "execute_result"
    }
   ],
   "source": [
    "eLeftVector[[3]].As - eLeftVector[[3]]eValue[[4]]/.cnd"
   ]
  },
  {
   "cell_type": "code",
   "execution_count": 18,
   "id": "45cb2405-5e0b-4196-8494-76e37bf0d771",
   "metadata": {},
   "outputs": [
    {
     "data": {
      "text/html": [
       "<div><pre style=\"&#102;&#111;&#110;&#116;&#45;&#102;&#97;&#109;&#105;&#108;&#121;&#58;&#32;&#34;&#67;&#111;&#117;&#114;&#105;&#101;&#114;&#32;&#78;&#101;&#119;&#34;&#44;&#67;&#111;&#117;&#114;&#105;&#101;&#114;&#44;&#109;&#111;&#110;&#111;&#115;&#112;&#97;&#99;&#101;&#59;\">&#123;&#123;&#48;&#44;&#32;&#48;&#44;&#32;&#48;&#44;&#32;&#48;&#44;&#32;&#48;&#125;&#44;&#32;&#123;&#48;&#44;&#32;&#48;&#44;&#32;&#48;&#44;&#32;&#48;&#44;&#32;&#48;&#125;&#44;&#32;&#123;&#48;&#44;&#32;&#48;&#44;&#32;&#48;&#44;&#32;&#48;&#44;&#32;&#48;&#125;&#125;</pre></div>"
      ],
      "text/plain": [
       "{{0, 0, 0, 0, 0}, {0, 0, 0, 0, 0}, {0, 0, 0, 0, 0}}"
      ]
     },
     "execution_count": 18,
     "metadata": {
      "text/html": [],
      "text/plain": []
     },
     "output_type": "execute_result"
    }
   ],
   "source": [
    "Table[(eLeftVector[[i]].As - eLeftVector[[i]]eValue[[1]]//Simplify)/.cnd, {i,4,6}]"
   ]
  },
  {
   "cell_type": "markdown",
   "id": "77c1372b-5c89-4746-b597-f006bd4085c0",
   "metadata": {},
   "source": [
    "$$\n",
    "\\begin{align}\n",
    "  \\begin{array}{lll}\n",
    "    U^{\\hat{0}}    &=u, \\quad                          &\\text{speed} \\quad 0, \\\\\n",
    "    U^{\\hat{1}\\pm} &=\\rho\\mp\\mathbf{s}\\cdot\\mathbf{v},         &\\text{speed} \\quad \\pm 1, \\\\\n",
    "    U^{\\hat{2}}    &=\\mathbf{v}-\\mathbf{s}(\\mathbf{s}\\cdot\\mathbf{v}), &\\text{speed} \\quad 0.\n",
    "  \\end{array}\n",
    "\\end{align}\n",
    "$$"
   ]
  },
  {
   "cell_type": "code",
   "execution_count": 19,
   "id": "615876e0-6ca1-4d04-847a-650968d3c8a2",
   "metadata": {},
   "outputs": [
    {
     "data": {
      "text/html": [
       "<div><img alt=\"Output\" src=\"data:image/png;base64,iVBORw0KGgoAAAANSUhEUgAAAfoAAADsCAIAAAATj/MsAAAA1HpUWHRSYXcgcHJvZmlsZSB0eXBlIGV4aWYAAHjabU9bjgQhCPz3FHMEeVjocZxuTeYGe/wFNZn0ZiuRKqCgmzR+PjO9Akw5abGKBmSHNm3cXdS8sZlyW3Fh9qPoWU/j2oLCUL4NjFN/P+uGzVz/LMq8hcQXXIuegbNIeNep7/x9/NxrfSya11w4x6ze+fV/cxVjFJCpR+Vshua6JpdOKJyLYeIC3Ei4OevlPGDmY7BwSI/BAA97ukeCeOGOEySeSHcuK/pVQqKuybPuPeHbla5unPMLd1Bc7pvj9GwAAAAJcEhZcwAAFiUAABYlAUlSJPAAAAA8dEVYdFNvZnR3YXJlAENyZWF0ZWQgd2l0aCB0aGUgV29sZnJhbSBMYW5ndWFnZSA6IHd3dy53b2xmcmFtLmNvbVyipoUAAAAhdEVYdENyZWF0aW9uIFRpbWUAMjAyMzowNTowMyAxNDoxMDozMw1umSMAACAASURBVHic7d15WBRXujDww9YgWzcghM2VBwQjKBqBGANRCBB8cEQYE8C4gI5A7kVEHMeRmIcn4iWOBJdL5MHkjnoDxg0DXB1AEhFwwwZFMKCCgKIIBkREmq27vj9qpr4e6G6qq6qrWvv9/dXUOVXnPXVOvVRXV1drYRiGAAAAvO20uQ4AAAAAGyDdAwCARoB0DwAAGgHSPQAAaARI9+Dt19zcLBAIBALBhQsXxhQ1NTXhRb/88gsnsQHAGl2uAwBA5cRi8cuXLxFCIyMj8opGR0c5iAwAFpE9u9+6dWtRUZFKQwEAAEDBihUr7t+/P2E1Uun+/v37ra2tgYGBtKMCAADAsLS0tO3bt09YjVS6T05OTklJoR0SAAAA5jk7O0+ePLm8vFxxtYnTfWNj4/Dw8Jw5cxgKDAAAAMO2bduWlpamuM7E6T4jI+M//uM/GAoJAAAA85ycnHR0dOrr6xXUmSDdDwwMVFRULF26lNHAAOCGRCLhOgQAVOXzzz//n//5HwUVJkj3+fn5/v7+2tpwez54gxkaGuIvurq6xhTB/ZfgrbF8+fKff/5ZwTnNBHn8/Pnz/v7+TEcFAKtsbGx0dXURQtevX5de3tXVtWbNGo6CAoBhBgYGTk5ON2/elFdhgnT/yy+/eHt7Mx0VAKzS0dF59913EUK5ublnz55FCIlEon/84x8ffPBBTU0N19EBwBhfX9/i4mJ5pYrSfWtrq4WFhbGxsQqiAoBV27ZtQwgNDw+HhYWZmJiYm5sHBQU9fPjw22+/nTJlCtfRAcCMBQsWXL16VV6ponR/69YtFxcXFYQEANsiIiLS09P19fURQv39/cPDwx4eHmfPnt2yZYulpSVCCD6gAm8BZ2fn2tpaeaVaCn7N6r/+679evHixd+9e1QQGANtEItG9e/c6Ozs9PDzMzMy4DgcAhmEYNmnSpOfPn5uYmIwvVfSItEePHjk7O6ssMADYNmnSpHnz5nEdBQCqoqWlZWtr29ra6urqOr5U0RvYx48fW1lZqSwwAAAADLO0tHz69KnMIkXp/vfff4c3vAAA8AYxMzP7/fffZRYpSve9vb2mpqaqCQkAAADzTE1Ne3p6ZBZNkO6NjIxUExIAAADmGRoa9vf3yyxSlO4HBgbwG9cAAAC8EQwMDAYGBmQWKUr3o6OjPB5PNSEBAABgHo/HGx4ellmkKN2PjIzo6OioJiQAAADM09bWlvfgvwnO7rW0tFQTEgAAAOZpa2vLeygmfHEcAAA0AqR7AADQCJDuAQBAI0C6BwAAjQDpHgAANAKkewAA0AiQ7gEAQCNAugcAAI0A6R4AADQCpHsAANAIin68EABVq6+vb2xsbGtrE4vF7777rpub25QpU+hscGho6O7du/hrAwOD2bNnS5dKJJLbt2/jr3V0dObOnUunLQDeLJDuATcuXbr05z//WSgUjlk+derU7du3R0dHU3v4dkNDw4IFC/DXPB6vq6uLz+cTpZcvX166dCn++r333rt58yal2Cl6+fKlnp6eoaEhm40CQICLOYADV69eXbZs2fhcjxB69OjRF198ERISIm/dx48fFxQUVFRUDA4Oji+dN2+em5sb/np4eDg/P1+69PTp08Trzz//nHzAdXV18n4QbkItLS1hYWG2trYCgcDExMTR0TE1NVXeMwsBUB1I94ADqampIpEIf21qaurt7R0YGEhcxjEwMEhLS5O54u7du2fMmPGHP/zB29vbzc2toaFhfJ1169YRr0+dOkW8FovFZ8+exV/r6uqGh4eTDzgsLEx6U+QVFxe7uro2Njamp6fX1dWVl5evWrUqJSXFx8cHMj5gGyYfQqitrU1BBQCoMTc3J2bg999/TyyvqqoKCQn54YcfZK516dKlMbN37ty546t1dXXp6enhFXg8Xm9vL778119/JVYMDg5WKmAnJ6fMzEylVsEwrKenx8bGJigoSCQSSS8vLS1FCKWmpiq7QQAmtGXLloSEBJlFcHYPOODi4kK8jo+Pj42NLS4uFolECxcuzMvLi4qKkrlWUVHRmCW1tbXt7e1jFlpaWgYFBeGvpa/nSF/JWbNmDc0ukJGWliYSib7//nsDAwPp5b6+vmFhYX//+99ZiAEAAqR7wIEvv/yS+CR2YGAgKysrMDDQwsJi5cqVBQUF8taSefVD5i85rF+/nniNX4QRi8V5eXn4EoFAEBwcTCd+kk6fPr1+/XobG5vxRYsXL3748KHMjx8AUBG4MwdwICAg4JdffklMTKyqqiIWikSic+fOnTt3zsPDo7Cw0MrKasxaPj4+6enp0kumTJki88bNoKAgKyurrq4uhFBpaWl/f39tbW1nZydeumrVqglv+yktLS0vLyf+7OzszM/Pf/bsGbEkMTFRIBAo2MLt27fxD2lllurr60skkuHh4TEn/gCoDpzdA2588MEHN27cuHHjRlJS0vTp06WLqqqqVqxYMX6V4ODgmJgY4k8zM7Pjx4/L/H1NPT29yMhI/PXQ0FBJScn//d//EaVkruS0tLRUShGJRM3NzWOWKN5CWVkZn8/38vKSWdrW1jZ58mRTU9MJIwGAKVoYhskt09Jqa2ubOnUqmwEBTfDixYv79+97enoSS6qrqzMyMnJycoglHR0d1tbW49etqqoSCoUCgcDPz2/8OwDCnTt3iG9RRUdHC4XC2tpahJCDg0NTU5OyAc+aNWvz5s1xcXHkV4mIiOju7i4uLpZZumTJEgzDysrKlI0EAMUSExMxDMvIyBhfBGf3gAN/+tOfvLy8Pv744+Li4hcvXiCEFixYEB0dLV1H3omIh4dHXFxcRESEglyPEHJzc5s/fz7+Ojc3F8/1SMnb7emoqqrq6OgYGRkZX1RSUlJWVibvOg8AKgLpHrDthx9+OHPmDEKotLQ0MDDQ3Nzc2traxMSE+L4rQmj27NkyP+FUCnEDvvSFF3bSfXd3d3Nzc11d3VdffTWm6PHjx/Hx8V5eXkq9VwCAPkj3gG2jo6NjTsw7Ozv7+/uJP/l8fm5uLv2GIiIieDye9JLFixfPnDmT/pYnhD+eITU19W9/+9uXX37Z2NiIEHr16tXZs2fnz58/Ojp69OhRbW04+gCrYMIBtm3atKm1tfXAgQMLFiwY8wAZIyOjL774oqamhpGHl1lYWIy54ZLy7fZJSUmLFi0iX7+qqmrKlCl//etfDx48mJmZ6eLiYm9vLxAIPvvss9DQ0Nra2lmzZlGLBADK4KNawCWJRNLa2vrkyRMtLa1p06bZ2trq6OhwHRQDgoODDQwM8C92SSSS6urqxsbG2bNnz5kzh9qj3wAgScFHtXDfPeCStrb2zJkz2bnAwqaqqqqkpCT8tba29sKFCxcuXMhtSADAxRwAGNbW1tbV1SV9mykA6gDSPQAM6+vrW758OfHYfQDUBFzMAYBhrq6uY56zD4A6gLN7AADQCJDuAQBAI0C6BwAAjQDpHgAANAKkewAA0AiQ7gEAQCNAugcAAI0A6R4AADQCpHsAANAIkO4BAEAjQLoHAACNAOkeAAA0AqR7AADQCJDuAQBAI0C6BwAAjQDPuwfqqL6+vrGxsa2tTSwWv/vuu25ublOmTKGzwaGhobt37+KvDQwMZs+eLV0qkUhu376Nv9bR0WHkh9EBUDeQ7oF6uXTp0p///GehUDhm+dSpU7dv3x4dHU3tp70bGhqIn5fi8XhdXV18Pp8ovXz58tKlS/HX77333s2bNynFTtHLly/19PQMDQ3ZbBRoILiYA9TI1atXly1bNj7XI4QePXr0xRdfhISEyFv38ePHBQUFFRUVg4OD40vnzZvn5uaGvx4eHh7za1OnT58mXn/++efkA66rq/v999/J15fW0tISFhZma2srEAhMTEwcHR1TU1NHR0epbQ2ACUG6B2okNTVVJBLhr01NTb29vQMDA4nLOAYGBmlpaTJX3L1794wZM/7whz94e3u7ubk1NDSMr7Nu3Tri9alTp4jXYrH47Nmz+GtdXd3w8HDyAYeFhUlvirzi4mJXV9fGxsb09PS6urry8vJVq1alpKT4+PhAxgeqgsmHEGpra1NQAQBmmZubEzPz+++/J5ZXVVWFhIT88MMPMte6dOnSmFk9d+7c8dW6urr09PTwCjwer7e3F1/+66+/EisGBwcrFbCTk1NmZqZSq2AY1tPTY2NjExQUJBKJpJeXlpYihFJTU5XdIACELVu2JCQkyCyCs3ugRlxcXIjX8fHxsbGxxcXFIpFo4cKFeXl5UVFRMtcqKioas6S2tra9vX3MQktLy6CgIPy19PUc6Ss5a9asodkFMtLS0kQi0ffff29gYCC93NfXNyws7O9//zsLMQANBOkeqJEvv/yS+CR2YGAgKysrMDDQwsJi5cqVBQUF8taSefVDIpGMX7h+/XriNX4RRiwW5+Xl4UsEAkFwcDCd+Ek6ffr0+vXrbWxsxhctXrz44cOHMj9+AIAmuDMHqERpaWl5ebmCComJiQKBYMzCgICAX375JTExsaqqilgoEonOnTt37tw5Dw+PwsJCKyurMWv5+Pikp6dLL5kyZYrMGzeDgoKsrKy6urrwCPv7+2trazs7O/HSVatWTXjbz5h+dXZ25ufnP3v2THG/pN2+fRv/kFZmqb6+vkQiGR4eHnPiDwB9kO6BSrS0tFRWViqoEBsbKzMtfvDBBzdu3Kiqqjp9+vSZM2daW1uJoqqqqhUrVly9enXMKsHBwTExMVlZWfifZmZmx48f19LSGr9xPT29yMjIjIwMhNDQ0FBJSYn0PZdkruSM6ZdIJGpubh4ZGZmwX4SysjI+n+/l5SWztK2tbfLkyaamphNGAoCytDAMk1umpdXW1jZ16lQ2AwKa7MWLF/fv3/f09CSWVFdXZ2Rk5OTkEEs6Ojqsra3Hr1tVVSUUCgUCgZ+f3/h3AIQ7d+4Q36KKjo4WCoW1tbUIIQcHh6amJmUDnjVr1ubNm+Pi4sivEhER0d3dXVxcLLN0yZIlGIaVlZUpGwkAuMTERAzD8HOaMeDaPVAjf/rTn7y8vD7++OPi4uIXL14ghBYsWBAdHS1dR94JioeHR1xcXEREhIJcjxByc3ObP38+/jo3NxfP9UjJ2+3pqKqq6ujokH5DQCgpKSkrK5N3nQcAmiDdA3Xxww8/nDlzBiFUWloaGBhobm5ubW1tYmJCfN8VITR79myZn3AqhbgBn7jHH7GV7ru7u5ubm+vq6r766qsxRY8fP46Pj/fy8lLqvQIA5EG6B+pidHR0zIl5Z2dnf38/8Sefz8/NzaXfUEREBI/Hk16yePHimTNn0t/yhPCPClJTU//2t799+eWXjY2NCKFXr16dPXt2/vz5o6OjR48e1daGoxKoBEwsoC42bdrU2tp64MCBBQsWjHmAjJGR0RdffFFTU8PIw8ssLCzG3HBJ+Xb7pKSkRYsWka9fVVU1ZcqUv/71rwcPHszMzHRxcbG3txcIBJ999lloaGhtbe2sWbOoRQLAhOCjWqCOJBJJa2vrkydPtLS0pk2bZmtrq6Ojw3VQDAgODjYwMMC/2CWRSKqrqxsbG2fPnj1nzhxqj34DYAwFH9XCjZhAHWlra8+cOZOdCyxsqqqqSkpKwl9ra2svXLhw4cKF3IYENAdczAGAJW1tbV1dXdK3mQLAJkj3ALCkr69v+fLlxGP3AWAZXMwBgCWurq5jnrMPAJvg7B4AADQCpHsAANAIkO4BAEAjQLoHAACNAOkeAAA0AqR7AADQCJDuAQBAI0C6BwAAjQDpHgAANAKkewAA0AiQ7gEAQCNAugcAAI3AcbofHBw8dOjQ4OAgy+12dnbevXt3aGiI5XZVjWS/hELhhQsX2AkJAKAmOE73Z86c+frrr/X09Fhr8cCBAw4ODtbW1nPmzDEyMoqLixsYGGCtddVRql8dHR2rV69m/78sAIBDHKf77OzskJAQ1n6XLjY2NiEhYebMmdnZ2fv27Zs3b97hw4eJXxd6cynbr08++URXV/fMmTNsBgkA4BaXv1Xb0NAwe/bsixcv+vn5qaiJMWpqaioqKjZv3oz/OTg4aGNjIxaLX758qaWlxU4MqkChXwkJCTU1NeXl5SyGCQBQOQW/Vcvl2f2RI0csLCw++ugj1lqcP38+kRMRQgYGBt7e3q9everr62MtBlWg0K81a9ZUVFQ0NDSwEiAAgHucpXsMw06dOhUSEqKry9kvamEYVlNT4+joyOfzuYpBFcj0a/78+S4uLnA9BwDNwVm6r66ufvLkSVhYGFcBIIQyMjLa29ujo6M5jEEVSPYrMDCwsLCQnZAAAJzjLN3n5+ebm5svXbqUqwCuX7++Y8cOd3f3rVu3chWDKpDvl5+fn1AofPbsGTuBAQC4xWW6Dw4OZvMWTGlCoTAwMNDKyurnn3/m8GoS45Tql7e3t66u7vnz59mJDQDALW7SfV9fX319vZeX14Q1MQzr6Oi4ceNGfX39yMgII61XVVX5+/vr6ekVFxer7r4jxdShX8bGxh4eHpWVlYy0rv5Usc/Voa03C4wClzD5EEJtbW0KKlCG3/937do1BXW6urri4uJMTU2JUPX09FxdXTMyMgYGBig3XVRUZGRkZGdn99tvv1HeCB1q1a/169fPmzdPqYYiIyP5fP6iRYtklra1tZmZmfH5/HPnzim1WZVS0T7nsC0YBXVoSz1HYcuWLQkJCTKLuEn3Bw8e1NbW7u/vl1ehv79/wYIF+Di9884777//vrOzM3F1wtbWtq+vj0K7OTk5+OWjDRs27Ny5c8e/HDt2jMLW7ty58/z5c6VWUbd+JScn83i84eFh8m2dOHECj/b69esyN4gQsrCwEIlEyvVBZVS0z7ltC0ZBHdpSz1FQu3QfFRU1a9YsBRVyc3Px/bh//36xWIwvHBoaOnr06PTp01NSUqi16+Pjg2RZsmQJha05OTllZmYqtYq69evw4cMIodraWvJtDQ8P29jYIITWrVs3pmhkZAQv2rZtm9J9UBkV7XNu24JRUIe21HMU1C7dBwQE+Pv7K6iwc+dOfMC6u7vHFInFYolEooqolEUh3atbvwoKChBChYWFSq311VdfIYQmTZrU09MjvRy/i19LS6u5uZnRMGlhc5+z2RaMgjq0pYajoCDdc/NR7cuXLxV/s4k4XfX19c3Pz5d+xKO2tra8BwOo/3MuqfXr+fPntbW1vb29jMdjZ2eHEFJ2y5s2bdLT0xOJRMePH5denpWVhRAKDAycOXMmg0HSRG2fs9kWtXlLbRS4OkbUfxSoHWXURkF1R/QEFPyXQCo7u3dxcdm4caPiOikpKcTA8Pn8tWvX5uXlvXr1Smbl/fv3E7tVR0cnNjb29evXKgj831A4u8eU6dfo6GhGRsaUKVOIwfLz87t37x4Tsf8TftP9oUOHlF3x008/RQi5uLgQSx48eID3a/x7ha6urpMnT65fv97IyGjx4sV0g1aeUnOJZrRszlulRoGTY0Saeo4C/aOM/CiwcERjangxx9bWlswlrZqamrCwMENDQ2LvGBkZJSQkPH78WLpaTEwMvuPw50Hin9LExsYyHvbFixe/lMLn8/39/aWXvHjxgsx2SPbr22+/RQgtXbr0u+++O378OD6rZsyYMTo6ylSPJBKJnp7e119/reyKFRUVeORlZWX4EvwBnNOmTSOulhLS0tKInsq7jUGeMft8PGb3Oc1olWqL/rwlPwo023qLR4H+UUZ+FFg4ojE1TPdWVlZJSUkkKw8MDBQWFsbExFhbW+O71dzcvK6ujqhQXV29f/9+4k+RSCQQCExMTBi/FJ6dnb1ECo/Hc3BwkF7y9OlT8lubsF8jIyMFBQXSqyxcuBAhVFNTw1iXMIzP56emplJYce7cuQih8PBwDMOGh4cnT56MENqzZ8/4miKRqKenp6enx9DQUNlDd8w+H4/ZfU4zWqXaYmTekhwFmm29xaPAyFFGchTYOaLVLt07OTlFRkYqu9bQ0FB6ejr+cHx8z8qzfPlyhFBvby+NGCdG7WLOeOT7tXLlSh6P19XVRb9Rgo6OjnQiIO/IkSMIIX19/e7u7rNnzyKEeDxeZ2englWMjIzoHLoMIrPPmYpWpfOWwihQbotx6jkKFI4yyqOgiiNa7dK9h4eH4nsEm5qa5F3S+vDDDxFC7733nrx1JRKJvb29o6Mj3SgnQiHdU+uXWCxuamrCn4GzZs0aKrHK8erVK4QQta8dvH792szMDCF04MABPHdEREQoXoWTdE95LlGIlv15S2EUKLdFh/qPAp2jTNlRUN0Rjalhug8ICHB2dpZX2t/f7+LioqurGxcX19raKl1UVFQ0adIkxZcd09PTEUJpaWlMRiyLsumeWr9OnTpF/NrX7t27x18Zp6O9vR0pfyMmAZ+v06dPx7/kVVlZqbg+++mezlxSNlqu5q2yo0CnLWrUfxToH2XkR0GlRzSmhuk+Ojra1NRUXumjR4+kf9+Kz+d7eXkFBQU5OzvjS+zs7OQFdu3aNR6P5+7uPjIyoorIpSmb7qn1q66ubvv27atXr7awsNDR0dmxYweDXbh69SpCSCgUUlu9qalJW/uf9/K6ublNWJ/9dE9nLikbLVfzVtlRYPMYwan/KNA/ysiPgkqPaEwN0/2BAwcQQorvAysvLw8ODiY+YMHp6+uvXbu2qalJ5io3b97k8/n29vYqCnuM7OzsW7duKbsWhX7hhoaG8I/yc3JyaET9b7Kzs3V1del8yXvZsmV4F7KysiaszNW1e2r7nFq0nMxb8qPA8jEiTc1HAUfnKFPqWKDZlgJql+4vXbqEEFK83wnd3d0VFRWVlZX37t1TkJhu3LhhZmY2efLku3fvMhepCpHsl7Q7d+4gWd/Ypiw+Pt7V1ZWprU2I849qldrnNKNVw3mrJseIGo6CNMaPMpbbUpDuuXnUu5ubG0KopaXFwcFhwsrm5uaLFy9WXKe4uDg0NFQgEFy8eNHFxYWZKFVswn799NNPlpaWvr6+xJLq6mr0r6/CMqK+vt7d3Z2prak/MnOJzbbYnLfqc4yo1SiwcJRx0pZM3KR7c3NzR0fHsrIy6atslOXm5q5bt25kZCQ8PDwnJ0cikeDLnZ2d16xZQ3/7nBCLxbt27WpqagoNDfXx8bG3t6+srMzMzDQ2No6MjGSkidHRUaFQGBISwsjW5Glubj59+jT+enh4+MmTJ/g3aCwtLdXwZyPZjJbNeftmHSOsjQILRxknbcml4E0BUtnFHAzD4uPjPT09GdkUs8+5VB+9vb0xMTH29vZEj7y8vK5cucLU9svLy7W0tNrb25naoEwXLlyQOTps3gVIHpvRsjlv36xjhM1RUPVRxn5bCi7maGEYJnPPIoS0tLTa2tpU9HtPJSUlQUFB3d3dip+VBhBCz58/b29vnz59On5vL1OSk5MrKiouX77M4DYBeEOp6Chjv63ExEQMwzIyMsYXcfYzrT4+PgYGBqWlpaGhoVzF8KawtLS0tLRkfLMlJSVRUVGMbxaAN5GKjjLO25LG2U+T6+vrBwQE5OTkcBWAhmtvb6+trf3jH//IdSAAAJZwlu4RQhs3bjx//nx3dzeHMWisnJwcX19fCwsLrgMBALCEy3Tv7+9va2tL/N4jYNPx48fDw8O5jgIAwB4u0722tvaGDRuOHTvGYQyaqaampqWlZcWKFVwHAgBgD5fpHiEUFRVlaWk5ODjIbRiapqWlZevWrSYmJlwHAgBgD2d35uBsbGzk3WMLVCc0NBRuiAJA03B8dg8AAIAdkO4BAEAjQLoHAACNAOkeAAA0AqR7AADQCJDuAQBAI0C6BwAAjQDpHgAANAKkewAA0AiQ7gEAQCNAugcAAI0A6R7INTg4eOjQIfYfYNfZ2Xn37t2hoSGW21U1kv0SCoXwICmgCpDugVxnzpz5+uuv9fT0WGvxwIEDDg4O1tbWc+bMMTIyiouLGxgYYK111VGqXx0dHatXr4bHxALGQboHcmVnZ4eEhOjo6LDTXGxsbEJCwsyZM7Ozs/ft2zdv3rzDhw8nJSWx07rqKNuvTz75RFdX98yZM2wGCTSBFoZhcsu0tNra2qZOncpmQEBNNDQ0zJ49++LFi35+fuy0WFNTU1FRsXnzZvzPwcFBGxsbsVj88uVLLS0tdmJQBQr9SkhIqKmpKS8vZzFM8JZITEzEMCwjI2N8EZzdA9mOHDliYWHx0Ucfsdbi/PnziZyIEDIwMPD29n716lVfXx9rMagChX6tWbOmoqKioaGBlQCBpoB0D2TAMOzUqVMhISG6upz9AA6GYTU1NY6Ojnw+n6sYVIFMv+bPn+/i4gLXcwCzIN0DGaqrq588eRIWFsZhDBkZGe3t7dHR0RzGoAok+xUYGFhYWMhOSEBDQLoHMuTn55ubmy9dupSrAK5fv75jxw53d/etW7dyFYMqkO+Xn5+fUCh89uwZO4EBTQDpHsiQn58fHBzM5i2Y0oRCYWBgoJWV1c8//8zh1STGKdUvb29vXV3d8+fPsxMb0ATqku4xDOvo6Lhx40Z9ff3IyMhb09abqK+vr76+3svLa8KaqtiTVVVV/v7+enp6xcXFXN0Vpg79MjY29vDwqKysZKR19QcZgA2YfAihtrY2BRUY0dXVFRcXZ2pqSoSkp6fn6uqakZExMDDwJrYVGRnJ5/MXLVoks7Strc3MzIzP5587d46pFpmF3/937do1BXVUtCeLioqMjIzs7Ox+++03yhuhQ636tX79+nnz5inV0Js49yADMGvLli0JCQkyizhO9/39/QsWLMD3+zvvvPP+++87OzsT73NtbW37+vreuLZOnDiBb/P69evjS5OTkxFCFhYWIpGIkebGuHPnzvPnz+ls4eDBg9ra2v39/fIqqGhP5uTk4JePNmzYsHPnzh3/cuzYMQpbo7Af1K1fycnJPB5veHiYfFvczj0KIAMwTn3TfW5uLr5f9u/fLxaL8YVDQ0NHjx6dPn16SkrKm9jWKzyZDQAAFjxJREFU8PCwjY0NQmjdunVjikZGRvCibdu2MdXcGE5OTpmZmXS2EBUVNWvWLAUVVLQnfXx8kCxLliyhsDUK+0Hd+nX48GGEUG1tLfm2uJ17FEAGYJz6pvudO3fiA9Dd3T2mSCwWSySSN7Str776CiE0adKknp4e6eX4ndRaWlrNzc0MNieNfroPCAjw9/dXUIHNPUkZhf2gbv0qKChACBUWFiq1FodzjwLIAIxTkO45/qiWOPHx9fXNz8+XfligtrY2s1+dp9YWtaczbtq0SU9PTyQSHT9+XHp5VlYWQigwMHDmzJnKRc+ily9fKv5mE5ujxiZq/Xr+/HltbW1vby/j8djZ2SGElN0ytbnH1VNI2Twq2RxfaqOgurn0Twr+SyBWPqpNSUkhdjSfz1+7dm1eXt6rV69kVu7q6jp58uT69euNjIwWL16s0rb2799PDImOjk5sbOzr16/Jt/Xpp58ihFxcXIglDx48wFsff75Gs1/S6J/du7i4bNy4UXEdNkeNGmr7gXy/RkdHMzIypkyZQhxKfn5+9+7dYyL2f8Jvuj906JCyKyo192jOc/rYPCrZHF/yo8DsXFJwds/YI9JKS0sVP9EpMTFRIBDILLp169aePXsuXLhAPBXWyMho48aNW7dutbe3l675zTff/OUvf8FfL1q06MqVK2Rio9BWbGxsVlaWn5/fqlWr+vr6Tpw4UV1dHRsb+91335FsqLKy8sMPP0QIlZWV4acV27Zt27dv37Rp0x4+fKit/W/vq+j0a8yeP3jwoKenp6enJ7FEwZ6Xyc7OLjIycu/evYqrsTlqZDC1H0j2KyMjIzExcenSpWFhYcbGxufPnz958uSMGTMePHjA1DNEMQzT19fftWsX/uEeeeTnHs15Tueol8baUUm+LfrjS34UmJ1LCh6RxtjZfXZ29hKFnj59qngLAwMDhYWFMTEx1tbWeGzm5uZ1dXXSdUQiUU9PT09Pj6Ghobz7nMiYsK3q6ur9+/dLtysQCExMTJS6wDd37lyEUHh4OIZhw8PDkydPRgjt2bNnfE06/Rqz53k8noODg1J7fgwrK6ukpCSSldkcNcWY3Q8T9mtkZKSgoEB6lYULFyKEampqGOsShvH5/NTUVAorkpx7NOc5/aNeGjtHJcm2GBlfkqPA7FxS349qZRoaGkpPT8f/reF7ajwjIyNGEgeZtnDLly9HCPX29pLf+JEjRxBC+vr63d3dZ8+eRQjxeLzOzk4Fq9DvF/2LOU5OTpGRkcquxeaokUF/P+DIz5CVK1fyeLyuri76jRJ0dHSkExx5FOYejsI8Z5xKj0rKbVEYX8qjQGcuqe9Htc3Nzffv3x+zkMfjJSYmLlq0CCH04MEDdWgLo/R0xoiICDMzs6GhoR9//PHYsWMIobCwMCsrK0rhs0cgEDx9+lRBBTZHjU3U+iWRSJqbm5OSkvLy8j777DNLS0um4unv7xeLxWZmZhTWpTb3qM1zOtg8KtkfX2VHQXVz6Z8U/JdAKj677+/vd3Fx0dXVjYuLa21tlS4qKiqaNGkSQig2NlbmusqeJ9JpC8Ow9PR0hFBaWhr5FnH4k7CmT5+Of9GmsrJScX11OLsPCAhwdnaWV8rmqNGh7H6g1q9Tp04RV1d3795N3M3NiPb2dqT8jZgEZeceRmOeU8PmUcnV+JIfBabmkppezHn06JH0LyXx+XwvL6+goCBnZ2d8iZ2dnbwAlE0cdNq6du0aj8dzd3cfGRlRto9NTU3EZzJubm4T1leHdB8dHW1qaiqvlM1Ro0PZ/UCtX3V1ddu3b1+9erWFhYWOjs6OHTsY7MLVq1cRQkKhkNrqys49OvOcGjaPSq7Gl/woMDWX1DTd48rLy4ODg4kPTHD6+vpr165tamqStxa1xEGhrZs3b/L5fHt7e8q7YtmyZXhDWVlZE1amnxCzs7Nv3bpFZwsHDhxACCm+v43NUaOG2n6g1i8Mw4aGhvAb73JycmhE/W+ys7N1dXXpfNWe/NyjP88pY/Oo5GR8lcoANNvC1DzdE7q7uysqKiorK+/duzfhFKeZOEi2dePGDTMzs8mTJ9+9e5dyW0phMyHKc+nSJYSQ4tlPYHPU2KRUv3B37txBsr43T1l8fLyrqytTW1OA/XkuE5tHpTqMr4raUpDu1ehh4ubm5osXL1aftoqLi0NDQwUCwcWLF11cXNgJTB24ubkhhFpaWhwcHCaszOaosWnCfv3000+Wlpa+vr7EkurqavSvr8Iyor6+3t3dnamtyaM+85zNo1Idxpf9ttQo3U+oubn59OnT+Ovh4eEnT56kpaUhhCwtLRn/ibvc3Nx169aNjIyEh4fn5ORIJBJ8ubOz85o1a5hti81+kWFubu7o6FhWViZ9rZMydesdI8Ri8a5du5qamkJDQ318fOzt7SsrKzMzM42NjSMjIxlpYnR0VCgUhoSEMLI1edic5/SxFi0L48tJW2p0MWdCFy5ckNkFR0dHxtti9umMirHZL5Li4+M9PT0Z2ZQa9o4Rvb29MTEx0t/D9PLyunLlClPbLy8v19LSam9vZ2qDMrE5z+ljM1pVj6/q2mLjIQrgbVJSUhIUFNTd3c3a/ddvrufPn7e3t0+fPp3aDfLyJCcnV1RUXL58mcFtAgpUNL6qa0vBQxTepIs5gDU+Pj4GBgalpaWhoaFcx6LuLC0tmf86DEIlJSVRUVGMbxYoS0Xjy0lb6vJbtUCt6OvrBwQE5OTkcB2Ihmpvb6+trf3jH//IdSDgrQLpHsi2cePG8+fPd3d3cx2IJsrJyfH19bWwsOA6EPBWgXQPZPP397e1tSV+dROw6fjx4+Hh4VxHAd42kO6BbNra2hs2bMCf6wTYVFNT09LSsmLFCq4DAW8bSPdArqioKEtLy8HBQa4D0SwtLS1bt241MTHhOhDwtoE7c4BcNjY28u6aB6oTGhoKN0QBVYCzewAA0AiQ7gEAQCNAugcAAI0A6R4AADQCpHsAANAIkO4BAEAjQLoHAACNAOkeAAA0AqR7AADQCJDuAQBAI0C6BwAAjQDpHgC1Njg4eOjQIfYfVNfZ2Xn37t2hoSGW21U1kv0SCoVv3wOjIN0DoNbOnDnz9ddf6+npsdbigQMHHBwcrK2t58yZY2RkFBcXNzAwwFrrqqNUvzo6OlavXv2WPQ4W0j0Aai07OzskJERHR4ed5mJjYxMSEmbOnJmdnb1v37558+YdPnw4KSmJndZVR9l+ffLJJ7q6umfOnGEzSFXTwjBMbpmWVltb29SpU9kMCABAaGhomD179sWLF/38/NhpsaampqKiYvPmzfifg4ODNjY2YrH45cuXWlpa7MSgChT6lZCQUFNTU15ezmKYDEhMTMQwLCMjY3wRnN0DoL6OHDliYWHx0Ucfsdbi/PnziZyIEDIwMPD29n716lVfXx9rMagChX6tWbOmoqKioaGBlQDZAOkeADWFYdipU6dCQkJ0dTn7GSIMw2pqahwdHfl8PlcxqAKZfs2fP9/FxeVtup4D6R4ANVVdXf3kyZOwsDAOY8jIyGhvb4+OjuYwBlUg2a/AwMDCwkJ2QmIBpHsA1FR+fr65ufnSpUu5CuD69es7duxwd3ffunUrVzGoAvl++fn5CYXCZ8+esROYqkG6B0BN5efnBwcHs3kLpjShUBgYGGhlZfXzzz9zeDWJcUr1y9vbW1dX9/z58+zEpmrqku4xDOvo6Lhx40Z9ff3IyMhb09abBUZBffT19dXX13t5eU1YUxV7sqqqyt/fX09Pr7i4mKt789ShX8bGxh4eHpWVlYy0zj1MPoRQW1ubggqM6OrqiouLMzU1JULS09NzdXXNyMgYGBh4E9uKjIzk8/mLFi2SWdrW1mZmZsbn88+dO8dUi/TBKKgb/P6/a9euKaijoj1ZVFRkZGRkZ2f322+/Ud4IHWrVr/Xr18+bN0+phride1u2bElISJBZxHG67+/vX7BgAT6i77zzzvvvv+/s7Ey8w7K1te3r63vj2jpx4gS+zevXr48vTU5ORghZWFiIRCJGmqMPRoFxd+7cef78OZ0tHDx4UFtbu7+/X14FFe3JnJwc/PLRhg0bdu7cueNfjh07RmFrFPaDuvUrOTmZx+MNDw+Tb4vbuae+6T43NxffL/v37xeLxfjCoaGho0ePTp8+PSUl5U1sa3h42MbGBiG0bt26MUUjIyN40bZt25hqjj4YBcY5OTllZmbS2UJUVNSsWbMUVFDRnvTx8UGyLFmyhMLWKOwHdevX4cOHEUK1tbXk2+J27qlvut+5cye+07u7u8cUicViiUTyhrb11VdfIYQmTZrU09MjvRy/h1dLS6u5uZnB5miCUWAc/XQfEBDg7++voAKbe5IyCvtB3fpVUFCAECosLFRqLQ7nnoJ0z/FHtcS/XF9f3/z8fOnH1GlrazP7pW1qbT1//ry2tra3t1eptjZt2qSnpycSiY4fPy69PCsrCyEUGBg4c+ZM5aJXJWp7htoTE9V/FNTkSZAvX75U/M0mNo8dNrE5G8mws7NDCLEz96jNcyUo+C+hq6vb2tqqmv9A/19KSgoxhHw+f+3atXl5ea9evZJZuaur6+TJk+vXrzcyMlq8eLHq2hodHc3IyJgyZQqxo/z8/O7du0e+rU8//RQh5OLiQix58OAB3vr4MwWa/aJPqVHYv38/MVl1dHRiY2Nfv36tirZYHgWa/ZJG/+zexcVl48aNiuuweexQQ20/sDkbJ4TfdH/o0CFlVyQ/9+jPc2mbN2/GH5sznqJHpBkaGtbX15M8Dy0tLVX8LKHExESBQCCz6NatW3v27Llw4QLxPFIjI6ONGzdu3brV3t5euuY333zzl7/8BX+9aNGiK1eukImNQlsZGRmJiYlLly4NCwszNjY+f/78yZMnZ8yY8eDBA5LPJqysrPzwww8RQmVlZfgJy7Zt2/bt2zdt2rSHDx9qa//b+yo6/aKz56WR3DOxsbFZWVl+fn6rVq3q6+s7ceJEdXV1bGzsd999Rz5mNRwFmv0aMwoHDx709PT09PQklpAcBYKdnV1kZOTevXsVV2Pz2CGDqf3A5mxUDMMwfX39Xbt24R+xkkd+7tGf59L+8z//09DQ8JtvvpHdGXlMTU0bGhpI/kvJzs5eotDTp08Vb2FgYKCwsDAmJsba2hqPzdzcvK6uTrqOSCTq6enp6ekxNDSUd58TGRO2NTIyUlBQIL3KwoULEUI1NTXkW5k7dy5CKDw8HMOw4eHhyZMnI4T27NkzviadftHf89Im3DPV1dX79++XjlwgEJiYmFC4qKpWo0CzX2NGgcfjOTg4UB4FDMOsrKySkpJIVmbz2FGM2f3A5mxUgM/np6amUliR5NxjZJ4TNm3alJycLLNIUbp/5513bt++TaE9moaGhtLT0/F/a/ieGs/IyIiRKUumLdzKlSt5PF5XVxf5jR85cgQhpK+v393dffbsWYQQj8fr7OxUsApT/aKP/J5Zvnw5Qqi3t5eFttgZBRydftG/mOPk5BQZGansWmweO2TQ3w84NmfjeDo6OtL/VMijPPcozHPC2rVrZZ5TYoo/qhUIBK9fvyb7FoKS5ubm+/fvj1nI4/ESExMXLVqEEHrw4AG3bUkkkubm5qSkpLy8vM8++8zS0pJ8ixEREWZmZkNDQz/++OOxY8cQQmFhYVZWVjQ6oRJ0RgFT8omJb8ooKNsvxgkEgqdPnyqowOaxwyY2ZyMZ/f39YrHYzMyMwrrKzj0685wwMDBgbGwsu0zBfwlPT89//OMfFP69kNTf3+/i4qKrqxsXFzfmM+GioqJJkyYhhGJjY2Wuq+wZCrW2Tp06RVw72717N3EXMHn4M5imT5+Of8WjsrJScX32z+7pjAKGYenp6QihtLQ01bXF/ihgSvZrPEZuxHR2dpZXyuaxQ4ey+4HN2UhSe3s7Uv5GTAL5uUd/nuMCAgJ+/PFHmUWK0v2yZctyc3OpNUnGo0ePpH+jh8/ne3l5BQUFOTs740vs7Ozk3fiv7JSl1lZdXd327dtXr15tYWGho6OzY8cOZfvY1NREfCbj5uY2YX320z2dUbh27RqPx3N3dx8ZGVFdW+yPgrL9Go9+uo+OjjY1NZVXyuaxQ4ey+4HN2UjS1atXEUJCoZDa6uTnHv15jvPw8CgqKpJZpCjdx8TEULtipZTy8vLg4GDioxicvr7+2rVrm5qa5K1FbcpSawvDsKGhIfy2qpycHGUbXbZsGd5QVlbWhJW5unZPYc/cvHmTz+fb29sr+108NR8Fyv2Slp2dfevWLcqrYxh24MABhJDiewrZPHaoobYf2JyNE8rOztbV1aXzwAOlMgBGb55jGDZjxow7d+7ILFKU7vfs2cPmd/27u7srKioqKyvv3bs34c6lOWWVagt3584dJOtb0czi/KNaknvmxo0bZmZmkydPvnv3rqrbkqbqUWCkX4y4dOkSQkjx/z8Cm8cOm9icjfLEx8e7uroyvlnFKM9ziUSir68v77FCih73PGvWLOJZPywwNzdfvHixmrT1008/WVpa+vr6Ekuqq6vRv75i9xYjMwrFxcWhoaECgeDixYsuLi6qa4vlUWCqX4xwc3NDCLW0tDg4OExYmc1jh01szkZ56uvr3d3dGd+sNAbneUdHh5mZmYmJicxSRene3d19165dyranOs3NzadPn8ZfDw8PP3nyJC0tDSFkaWnJ7I+ricXiXbt2NTU1hYaG+vj42NvbV1ZWZmZmGhsbR0ZGMtgQjrV+MSI3N3fdunUjIyPh4eE5OTkSiQRf7uzsvGbNGgYbYnkUWOsXSebm5o6OjmVlZdLXsil7s+YYeaoetdHRUaFQGBISQn9T8jA7zxsbG/Gb/WVT/NbA2tpa3neX2XfhwgWZXXB0dGS8rd7e3piYGOnv73l5eV25coXxhjB2+0Ufs09MVIzNUWCzXyTFx8d7enoysqk3a46Rp+pRKy8v19LSam9vZ2Rr8jA4z7/55hsFDw1V9BAFhFBkZGRkZGRQUJCCOm+358+ft7e3T58+ndqNt4ARmjkKJSUlQUFB3d3dXN37D5KTkysqKi5fvsxOc/TneWBgYEpKivRTK6RN8ETMZcuWlZSUUGv47WBpaenu7q5RWUYNaeYo+Pj4GBgYlJaWch2I5iopKQkPD2etOZrzfHBw8P79+/gDGGSa4Ox+YGBgwYIFd+/eHfNILwAAC0JDQzEMy8vL4zoQTdTe3u7g4PD06VMLCwuuYyHl1KlT169f//bbb+VVmCCJGxoafvjhh7/++ivTgQEAJrZx48bz5893d3dzHYgmysnJ8fX1fVNyPULof//3f6OiohRUmPicPTEx8b//+7+ZCwkAQJa/v7+trS2b90MDwvHjx9m8kkPTgwcPxGLxnDlzFNSZON07Ozvr6enV19czFxgAgBRtbe0NGzbgT9cCbKqpqWlpaVmxYgXXgZC1d+9e4vcM5CF1RX737t34Ty8CAFgWFRVlaWk5ODjIdSCapaWlZevWrfK+r6RuGhsbf//9d29vb8XVJviolrB169aPP/44MDCQidgAAAAwZsWKFXv37nVyclJcjWy6BwAA8EaD2ysBAEAjQLoHAACNAOkeAAA0AqR7AADQCJDuAQBAI/w/ixT5AVFubisAAAAASUVORK5CYII=\"></div>"
      ],
      "text/plain": [
       "\n",
       "u\n",
       "\n",
       "\n",
       "sv + ρ\n",
       "\n",
       "\n",
       "-sv + ρ\n",
       "\n",
       "   2     2\n",
       "(s2  + s3 ) v1 - s1 s2 v2 - s1 s3 v3\n",
       "\n",
       "                 2     2\n",
       "-(s1 s2 v1) + (s1  + s3 ) v2 - s2 s3 v3\n",
       "\n",
       "                            2     2\n",
       "-(s1 s3 v1) - s2 s3 v2 + (s1  + s2 ) v3"
      ]
     },
     "execution_count": 19,
     "metadata": {
      "text/html": [],
      "text/plain": []
     },
     "output_type": "execute_result"
    }
   ],
   "source": [
    "(eLeftVector.U)/.cnd//MatrixForm"
   ]
  },
  {
   "cell_type": "markdown",
   "id": "9e04720a-c9d2-45fd-a2f5-f075a2ff8b6a",
   "metadata": {},
   "source": [
    "#### Right Eigenvectors (left inverse of Left Eigenvectors)"
   ]
  },
  {
   "cell_type": "markdown",
   "id": "6274eb02-283c-43a0-a7d9-d74d3c091854",
   "metadata": {},
   "source": [
    "and $e^{\\alpha}{}_{\\hat{\\beta}}$ is the **RIGHT** eigenvector of $A^{\\mathbf{s}\\alpha}{}_{\\beta}$\n",
    "$$A^{\\mathbf{s}\\alpha}{}_\\mu e^{\\mu}{}_{\\hat{\\beta}} =v_{(\\hat{\\beta})}e^{\\alpha}{}_{\\hat{\\beta}}$$"
   ]
  },
  {
   "cell_type": "markdown",
   "id": "eef1c527-3be1-492d-b908-99ef8ee7ba7e",
   "metadata": {},
   "source": [
    "$$\n",
    "\\begin{align*}\n",
    "e^{\\alpha}{}_{\\hat{\\beta}}=\n",
    "\\begin{pmatrix}\n",
    "1 &0 &0 &0\\\\\n",
    "0 &1/2 &1/2 &0 \\\\\n",
    "0 &s_j/2 &-s_j/2 &\\delta_j{}^k \\\\\n",
    "\\end{pmatrix}\n",
    "\\end{align*}\n",
    "$$"
   ]
  },
  {
   "cell_type": "code",
   "execution_count": 40,
   "id": "6f600695-fc9e-49e3-9a12-f41c90038613",
   "metadata": {},
   "outputs": [
    {
     "data": {
      "text/html": [
       "<div><img alt=\"Output\" src=\"data:image/png;base64,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\"></div>"
      ],
      "text/plain": [
       "\n",
       "\n",
       "1         0         0         0         0         0\n",
       "\n",
       "          1         1\n",
       "          -         -\n",
       "0         2         2         0         0         0\n",
       "\n",
       "          s1          1\n",
       "          --        -(-) s1\n",
       "0         2           2       1         0         0\n",
       "\n",
       "          s2          1\n",
       "          --        -(-) s2\n",
       "0         2           2       0         1         0\n",
       "\n",
       "          s3          1\n",
       "          --        -(-) s3\n",
       "0         2           2       0         0         1"
      ]
     },
     "execution_count": 42,
     "metadata": {
      "text/html": [],
      "text/plain": []
     },
     "output_type": "execute_result"
    }
   ],
   "source": [
    "(*eRightVector = PseudoInverse[eLeftVector]*)\n",
    "eRightVector = {\n",
    "    {1, 0, 0, 0, 0, 0},\n",
    "    {0, 1/2, 1/2, 0, 0, 0},\n",
    "    {0, s1/2, -s1/2, 1, 0, 0},\n",
    "    {0, s2/2, -s2/2, 0, 1, 0},\n",
    "    {0, s3/2, -s3/2, 0, 0, 1}\n",
    "};\n",
    "eRightVector//MatrixForm"
   ]
  },
  {
   "cell_type": "markdown",
   "id": "3ce88968-0e3a-4293-b931-2b16b7b1e736",
   "metadata": {},
   "source": [
    "It's left inverse of $e^{\\hat{\\alpha}}{}_{\\beta}$\n",
    "$$e^{\\alpha}{}_{\\hat{\\gamma}}e^{\\hat{\\gamma}}{}_\\beta=\\delta^\\alpha{}_{\\beta}$$"
   ]
  },
  {
   "cell_type": "code",
   "execution_count": 45,
   "id": "9d7e7ac9-25a8-4417-a62e-9cdeb5f863b2",
   "metadata": {},
   "outputs": [
    {
     "data": {
      "text/html": [
       "<div><img alt=\"Output\" src=\"data:image/png;base64,iVBORw0KGgoAAAANSUhEUgAAAMQAAACkCAIAAABHMBZmAAAA03pUWHRSYXcgcHJvZmlsZSB0eXBlIGV4aWYAAHjabU/bDQMhDPtnio5AHjgwDr0DqRt0/IaHVFHV0sXGDjkS2vvVw2OAKQZNllGA6NCihauLHBcWUyyzTly6Mzr9UHdA1a30DdC2/zx9w2LOP4MiLyHjD65lD7Y9SHj5VNf5ufu55nwM6lef2A+e2X7637OKMRLI1KtyNENxnYNLJySOydBxAd5IuDnq5dxg5tdgo0PquDjAzc7uFiBu3GMFGZ9IdU6z+lZCoq5JileVwrf7OtOxzgfqK1ya5gbbpAAAAAlwSFlzAAAWJQAAFiUBSVIk8AAAADx0RVh0U29mdHdhcmUAQ3JlYXRlZCB3aXRoIHRoZSBXb2xmcmFtIExhbmd1YWdlIDogd3d3LndvbGZyYW0uY29tXKKmhQAAACF0RVh0Q3JlYXRpb24gVGltZQAyMDIzOjA1OjAzIDE0OjE5OjQ53/KpcAAACmNJREFUeJztnV1IFN0Dxo/fZq6mWW75gZbogplU0EWUQYEf9OGNEEQiRFGg4EepXSxElFJ0YVFeSNCdQReFQpYRBulFLyVYFugumEpqmqar6Qq27rwX8/4H2XbPTv/OnJ05Pr+rac5xfrP1MO6cnX0KkiSJAMCC4ECfABAHA4fJ7XbbbLbp6WlY9GKRWDM5OXnv3r29e/cmJyc3NDQwP74kSTabraCgIDY2Vn4JO3furKurc7lcsATWwjJMbW1taWlpa5NaV1fH8PgyPT098fHx8vGjoqJCQ0Pl7aKiop8/f8ISKIvENkx37971uOwxD9Py8vKWLVsIIWaz+e3bt263e3Fx8fr167Lu0qVLsATEIsMyTG632/U/tm3bpkWYHjx4QAgJDQ0dGBhYu//y5cuEkNjY2IWFBVj4W2TUhqmmpubFixfqj7t9+3YtwpSbm0sIOXHihMf+sbGxkJAQQkhzczMszC3FxcU2m83vNFV3c3a7fWRkpLCwUM1k7VhdXf38+TMh5MyZMx5DSUlJhw8fJoR8/PgRFuaWmzdv1tfX+52mKkxWq/XatWtqZmrK5OTk6uoqISQjI4MQMjU1dfv27SdPnrjdbmXn+Pg4LMwtFoslISGhu7ubPi3U74EGBwdXVlZ27dql5uw1RXnZiYmJhJCzZ88+f/6cENLe3n7y5Emz2UwIGRsbg0ULS21tbVVVVV5eHmWO/ytTU1NTRUWFGp/WzMzMyBvyja7NZpP/+O7dO0JIXFzc2jmwsLVkZmaGhITIvzR94SdMTqezp6fnyJEjanxak5CQIG84HA5CyKlTpwghJpNJ3pB3KnNgYW4pLS19+PAhZYKfMLW3t+fn5wcH6+JTl6SkJHljamqKENLQ0PD169eJiYmcnBxlZ3JyMiwaWU6ePNnW1ia/3/KKn5R0dHTk5+erlGmN2WyW72aHhobkPcnJydHR0fL2ly9fyJq/PliYWyIjIzMzM9+/f+9rgp8wdXV10d9z8SQkJCQ7O5sQ0tra6jE0OTn5+vVrQsju3bth0c5y9OjRly9f+hymrEENDw9nZ2f7XaryikaLli0tLYSQsLCwoaGhtfutVishxGQyzc/Pw6Kdpaurq6CgwNcoLUxPnz4tKSlRqVlaWppdg3zbWV5eruxhsmzvdDrlG5O0tDS73S5J0urqanNzc1BQECGksrLy7xWwUBgfHzebzb5GaWFqbGysra1VqTl//jz9Crljx44/Om9fdHZ2Kr/1LRbL5s2b5e2DBw/Ozs4yUcDiC7fbHRER4eu6QAvTxYsX79y5o1JTXl5OD1NqauofnTeF3t7e3Nxc5R4zOjq6rKxseXmZ1fFhoZCent7f3+91iBamY8eOPXr06P/w8cHhcHR3d/f19TF/yAsWCvv37+/s7PQ6RPs4ZWZmRl4k1SexsbGHDh2ChbMlLi7O16I5bWnA4XDExMT8pRsIRkxMzOzsrNchP2HauHGjNqcEjEpUVNTi4qLXIVqYnE5nRESENqcEjEpkZKTT6fQ6RAuTy+UKDw/X5pSAUQkPD19ZWfE6RAvTr1+/5E92AFAIDg52uVzehyg/5nK55HVSABSCg4N9PTigi2dLgBggTIAZCBNgBsIEmIEwAWYgTIAZCBNgBsIEmKFJmPj0oPFBkE43LhbGYbLb7YWFhfHx8RaLZevWrRkZGfX19fLX3dkyNTV1//79ffv2paSkNDY2Mj8+4fVaRLLQnrQkhIyOjqp/Bo9PQxn66QJrqa6urqqq8jrELEzcGsrQTxdYC48wcWsoQz9dYC08wsSnB80D9NPxt1DCxOYNOJ8eND4Yq9NNDxYFNmHi04PGB2N1uunBouC/OU4NfHrQ+GC4TreAWxTYXJn49KDxwXCdbgG3KLAJE58eND4YsdMtsBYFNmHi04PGByN2ugXWosAmTHx60PhgxE63wFoU2ISJTw8aHwza6RZAiwKzD3rlSp1nz57JeVdobm52uVwmk6m0tJSVS2v4vBaRLP9BWeskf7ICzqcHDf10Abfw+DhF4tKDhn66gFs4hUnSvgcN/XQBt1DCFCT5/t/Dg4KCRkdHU1NT6f9+vzM/P9/f328ymXJycozeVsDntRjIUlNTI0lSU1PT70OahAkIDCVM+EIBYAbCBJiBMAFmIEyAGQgTYAbCBJiBMAFmIEyAGQgTYAbCBJiBMAFmIEyAGQgTYAbCBJhh4OY49NPpzWLI5jj00+nTYrzmOPTTBdYiTnMc+ukCbhGnOQ79dAG3iNMch366gFsEaY5DP50+LQpGao5DP50+LQpGao5DP50+LQpGao5DP50+LQpGao5DP50+LQpGao5DP50+LQpGao5DP50+LQpGao5DP50+LQoGa45DP50+Lf9BWesk+muOQz9dwC3iNMfxsaCfjoI4zXF8LOinoyBmcxz66QJiQXMcYAaa4wAPECbADIQJMANhAsxAmAAzECbADIQJMANhAsxAmAAzECbADIQJMANhAsxAmAAzECbADDTH6cLCBzTHCW4hAvXToTkukBYj9tOhOU6PFsmY/XRojtOjRTJmPx2a4/Ro8cAo/XRojtOdhQ9ojlsXFj6gOW5dWPiA5rh1YeEDmuPWhYUPaI5bFxY+oDluXVj4gOa4dWHhA5rj1ouFD2iOWxcWg/bToTlOjxaD9tOhOU6PFoP206E5Tu8WPqA5DugLNMcBHiBMgBkIE2AGwgSYgTABZiBMgBkIE2AGwgSYgTABZiBMgBkIE2AGwgSYgTABZiBMgBlojltHFq1Bc9y6sBAu/XS0x3ZDQ0NHRkbUP9ApUqebSBa2/XSVlZXy83G/QwvThg0bhoaGVDpE6nQTySKx7qerqKjw9eO0MMXExHjUjVEQqdNNJIvEup/uwoULVqvV6xAtTImJiR8+fFDpEKnTTSSLB3/fT1dWVtbY2Oh1iPYGfNOmTUtLS5QJCiJ1uolk0QKn06l8C88DP2FaWFhQIxCp000kixYsLCwoNw0e0JrjEhIS5ubm1AhE6nQTyaIFc3NzviqdaFemlJSU79+/qxGI1OkmkkULpqen5Tdev0MLU2pqqsorrUidbiJZmCNJ0sTEhMeqlQItTFlZWcPDw2ocInW6iWRhzrdv3+Li4kwmk9dRWpj27NkzMDCgxiFSp5tIFuYMDg7KKxpeoYUpPT39x48fi4uLfh0idbqJZGFOb2/vgQMHfA7TV6hOnz7d0dGhZi2rpaWFEBIWFubxCYzVaiWEmEym+fl5datisLC0ePCXi5YFBQX//POPr1E/YWptbVVZLiZSp5tIFob9dMvLy+np6aurq74m+AnT0tKSxWKh/PxahOl0E8nCsJ/u8ePH1dXVlAl+wiSfzatXr1T6xOh0E8nCsJ/u+PHjnz59okzwH6aBgYHi4mKVPhmHw9Hd3d3X1+dyuf7oB2HR1PI32O32oqIi+hz/YZIkqaSkhB5JIDznzp178+YNfY6qx3Zv3Lhx9epVNTOBkAwODs7MzOTl5dGnqQpTVlZWWlpaZ2cnixMDxuPKlSu3bt3yO41WkArAH4HvzQFmIEyAGQgTYMa/1sprrFyrMjgAAAAASUVORK5CYII=\"></div>"
      ],
      "text/plain": [
       "1   0   0   0   0\n",
       "\n",
       "0   1   0   0   0\n",
       "\n",
       "0   0   1   0   0\n",
       "\n",
       "0   0   0   1   0\n",
       "\n",
       "0   0   0   0   1"
      ]
     },
     "execution_count": 45,
     "metadata": {
      "text/html": [],
      "text/plain": []
     },
     "output_type": "execute_result"
    }
   ],
   "source": [
    "eRightVector.eLeftVector/.cnd//MatrixForm"
   ]
  },
  {
   "cell_type": "markdown",
   "id": "015404af-d872-4859-968c-ed4c27e6fabf",
   "metadata": {},
   "source": [
    "But not the right inverse\n",
    "$$e^{\\hat{\\alpha}}{}_{\\gamma}e^{\\gamma}{}_{\\hat{\\beta}}\\neq \\delta^{\\hat{\\alpha}}{}_{\\hat{\\beta}}$$"
   ]
  },
  {
   "cell_type": "code",
   "execution_count": 49,
   "id": "c3eb4ca2-1678-48af-9700-bc298ae3dfb8",
   "metadata": {},
   "outputs": [
    {
     "data": {
      "text/html": [
       "<div><img alt=\"Output\" src=\"data:image/png;base64,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\"></div>"
      ],
      "text/plain": [
       "\n",
       "\n",
       "\n",
       "1                     0                     0                     0\n",
       " \n",
       "\n",
       "\n",
       "\n",
       ">       0                     0\n",
       "\n",
       "                            2     2     2         2     2     2\n",
       "                      1 + s1  + s2  + s3    1 - s1  - s2  - s3\n",
       "                      -------------------   -------------------\n",
       "0                              2                     2            s1\n",
       " \n",
       "\n",
       "\n",
       "\n",
       ">       s2                    s3\n",
       "\n",
       "                            2     2     2         2     2     2\n",
       "                      1 - s1  - s2  - s3    1 + s1  + s2  + s3\n",
       "                      -------------------   -------------------\n",
       "0                              2                     2            -s1\n",
       " \n",
       "\n",
       "\n",
       "\n",
       ">       -s2                   -s3\n",
       "\n",
       "\n",
       "\n",
       "                                                                    2     2\n",
       "0                     0                     0                     s2  + s3\n",
       " \n",
       "\n",
       "\n",
       "\n",
       ">       -(s1 s2)              -(s1 s3)\n",
       "\n",
       "\n",
       "\n",
       "\n",
       "0                     0                     0                     -(s1 s2)\n",
       " \n",
       "\n",
       "\n",
       "          2     2\n",
       ">       s1  + s3              -(s2 s3)\n",
       "\n",
       "\n",
       "\n",
       "\n",
       "0                     0                     0                     -(s1 s3)\n",
       " \n",
       "\n",
       "\n",
       "                                2     2\n",
       ">       -(s2 s3)              s1  + s2"
      ]
     },
     "execution_count": 49,
     "metadata": {
      "text/html": [],
      "text/plain": []
     },
     "output_type": "execute_result"
    }
   ],
   "source": [
    "eLeftVector.eRightVector/.cnd//Simplify//MatrixForm"
   ]
  },
  {
   "cell_type": "markdown",
   "id": "d187de7b-4bc9-4df5-b2b3-7c9f85d33fbe",
   "metadata": {},
   "source": [
    "### Radiative Boundary Condition"
   ]
  },
  {
   "cell_type": "markdown",
   "id": "8c0a284b-8fc4-40a6-837d-e75e930bfc4c",
   "metadata": {},
   "source": [
    "$$U^{\\hat{1}-}=0$$"
   ]
  }
 ],
 "metadata": {
  "kernelspec": {
   "display_name": "Wolfram Language 12.2",
   "language": "Wolfram Language",
   "name": "wolframlanguage12.2"
  },
  "language_info": {
   "codemirror_mode": "mathematica",
   "file_extension": ".m",
   "mimetype": "application/vnd.wolfram.m",
   "name": "Wolfram Language",
   "pygments_lexer": "mathematica",
   "version": "12.0"
  }
 },
 "nbformat": 4,
 "nbformat_minor": 5
}
