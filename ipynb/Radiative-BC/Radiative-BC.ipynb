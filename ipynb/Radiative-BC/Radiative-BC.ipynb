{
 "cells": [
  {
   "cell_type": "markdown",
   "id": "cbf6194b-35aa-456d-bd97-10f5766b5b9c",
   "metadata": {},
   "source": [
    "# Radiative Boundary Conditions"
   ]
  },
  {
   "cell_type": "markdown",
   "id": "2254dbe1-7716-44d5-b31f-ff25ede2f629",
   "metadata": {},
   "source": [
    "## Scalar Waves"
   ]
  },
  {
   "cell_type": "markdown",
   "id": "3db5fcbd-c4f2-4f5b-949b-9030fc6d9485",
   "metadata": {},
   "source": [
    "$$\n",
    "\\begin{align}\n",
    "  \\dot{u}\n",
    "  &=\\rho, \\\\\n",
    "  \\dot{\\rho}\n",
    "  &=\\partial_kv_k, \\\\\n",
    "  \\dot{v_k}\n",
    "  &=\\partial_k \\rho.\n",
    "\\end{align}\n",
    "$$"
   ]
  },
  {
   "cell_type": "markdown",
   "id": "9d0b8713-33df-45b1-8019-31b806e8c01a",
   "metadata": {},
   "source": [
    "where $v_k:=\\partial_ku$."
   ]
  },
  {
   "cell_type": "code",
   "execution_count": 1,
   "id": "52bf31b9-f4de-4db0-8f85-eddbcdaedf31",
   "metadata": {},
   "outputs": [
    {
     "data": {
      "text/html": [
       "<div><pre style=\"&#102;&#111;&#110;&#116;&#45;&#102;&#97;&#109;&#105;&#108;&#121;&#58;&#32;&#34;&#67;&#111;&#117;&#114;&#105;&#101;&#114;&#32;&#78;&#101;&#119;&#34;&#44;&#67;&#111;&#117;&#114;&#105;&#101;&#114;&#44;&#109;&#111;&#110;&#111;&#115;&#112;&#97;&#99;&#101;&#59;\">&#123;&#117;&#44;&#32;&#961;&#44;&#32;&#118;&#120;&#44;&#32;&#118;&#121;&#44;&#32;&#118;&#122;&#125;</pre></div>"
      ],
      "text/plain": [
       "{u, ρ, vx, vy, vz}"
      ]
     },
     "execution_count": 1,
     "metadata": {
      "text/html": [],
      "text/plain": []
     },
     "output_type": "execute_result"
    }
   ],
   "source": [
    "U = {u, \\[Rho], vx, vy, vz}"
   ]
  },
  {
   "cell_type": "markdown",
   "id": "1a5564dc-6d4c-4657-aa5a-6c5dba48dd6d",
   "metadata": {},
   "source": [
    "#### Replacement Rules"
   ]
  },
  {
   "cell_type": "code",
   "execution_count": 2,
   "id": "2f1d7b12-69de-4cfe-a179-53b9ec655da4",
   "metadata": {},
   "outputs": [
    {
     "data": {
      "text/html": [
       "<div><img alt=\"Output\" src=\"data:image/png;base64,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\"></div>"
      ],
      "text/plain": [
       "   2     2     2          2     2     2\n",
       "{sx  + sy  + sz  -> 1, -sx  - sy  - sz  -> -1, sx vx + sy vy + sz vz -> sv, \n",
       " \n",
       ">   -(sx vx) - sy vy - sz vz -> -sv}"
      ]
     },
     "execution_count": 2,
     "metadata": {
      "text/html": [],
      "text/plain": []
     },
     "output_type": "execute_result"
    }
   ],
   "source": [
    "cnd = {\n",
    "    sx^2+sy^2+sz^2 -> 1,\n",
    "    -sx^2-sy^2-sz^2 -> -1,\n",
    "    sx vx+sy vy+sz vz -> sv,\n",
    "    -sx vx-sy vy-sz vz -> -sv\n",
    "}"
   ]
  },
  {
   "cell_type": "markdown",
   "id": "c4050f2c-2afa-40fc-afe8-eb2f546f4efe",
   "metadata": {},
   "source": [
    "### Characteristic matrix with respect to normal $s_i$: $A^{\\mathbf{s}\\alpha}{}_\\beta$"
   ]
  },
  {
   "cell_type": "code",
   "execution_count": 3,
   "id": "645f7e6b-3754-4ef3-a9fe-84b695e934fb",
   "metadata": {},
   "outputs": [
    {
     "data": {
      "text/html": [
       "<div><img alt=\"Output\" src=\"data:image/png;base64,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\"></div>"
      ],
      "text/plain": [
       "0     0     0     0     0\n",
       "\n",
       "0     0     -sx   -sy   -sz\n",
       "\n",
       "0     -sx   0     0     0\n",
       "\n",
       "0     -sy   0     0     0\n",
       "\n",
       "0     -sz   0     0     0"
      ]
     },
     "execution_count": 4,
     "metadata": {
      "text/html": [],
      "text/plain": []
     },
     "output_type": "execute_result"
    }
   ],
   "source": [
    "As = {\n",
    "    {0, 0, 0, 0, 0},\n",
    "    {0, 0, -sx, -sy, -sz},\n",
    "    {0, -sx, 0, 0, 0},\n",
    "    {0, -sy, 0, 0, 0},\n",
    "    {0, -sz, 0, 0, 0}\n",
    "};\n",
    "As//MatrixForm"
   ]
  },
  {
   "cell_type": "code",
   "execution_count": 5,
   "id": "679af6c7-b9a3-40be-a2dc-5221a83601fa",
   "metadata": {},
   "outputs": [
    {
     "data": {
      "text/html": [
       "<div><img alt=\"Output\" src=\"data:image/png;base64,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\"></div>"
      ],
      "text/plain": [
       "0\n",
       "\n",
       "-(sx vx) - sy vy - sz vz\n",
       "\n",
       "-(sx ρ)\n",
       "\n",
       "-(sy ρ)\n",
       "\n",
       "-(sz ρ)"
      ]
     },
     "execution_count": 5,
     "metadata": {
      "text/html": [],
      "text/plain": []
     },
     "output_type": "execute_result"
    }
   ],
   "source": [
    "As.U//MatrixForm"
   ]
  },
  {
   "cell_type": "markdown",
   "id": "6a3cf136-4067-4e19-8ab8-d71641f25132",
   "metadata": {},
   "source": [
    "### Characteristic Fields"
   ]
  },
  {
   "cell_type": "markdown",
   "id": "a33e1abd-a960-4c34-9312-1a19bbc2fcbd",
   "metadata": {},
   "source": [
    "$$U^{\\hat{\\alpha}}=e^{\\hat{\\alpha}}{}_\\beta U^{\\beta}$$"
   ]
  },
  {
   "cell_type": "markdown",
   "id": "0616f3c8-92ad-4a4c-93f0-905daa3a28ad",
   "metadata": {},
   "source": [
    "where $e^{\\hat{\\alpha}}{}_\\beta$ is the **LEFT** eigenvectors of $A^{s\\alpha}{}_{\\beta}$\n",
    "$$e^{\\hat{\\alpha}}{}_\\mu A^{\\mathbf{s}\\mu}{}_\\beta=v_{(\\hat{\\alpha})}e^{\\hat{\\alpha}}{}_\\beta$$"
   ]
  },
  {
   "cell_type": "code",
   "execution_count": 6,
   "id": "42819358-5732-4fdb-a39d-ea6b4dcb21ad",
   "metadata": {},
   "outputs": [
    {
     "data": {
      "text/html": [
       "<div><pre style=\"&#102;&#111;&#110;&#116;&#45;&#102;&#97;&#109;&#105;&#108;&#121;&#58;&#32;&#34;&#67;&#111;&#117;&#114;&#105;&#101;&#114;&#32;&#78;&#101;&#119;&#34;&#44;&#67;&#111;&#117;&#114;&#105;&#101;&#114;&#44;&#109;&#111;&#110;&#111;&#115;&#112;&#97;&#99;&#101;&#59;\">&#123;&#48;&#44;&#32;&#48;&#44;&#32;&#48;&#44;&#32;&#45;&#49;&#44;&#32;&#49;&#125;</pre></div>"
      ],
      "text/plain": [
       "{0, 0, 0, -1, 1}"
      ]
     },
     "execution_count": 6,
     "metadata": {
      "text/html": [],
      "text/plain": []
     },
     "output_type": "execute_result"
    }
   ],
   "source": [
    "eValue = Eigenvalues[Transpose[As]]/.cnd"
   ]
  },
  {
   "cell_type": "markdown",
   "id": "f9df3d8b-9171-46f3-a5a4-3def5437a5d1",
   "metadata": {},
   "source": [
    "$$\n",
    "\\begin{align}\n",
    "  \\begin{array}{lll}\n",
    "    U^{\\hat{0}}    &=u, \\quad                          &\\text{speed} \\quad 0, \\\\\n",
    "    U^{\\hat{1}\\pm} &=\\rho\\mp\\mathbf{s}\\cdot\\mathbf{v},         &\\text{speed} \\quad \\pm 1, \\\\\n",
    "    U^{\\hat{2}}    &=\\mathbf{v}-\\mathbf{s}(\\mathbf{s}\\cdot\\mathbf{v}), &\\text{speed} \\quad 0.\n",
    "  \\end{array}\n",
    "\\end{align}\n",
    "$$"
   ]
  },
  {
   "cell_type": "code",
   "execution_count": 7,
   "id": "a2cdc0d4-8c85-40ec-b405-58c4610acd35",
   "metadata": {},
   "outputs": [],
   "source": [
    "eLeftVector = {\n",
    "    {1, 0, 0, 0, 0},\n",
    "    {0, 1, -sx, -sy, -sz},\n",
    "    {0, 1, sx, sy, sz},\n",
    "    {0, 0, 1-sx sx, -sx sy, -sx sz},\n",
    "    {0, 0, -sy sx, 1-sy sy, -sy sz},\n",
    "    {0, 0, -sz sx, -sz sy, 1-sz sz}\n",
    "};"
   ]
  },
  {
   "cell_type": "code",
   "execution_count": 8,
   "id": "336be585-2eca-4f21-aa6b-8b55eeabcd2a",
   "metadata": {},
   "outputs": [
    {
     "data": {
      "text/html": [
       "<div><pre style=\"&#102;&#111;&#110;&#116;&#45;&#102;&#97;&#109;&#105;&#108;&#121;&#58;&#32;&#34;&#67;&#111;&#117;&#114;&#105;&#101;&#114;&#32;&#78;&#101;&#119;&#34;&#44;&#67;&#111;&#117;&#114;&#105;&#101;&#114;&#44;&#109;&#111;&#110;&#111;&#115;&#112;&#97;&#99;&#101;&#59;\">&#123;&#48;&#44;&#32;&#48;&#44;&#32;&#48;&#44;&#32;&#48;&#44;&#32;&#48;&#125;</pre></div>"
      ],
      "text/plain": [
       "{0, 0, 0, 0, 0}"
      ]
     },
     "execution_count": 8,
     "metadata": {
      "text/html": [],
      "text/plain": []
     },
     "output_type": "execute_result"
    }
   ],
   "source": [
    "eLeftVector[[1]].As - eLeftVector[[1]]eValue[[1]]"
   ]
  },
  {
   "cell_type": "code",
   "execution_count": 9,
   "id": "00c5b255-cd83-4a08-8b3d-ea9a6b1c6b4b",
   "metadata": {},
   "outputs": [
    {
     "data": {
      "text/html": [
       "<div><pre style=\"&#102;&#111;&#110;&#116;&#45;&#102;&#97;&#109;&#105;&#108;&#121;&#58;&#32;&#34;&#67;&#111;&#117;&#114;&#105;&#101;&#114;&#32;&#78;&#101;&#119;&#34;&#44;&#67;&#111;&#117;&#114;&#105;&#101;&#114;&#44;&#109;&#111;&#110;&#111;&#115;&#112;&#97;&#99;&#101;&#59;\">&#123;&#48;&#44;&#32;&#48;&#44;&#32;&#48;&#44;&#32;&#48;&#44;&#32;&#48;&#125;</pre></div>"
      ],
      "text/plain": [
       "{0, 0, 0, 0, 0}"
      ]
     },
     "execution_count": 9,
     "metadata": {
      "text/html": [],
      "text/plain": []
     },
     "output_type": "execute_result"
    }
   ],
   "source": [
    "eLeftVector[[2]].As - eLeftVector[[2]]eValue[[5]]/.cnd"
   ]
  },
  {
   "cell_type": "code",
   "execution_count": 10,
   "id": "3d3e90d8-700b-46e8-9a40-23e6cde54e4f",
   "metadata": {},
   "outputs": [
    {
     "data": {
      "text/html": [
       "<div><pre style=\"&#102;&#111;&#110;&#116;&#45;&#102;&#97;&#109;&#105;&#108;&#121;&#58;&#32;&#34;&#67;&#111;&#117;&#114;&#105;&#101;&#114;&#32;&#78;&#101;&#119;&#34;&#44;&#67;&#111;&#117;&#114;&#105;&#101;&#114;&#44;&#109;&#111;&#110;&#111;&#115;&#112;&#97;&#99;&#101;&#59;\">&#123;&#48;&#44;&#32;&#48;&#44;&#32;&#48;&#44;&#32;&#48;&#44;&#32;&#48;&#125;</pre></div>"
      ],
      "text/plain": [
       "{0, 0, 0, 0, 0}"
      ]
     },
     "execution_count": 10,
     "metadata": {
      "text/html": [],
      "text/plain": []
     },
     "output_type": "execute_result"
    }
   ],
   "source": [
    "eLeftVector[[3]].As - eLeftVector[[3]]eValue[[4]]/.cnd"
   ]
  },
  {
   "cell_type": "code",
   "execution_count": 11,
   "id": "45cb2405-5e0b-4196-8494-76e37bf0d771",
   "metadata": {},
   "outputs": [
    {
     "data": {
      "text/html": [
       "<div><pre style=\"&#102;&#111;&#110;&#116;&#45;&#102;&#97;&#109;&#105;&#108;&#121;&#58;&#32;&#34;&#67;&#111;&#117;&#114;&#105;&#101;&#114;&#32;&#78;&#101;&#119;&#34;&#44;&#67;&#111;&#117;&#114;&#105;&#101;&#114;&#44;&#109;&#111;&#110;&#111;&#115;&#112;&#97;&#99;&#101;&#59;\">&#123;&#123;&#48;&#44;&#32;&#48;&#44;&#32;&#48;&#44;&#32;&#48;&#44;&#32;&#48;&#125;&#44;&#32;&#123;&#48;&#44;&#32;&#48;&#44;&#32;&#48;&#44;&#32;&#48;&#44;&#32;&#48;&#125;&#44;&#32;&#123;&#48;&#44;&#32;&#48;&#44;&#32;&#48;&#44;&#32;&#48;&#44;&#32;&#48;&#125;&#125;</pre></div>"
      ],
      "text/plain": [
       "{{0, 0, 0, 0, 0}, {0, 0, 0, 0, 0}, {0, 0, 0, 0, 0}}"
      ]
     },
     "execution_count": 11,
     "metadata": {
      "text/html": [],
      "text/plain": []
     },
     "output_type": "execute_result"
    }
   ],
   "source": [
    "Table[(eLeftVector[[i]].As - eLeftVector[[i]]eValue[[1]]//Simplify)/.cnd, {i,4,6}]"
   ]
  },
  {
   "cell_type": "code",
   "execution_count": 12,
   "id": "615876e0-6ca1-4d04-847a-650968d3c8a2",
   "metadata": {},
   "outputs": [
    {
     "data": {
      "text/html": [
       "<div><img alt=\"Output\" src=\"data:image/png;base64,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\"></div>"
      ],
      "text/plain": [
       "\n",
       "u\n",
       "\n",
       "\n",
       "-sv + ρ\n",
       "\n",
       "\n",
       "sv + ρ\n",
       "\n",
       "       2\n",
       "(1 - sx ) vx - sx sy vy - sx sz vz\n",
       "\n",
       "                     2\n",
       "-(sx sy vx) + (1 - sy ) vy - sy sz vz\n",
       "\n",
       "                                2\n",
       "-(sx sz vx) - sy sz vy + (1 - sz ) vz"
      ]
     },
     "execution_count": 12,
     "metadata": {
      "text/html": [],
      "text/plain": []
     },
     "output_type": "execute_result"
    }
   ],
   "source": [
    "(eLeftVector.U)/.cnd//MatrixForm"
   ]
  }
 ],
 "metadata": {
  "kernelspec": {
   "display_name": "Wolfram Language 12.2",
   "language": "Wolfram Language",
   "name": "wolframlanguage12.2"
  },
  "language_info": {
   "codemirror_mode": "mathematica",
   "file_extension": ".m",
   "mimetype": "application/vnd.wolfram.m",
   "name": "Wolfram Language",
   "pygments_lexer": "mathematica",
   "version": "12.0"
  }
 },
 "nbformat": 4,
 "nbformat_minor": 5
}
