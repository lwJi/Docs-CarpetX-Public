{
 "cells": [
  {
   "cell_type": "markdown",
   "id": "cbf6194b-35aa-456d-bd97-10f5766b5b9c",
   "metadata": {},
   "source": [
    "# Radiative Boundary Conditions"
   ]
  },
  {
   "cell_type": "code",
   "execution_count": 1,
   "id": "79b9fcbd-0aaf-4934-beff-c2aae5e761af",
   "metadata": {},
   "outputs": [
    {
     "name": "stdout",
     "output_type": "stream",
     "text": [
      "------------------------------------------------------------\n",
      "Package xAct`xPerm`  version 1.2.3, {2015, 8, 23}\n",
      "CopyRight (C) 2003-2020, Jose M. Martin-Garcia, under the General Public\\\n",
      " \n",
      ">   License.\n",
      "Connecting to external mac executable...\n",
      "Connection established.\n",
      "------------------------------------------------------------\n",
      "Package xAct`xTensor`  version 1.2.0, {2021, 10, 17}\n",
      "CopyRight (C) 2002-2021, Jose M. Martin-Garcia, under the General Public\\\n",
      " \n",
      ">   License.\n",
      "------------------------------------------------------------\n",
      "Package xAct`xPert`  version 1.0.6, {2018, 2, 28}\n",
      "CopyRight (C) 2005-2020, David Brizuela, Jose M. Martin-Garcia and Guillermo\\\n",
      " \n",
      ">   A. Mena Marugan, under the General Public License.\n",
      "** Variable $PrePrint assigned value ScreenDollarIndices\n",
      "** Variable Prefix changed from Prefix to Postfix\n",
      "** Option AllowUpperDerivatives of ContractMetric changed from False to True\n",
      "** Option MetricOn of MakeRule changed from None to All\n",
      "** Option ContractMetrics of MakeRule changed from False to True\n",
      "------------------------------------------------------------\n",
      "Package xAct`Invar`  version 2.0.5, {2013, 7, 1}\n",
      "CopyRight (C) 2006-2020, J. M. Martin-Garcia, D. Yllanes and R. Portugal,\\\n",
      " \n",
      ">   under the General Public License.\n",
      "** DefConstantSymbol: Defining constant symbol sigma. \n",
      "** DefConstantSymbol: Defining constant symbol dim. \n",
      "** Option CurvatureRelations of DefCovD changed from True to False\n",
      "** Variable True changed from True to False\n",
      "------------------------------------------------------------\n",
      "Package xAct`xCoba`  version 0.8.6, {2021, 2, 28}\n",
      "CopyRight (C) 2005-2021, David Yllanes and Jose M. Martin-Garcia, under the\\\n",
      " \n",
      ">   General Public License.\n",
      "------------------------------------------------------------\n",
      "Package xAct`SymManipulator`  version 0.9.5, {2021, 9, 14}\n",
      "CopyRight (C) 2011-2021, Thomas Ba\"ckdahl, under the General Public License.\n",
      "------------------------------------------------------------\n",
      "Package xAct`xTras`  version 1.4.2, {2014, 10, 30}\n",
      "CopyRight (C) 2012-2014, Teake Nutma, under the General Public License.\n",
      "** Variable Postfix changed from Postfix to Prefix\n",
      "** Option CurvatureRelations of DefCovD changed from False to True\n",
      "------------------------------------------------------------\n",
      "These packages come with ABSOLUTELY NO WARRANTY; for details type\\\n",
      " \n",
      ">   Disclaimer[]. This is free software, and you are welcome to redistribute\\\n",
      " \n",
      ">   it under certain conditions. See the General Public License for details.\n",
      "------------------------------------------------------------\n"
     ]
    }
   ],
   "source": [
    "<< xAct`xTras`"
   ]
  },
  {
   "cell_type": "markdown",
   "id": "d4532faa-f20b-4d51-b478-9c087ef63ac6",
   "metadata": {},
   "source": [
    "#### Define Symbols"
   ]
  },
  {
   "cell_type": "code",
   "execution_count": 2,
   "id": "23130a6a-0bad-41c8-860a-19b37bbda4bc",
   "metadata": {},
   "outputs": [
    {
     "name": "stdout",
     "output_type": "stream",
     "text": [
      "** DefConstantSymbol: Defining constant symbol vU1. \n",
      "** DefConstantSymbol: Defining constant symbol vU2. \n",
      "** DefConstantSymbol: Defining constant symbol vU3. \n",
      "** DefConstantSymbol: Defining constant symbol sU1. \n",
      "** DefConstantSymbol: Defining constant symbol sU2. \n",
      "** DefConstantSymbol: Defining constant symbol sU3. \n",
      "** DefConstantSymbol: Defining constant symbol vD1. \n",
      "** DefConstantSymbol: Defining constant symbol vD2. \n",
      "** DefConstantSymbol: Defining constant symbol vD3. \n",
      "** DefConstantSymbol: Defining constant symbol sD1. \n",
      "** DefConstantSymbol: Defining constant symbol sD2. \n",
      "** DefConstantSymbol: Defining constant symbol sD3. \n",
      "** DefConstantSymbol: Defining constant symbol sv. \n"
     ]
    }
   ],
   "source": [
    "Do[DefConstantSymbol[ToExpression[\"vU\" <> ToString[ii]], PrintAs -> ToString[Superscript[\"v\", ToString[ii]], FormatType -> StandardForm]], {ii, 1, 3}];\n",
    "Do[DefConstantSymbol[ToExpression[\"sU\" <> ToString[ii]], PrintAs -> ToString[Superscript[\"s\", ToString[ii]], FormatType -> StandardForm]], {ii, 1, 3}];\n",
    "Do[DefConstantSymbol[ToExpression[\"vD\" <> ToString[ii]], PrintAs -> ToString[Subscript[\"v\", ToString[ii]], FormatType -> StandardForm]], {ii, 1, 3}];\n",
    "Do[DefConstantSymbol[ToExpression[\"sD\" <> ToString[ii]], PrintAs -> ToString[Subscript[\"s\", ToString[ii]], FormatType -> StandardForm]], {ii, 1, 3}];\n",
    "DefConstantSymbol[sv, PrintAs -> \"\\*StyleBox[\\(\\!\\(\\*StyleBox[\\\"s\\\",\\nFontWeight->\\\"Bold\\\"]\\)\\[Bullet]\\!\\(\\*StyleBox[\\\"v\\\",\\nFontWeight->\\\"Bold\\\"]\\)\\)]\"];"
   ]
  },
  {
   "cell_type": "markdown",
   "id": "2254dbe1-7716-44d5-b31f-ff25ede2f629",
   "metadata": {},
   "source": [
    "## Scalar Waves"
   ]
  },
  {
   "cell_type": "markdown",
   "id": "3db5fcbd-c4f2-4f5b-949b-9030fc6d9485",
   "metadata": {
    "tags": []
   },
   "source": [
    "### EOM\n",
    "$$\n",
    "\\begin{align}\n",
    "  \\partial_t{u}\n",
    "  &=\\rho, \\\\\n",
    "  \\partial_t{\\rho}\n",
    "  &=\\delta^{kl}\\partial_kv_l, \\\\\n",
    "  \\partial_t{v_k}\n",
    "  &=\\partial_k \\rho.\n",
    "\\end{align}\n",
    "$$"
   ]
  },
  {
   "cell_type": "markdown",
   "id": "9d0b8713-33df-45b1-8019-31b806e8c01a",
   "metadata": {},
   "source": [
    "where $v_k\\equiv\\partial_ku$."
   ]
  },
  {
   "cell_type": "code",
   "execution_count": 7,
   "id": "52bf31b9-f4de-4db0-8f85-eddbcdaedf31",
   "metadata": {},
   "outputs": [
    {
     "data": {
      "text/html": [
       "<div><img alt=\"Output\" src=\"data:image/png;base64,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\"></div>"
      ],
      "text/plain": [
       "u\n",
       "\n",
       "ρ\n",
       "\n",
       "vD1\n",
       "\n",
       "vD2\n",
       "\n",
       "vD3"
      ]
     },
     "execution_count": 8,
     "metadata": {
      "text/html": [],
      "text/plain": []
     },
     "output_type": "execute_result"
    }
   ],
   "source": [
    "U = {u, \\[Rho], vD1, vD2, vD3};\n",
    "U//MatrixForm"
   ]
  },
  {
   "cell_type": "markdown",
   "id": "1a5564dc-6d4c-4657-aa5a-6c5dba48dd6d",
   "metadata": {},
   "source": [
    "#### Replacement Rules"
   ]
  },
  {
   "cell_type": "code",
   "execution_count": 9,
   "id": "2f1d7b12-69de-4cfe-a179-53b9ec655da4",
   "metadata": {},
   "outputs": [
    {
     "data": {
      "text/html": [
       "<div><img alt=\"Output\" src=\"data:image/png;base64,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\"></div>"
      ],
      "text/plain": [
       "{sD1 sU1 + sD2 sU2 + sD3 sU3 -> 1, sU1 vD1 + sU2 vD2 + sU3 vD3 -> sv, \n",
       " \n",
       ">   -(sD1 sU1) - sD2 sU2 - sD3 sU3 -> -1, -(sU1 vD1) - sU2 vD2 - sU3 vD3 -> -sv}"
      ]
     },
     "execution_count": 9,
     "metadata": {
      "text/html": [],
      "text/plain": []
     },
     "output_type": "execute_result"
    }
   ],
   "source": [
    "cnd = {\n",
    "    sD1 sU1+sD2 sU2+sD3 sU3 -> 1,\n",
    "    sU1 vD1+sU2 vD2+sU3 vD3 -> sv,\n",
    "    -sD1 sU1-sD2 sU2-sD3 sU3 -> -1,\n",
    "    -sU1 vD1-sU2 vD2-sU3 vD3 -> -sv\n",
    "}"
   ]
  },
  {
   "cell_type": "markdown",
   "id": "c4050f2c-2afa-40fc-afe8-eb2f546f4efe",
   "metadata": {
    "tags": []
   },
   "source": [
    "### Characteristic Matrix (with respect to normal $s_i$)\n",
    "$$\n",
    "\\begin{align}\n",
    "A^{\\mathbf{s}\\alpha}{}_\\beta =\n",
    "\\begin{pmatrix}\n",
    "0 & 0 & 0 \\\\\n",
    "0 & 0 & -s^k \\\\\n",
    "0 & -s_j & 0\n",
    "\\end{pmatrix}\n",
    "\\end{align}\n",
    "$$"
   ]
  },
  {
   "cell_type": "code",
   "execution_count": 10,
   "id": "645f7e6b-3754-4ef3-a9fe-84b695e934fb",
   "metadata": {},
   "outputs": [
    {
     "data": {
      "text/html": [
       "<div><img alt=\"Output\" src=\"data:image/png;base64,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\"></div>"
      ],
      "text/plain": [
       "0      0      0      0      0\n",
       "\n",
       "0      0      -sU1   -sU2   -sU3\n",
       "\n",
       "0      -sD1   0      0      0\n",
       "\n",
       "0      -sD2   0      0      0\n",
       "\n",
       "0      -sD3   0      0      0"
      ]
     },
     "execution_count": 11,
     "metadata": {
      "text/html": [],
      "text/plain": []
     },
     "output_type": "execute_result"
    }
   ],
   "source": [
    "As = {\n",
    "    {0, 0, 0, 0, 0},\n",
    "    {0, 0, -sU1, -sU2, -sU3},\n",
    "    {0, -sD1, 0, 0, 0},\n",
    "    {0, -sD2, 0, 0, 0},\n",
    "    {0, -sD3, 0, 0, 0}\n",
    "};\n",
    "As//MatrixForm"
   ]
  },
  {
   "cell_type": "code",
   "execution_count": 12,
   "id": "679af6c7-b9a3-40be-a2dc-5221a83601fa",
   "metadata": {},
   "outputs": [
    {
     "data": {
      "text/html": [
       "<div><img alt=\"Output\" src=\"data:image/png;base64,iVBORw0KGgoAAAANSUhEUgAAAHIAAACsCAIAAAAoi291AAAA0XpUWHRSYXcgcHJvZmlsZSB0eXBlIGV4aWYAAHjabU/bDQMhDPtnio4QEnBgHHrHSd2g4zeBSNVVtURsnBek+X5d6eHgTKlUbegAGUovnYeJRhubM/UVF5Qjl+9+Gkf4w6z6TWCG/7z7is3cfgZRbBDfYFpKNMQg4e3nse/PqOfR2m3QdVwL8eCVi6f/vRdRRkXWYrEwqaKbbsmkESpTVVw4ACvMOJnKYTyham1Qr5DhjQ6eeq+eCWLG6V8QPyLDuK5o+yw20yx5ReLT/ZX173wA5glcjdyNWnsAAAAJcEhZcwAAFiUAABYlAUlSJPAAAAA8dEVYdFNvZnR3YXJlAENyZWF0ZWQgd2l0aCB0aGUgV29sZnJhbSBMYW5ndWFnZSA6IHd3dy53b2xmcmFtLmNvbVyipoUAAAAhdEVYdENyZWF0aW9uIFRpbWUAMjAyMzowNTowNCAwODoyMToyMJu2lf4AABGCSURBVHic7Z17UBPX28efhBCRgEEQBBSqAhpFtBa11KK0QgXBAFLUUev9gkirJXRGHVv7Yywd244FdaBOay86BQdREVsqUbF4qZfghYtKgoKAgBCEYgTDJcm+f+y8efOGZHNhDwF/5/PX7nnO5eG7u2cPOec5yyAIAjB0w7S0A68nQ0ZWlUolkUhaWlos7YhRDAFZKysrw8LCHB0deTyei4uLt7f3jh07lEqlpf2ihBjcXL161dHRkXTV1taWxWKRxwsXLnz58qWlvdOLsbIKBIJz584hdaUvcrnc2dkZAFxdXW/cuKFSqTo6Ovbu3Usqm5SUNMD+EAQRFRUlkUgMZjNKVolEEhMT02+XTOann34CABaLVVFRoZn+2WefAQCXy5XJZAPsUkVFRXR0tMFsRsm6ZMmS8vLyfrtkMtOnTwcAPp+vlV5fX29lZQUA6enpA+/Vxo0bL1++TJ3HsKwVFRVRUVE0uWQCCoWC1C47O7uvdf78+QCwefPmgXdMIpEsXLiQOo/hkUBqaurHH39M95vSME1NTeTr3tvbGwCam5u/++67U6dOqVQqdWJDQ8PAOzZx4kQrK6v79+9TZaJWvbOzc/LkyUqlkr6LbSy3bt0iPayvrycIIjw8nDzNy8sjCGLPnj0AMH369IF3jCCI7OzsxMREigwG7ta8vLwFCxYwmRYY3j5//pw8IAdYEomEPBWJRAAwcuRIzTwDTGRk5JkzZ8jnRicG9MrPz1+wYAHdXhnFqFGjyIP29nYAWLZsGQDY29uTB2SiOs8AY2NjM3HixOLiYn0ZDMhaWFg4b948ur0yijFjxpAHzc3NAJCSkvL06dPGxkY/Pz914tixYy3iGwAEBwcLhUJ9VipZa2pqnJyc7OzsEHhlGFdXV3IkUFVVRaaMHTtW7Ux1dTVoSD/w+Pv7X79+XZ+VStZ79+5NnjwZgUtGYWVl5evrCwCZmZlapqampkuXLgHAtGnTLOAZAADweLzS0lJ9VipZxWLx+PHjEbhkLAkJCQDw559/kvemmvT0dIVCYW9vv2rVKgu5Bm5ubv/+++/Lly91Wqlkraurs+BTBgCrVq1ydHTs7e0NDg5+9OgRAKhUqoyMjJSUFABYv379iBEjLOUbg8Fwd3evqanRbaYYfEVERGRlZdE95jONgoICdX/K4/GcnJzI48DAwLa2Nsv6Nnv27IKCAp0mqrv1+fPn5PDQgoSGhhYVFU2fPp3JZIrF4tbWVjs7uzVr1ly4cMHivo0cOVLfwJlFUay9vd2CT5kaf3//kpKSFy9elJWV2dvb+/n5kSMEizNixIi2tjadJgOycjgcNC6ZDJfLnTt3rqW9+H/Y2tp2dHToNFF1Aq9evRo2bBgal14HbGxsXr16pdNEJatCoWCz2Whceh1gs9k9PT06TVSy9vb2DpJebHDCZDIVCoVuE0UxhULBYDDQuPQ6wGQy9f2INQQmtIciWFYkYFmRgGVFApYVCVhWJGBZkYBlRQKWFQlYViRgWZGAZUUClhUJWFYkUE26DDz3798Xi8W1tbVKpdLX13fatGkeHh79qbC7u/vBgwfksY2NzZQpUzStKpWqpKSEPLaysiJXKdMDxYQtANTW1qKZDNbm0qVLM2fO7Ouep6dnenp6V1eXedXeu3dPXRWbzW5vb9dqVG2dOXOmqZUnJiZ++umnOk2DohO4fv16RETE7du3+5rq6uoSEhIWL16sr+zTp0/Pnj179erVrq6uvtY333xTvaCop6cnLy9P05qTk6M+pnmBDMXVgIG6W9VLggFgxIgR8+bNCwsLUz/+NjY2paWlOgvu3btXPS3k4+Pz8OHDvnm+//57deURERHqdIVC4eLiQqazWCypVGqq2xR366CQVR15BQBHjhxRp4tEosWLF//88886S/39999at4jOxdlSqdTa2prMoNkPaPYAfaM+jGGwdwKa6xK3bdsWHx8vFArlcvmsWbNOnz69fv16naUKCgq0UkpLS+vr67USnZ2d1U+DZj+g2QOsXr26n3+CFoNC1i+++EK9IOHVq1eHDx8OCwtzcnKKiYk5e/asvlI6Zz11ztmtW7dOfXzixAkAUCqVp0+fJlMcHBz4fH5//O8LzQOsixcvXrlyhSKDQCBwcHDQSgwNDS0sLBQIBGRcAIlcLs/Nzc3NzZ09e/Yff/yh7gfVBAUF7d+/XzPFw8ND54AsPDzcxcVFKpWSHnZ0dJSWlpLruQFg6dKltK8yoVnWJ0+eXLt2jSJDfHx8X1kB4N13371165ZIJMrJyTl58qTmAkeRSBQdHd136TOfz9+yZcvhw4fJ05EjRx47dkznDLy1tfXKlStTU1MBoLu7+/z585rL/mnvAQAGx0igra3t5s2bmim3b99euXKlpp/Pnj3TWfbWrVvp6emZmZnNzc0UTWiunN6wYYN65O/l5WW224N9JBAbGwsAISEhBQUF6lWrmm9qAGhsbOxnK2+99RZZ1fDhw9XV/uc//zG7wkEt65EjR7QeoNGjR2vFgUyZMqX/DR08eLDvw1pVVWV2hYN6gKU5LCdpbm7WXODI5XKzsrL639CKFSu0VuoFBgZOmDCh/zX3xfKyxsXF1dTUHDhwwN/f39bWVtPE4XASEhLu3r1Ly48gTk5OWgMpJC8rAABgEPp3FmIwGLW1tZ6enoja7otKpaqpqWloaGAwGG+88Ya7u/tgXrIoEAgIgiAHGFoMrh8GmUzmhAkTED2YA4nlO4HXEiwrErCsSMCyIgHLigQsKxKwrEjAsiIBy4oELCsSsKxIwLIiAcuKBCwrErCsSMCyIgHLigQsKxIGy6QLQRBNTU11dXUcDmfSpEnqNX5DFMvfrS0tLQkJCQ4ODu7u7gEBAX5+fhwOZ9q0aWlpaXK5HGnTL1680LeHTT+xsKydnZ0LFy7MyMiQyWSjR49+5513eDweQRDl5eWJiYne3t76NvHrD0+ePImNjXV3d3dwcLC3t/fx8UlJSdG364p5WFjWs2fP3rlzBwDS0tIaGxuvX79eUVHR2dn522+/jRs3Li4uzt7ent4WhUKhn5+fWCzev39/eXn5lStXli5dmpycHBQURKeyFIthAP1iod27d5NutLa2apmUSqVKpaK3uba2Njc3t/DwcLlcrpl+8eJFAEhJSTGptsG7WCgoKIg8CA4OzsvL6+7uVpuYTCbt+xrt27dPLpcfOXLExsZGMz04ODg2NvbXX3+lqyELy/rBBx8kJyczGIySkpLo6OjRo0evXbs2NzdX3yZzLS0tJ06cWL9+vZ2dnRl74+Xk5Kxbt87Nza2vKTAwsLq6Wme4jBnQNsAybx02AOzZs4fP53/99dd//fXXixcvjh49evToUQ6Hs2nTpqSkJK3dr3/55ZedO3eSxxQbqeukpKSEfFnptA4bNkylUvX09GjdyOZBm6xmr8MGgBkzZuTk5Mjl8sLCwvz8/DNnzjQ1NaWlpR07duzy5ctTp05V59y+ffvmzZvBrM3Gi4qKuFxuQECATmttbe2oUaNo2wGUokuGAYwi1KS7u3v//v3korbly5frzMPhcObMmWNStcuXL1+wYIE+63vvvRcUFGRShYP3lVVVVVVZWamVyGazBQLBnDlzAIDcu5kWRCLRs2fPent7+5rOnz9fVFSkr38wA0vK2tnZyefzfX19ExISamtrNU1CoZCM1Zw1axYtbbW2tlZVVZWXl3/55ZdapqdPn27bti0gIGDr1q20tAVg0U6grq4uJCRE7QnZ8YWHh/N4PDJlzJgx+hwwtRM4d+4cAKSkpLBYrM8//5z8AJdMJjt58uSoUaO8vLzEYrGp/g/q2IErV67w+XxXV1fNiz1s2LA1a9Y8fvxYXylTZU1OTvbw8CAIIiMjg9xUe8yYMUwmk8VixcXFdXR0mOE5hayW/wVr7ty55Ai0ra3t4cOHDAbD2dnZ09OTloGOmuLi4rfffhsA4uPj4+Li7ty5IxaLp0yZMnXqVBQ7KlteVjWOjo6BgYGIKheJROSn9gCAyWTOmjWLrl5bJ4NIVoNUVVWp4397enoaGhr27dsHAM7Ozhs2bKAoWFtbK5VKybt1YBhKslZWVu7atUt9WltbS576+PhQyyqTySIjI/39/ZG7+L8MJVnJLwCaUdDPz09r3wvUWH524LUEy4oELCsSsKxIwLIiAcuKBCwrErCsSMCyIgHLigQsKxKwrEjAsiIBy4oELCsSsKxIwLIiYbDMDhA4doBecOwA/eDYASTg2AEk4NgBJJgXO9Dc3PzgwQPNzEaCYwd0xw4cOHDAy8vL1dV16tSpHA5n69atJr1zcOyAjtiB+Pj4w4cPh4SE7Ny5UyaTHT9+/IcffgCAjIwMYzzEsQO6Ywc2bdrE4/G2b99OniYkJLi5uf3+++/p6enGhBrh2AHDsQMkkZGRAKD1XSF94NgBo2IHCIK4e/euj48Pl8s1pi0cO2BU7EBqamp9fT31WkE1OHbAqNiBGzdusNnsGTNm9Pb2GtMWjh0AMBQ7UFxczOVyx44da7x7OHbAQOyASCQKCwuztrYWCoXG7zKPYweoEAqFH374oYODw4ULFzS/smUQHDugl6ysrLVr1/b29i5fvjwzM1MdSszj8ag/zIBjB6j48ccfyeGR1mdg3n//fWpZcewAFUVFReYVxLEDrwlYViRgWZGAZUUClhUJWFYkYFmRgGVFApYVCVhWJGBZkYBlRQKWFQlYViRgWZGAZUUClhUJVLMDLBaLMGsnHzMghmDsgEql0veJb6q71draWqlUonHp/xi6sQNKpZLF0n1fGpC1p6fH7FaNYUjHDvT29rLZbJ0mKlmHDx9uxopnkxjSsQNdXV22tra6bRSLYSZNmvTPP/+YsYrGeIZ07MCSJUsOHjyo00R1tzo4OMhkMpMuoKmYFzvQ0tJSWlra3t5uanP0xg7IZDJHR0fdNoqrERERkZWVZdIFNAMydoB0hsvlrlmz5vTp0y9fvuybU6FQpKamenh4qJ0PCQmRSCTGtzV+/PjExESdprS0NCaTqXUXUzN79uyCggKdJqoBloeHh1QqNfLSDUDswMGDBwUCwfz583ft2mVnZ5efn5+dnR0WFvbo0SN9Ax1NaI8daGlpcXd312miktXT07OhocHINgYgduCTTz7x9vbm8/nk6apVq6qrq4uLi8vKymbMmGHQQ3pjBwiCaGxsHDdunF6zPk6dOhUbG2v8Q0EXxscOxMTEsNlsqVRqTLX0xg40NDS4urrqs1LJWl1d7evra3xLZvD48WN9nSO56HXmzJl9TUql8vHjx0lJSQCwevVqI9vy8vLy8/Pr6enpaxIKhQBw6NAh4z0vLCwMDQ3VZ6WSlSAIV1dXnW8PWujo6Jg8eTKLxdq6dWtNTY2mqaCgYPjw4QAQHx+vVerEiRPqnvSrr75SKpXGtPX8+XOyyK5du7RMdXV1kyZNCggIMLIqkm+++SY5OVmf1YCsK1asyM/PN74xkzAvdqC8vHzHjh0fffSRk5OTlZVVX5l0QnvsQGho6M2bN/VZDciamZm5fft2k9ozFfO+O0AQRHd397JlywAgMzPTYCv0xg7I5fLx48dT3N0GZO3s7OTxeCY9HWbT2tp69erVa9euSSQSI8ePZWVlALB27VqDORctWqR+/SqVSpFIdOzYsdu3b3d1dZnhanZ2tr7xL4kBWQmC2LRp04ULF8xom3aOHz9+8eJFzRTy/6Ldu3cbLOvi4vLtt9/S5cmiRYvKy8spMhiWtaKiIioqii6HzEahUPj4+DAYjNjY2EOHDuXm5iYlJdnY2NjZ2T18+JC6bE1NDQBcvnyZFk8qKyvJPeUpMCwrQRCxsbHUF2dgaG9v37Jli+b/XQEBAcb8GFRWVhYZGWle8FVfNm7caPAKGSWrWCyOiYmhwyV6kEqld+/ebWtrG/imKyoqoqOjDWYzSlaCIAQCwblz5/rn0utAVFSUMT/uMIiBmq36rwLPvCIBy4oELCsSsKxIwLIi4X8A00rqwEUz/9EAAAAASUVORK5CYII=\"></div>"
      ],
      "text/plain": [
       "0\n",
       "\n",
       "-sv\n",
       "\n",
       "-(sD1 ρ)\n",
       "\n",
       "-(sD2 ρ)\n",
       "\n",
       "-(sD3 ρ)"
      ]
     },
     "execution_count": 12,
     "metadata": {
      "text/html": [],
      "text/plain": []
     },
     "output_type": "execute_result"
    }
   ],
   "source": [
    "As.U/.cnd//MatrixForm"
   ]
  },
  {
   "cell_type": "markdown",
   "id": "6a3cf136-4067-4e19-8ab8-d71641f25132",
   "metadata": {},
   "source": [
    "#### Characteristic Speed"
   ]
  },
  {
   "cell_type": "code",
   "execution_count": 13,
   "id": "9407e28a-7c4f-4bbd-95e7-2feb2cec8707",
   "metadata": {},
   "outputs": [
    {
     "data": {
      "text/html": [
       "<div><img alt=\"Output\" src=\"data:image/png;base64,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\"></div>"
      ],
      "text/plain": [
       "0\n",
       "\n",
       "0\n",
       "\n",
       "0\n",
       "\n",
       "-1\n",
       "\n",
       "1"
      ]
     },
     "execution_count": 14,
     "metadata": {
      "text/html": [],
      "text/plain": []
     },
     "output_type": "execute_result"
    }
   ],
   "source": [
    "eValue = Eigenvalues[As]/.cnd;\n",
    "eValue//MatrixForm"
   ]
  },
  {
   "cell_type": "markdown",
   "id": "0616f3c8-92ad-4a4c-93f0-905daa3a28ad",
   "metadata": {
    "tags": []
   },
   "source": [
    "#### Left Eigenvectors ($e^{\\hat{\\alpha}}{}_\\mu A^{\\mathbf{s}\\mu}{}_\\beta=v^{(\\hat{\\alpha})}e^{\\hat{\\alpha}}{}_\\beta$)\n",
    "$$\n",
    "\\begin{align*}\n",
    "e^{\\hat{\\alpha}}{}_\\beta=\n",
    "\\begin{pmatrix}\n",
    "1 &0 &0 \\\\\n",
    "0 &1 &s^k \\\\\n",
    "0 &1 &-s^k \\\\\n",
    "0 & 0 &\\delta_j{}^k-s_js^k\n",
    "\\end{pmatrix}\n",
    "\\end{align*}\n",
    "$$"
   ]
  },
  {
   "cell_type": "code",
   "execution_count": 15,
   "id": "ad124e65-0cfa-4ad8-9ac8-f23fb9330563",
   "metadata": {},
   "outputs": [
    {
     "data": {
      "text/html": [
       "<div><img alt=\"Output\" src=\"data:image/png;base64,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\"></div>"
      ],
      "text/plain": [
       "1                   0                   0                   0\n",
       " \n",
       ">    0\n",
       "\n",
       "0                   1                   sU1                 sU2\n",
       " \n",
       ">    sU3\n",
       "\n",
       "0                   1                   -sU1                -sU2\n",
       " \n",
       ">    -sU3\n",
       "\n",
       "0                   0                   sD2 sU2 + sD3 sU3   -(sD1 sU2)\n",
       " \n",
       ">    -(sD1 sU3)\n",
       "\n",
       "0                   0                   -(sD2 sU1)          sD1 sU1 + sD3 sU3\n",
       " \n",
       ">    -(sD2 sU3)\n",
       "\n",
       "0                   0                   -(sD3 sU1)          -(sD3 sU2)          sD1 \n",
       " \n",
       ">     sU1 + sD2 sU2"
      ]
     },
     "execution_count": 16,
     "metadata": {
      "text/html": [],
      "text/plain": []
     },
     "output_type": "execute_result"
    }
   ],
   "source": [
    "Module[{eLeftVectorRaw = (Inverse[Transpose[Eigenvectors[As]/.cnd]]//Simplify)/.cnd},\n",
    "eLeftVector = Join[\n",
    "    {eLeftVectorRaw[[3]]},\n",
    "    {eLeftVectorRaw[[4]] (2/sD3)//Simplify}/.cnd,\n",
    "    {-eLeftVectorRaw[[5]] (2/sD3)//Simplify}/.cnd,\n",
    "    {\n",
    "        -(eLeftVectorRaw[[2]] (sU2/sU1) + eLeftVectorRaw[[1]] (sU3/sU1))//Simplify,\n",
    "        eLeftVectorRaw[[2]],\n",
    "        eLeftVectorRaw[[1]]\n",
    "    }\n",
    "]];\n",
    "eLeftVector//MatrixForm"
   ]
  },
  {
   "cell_type": "markdown",
   "id": "e2d145f6-ce32-49e5-b9b4-c0bc0420e542",
   "metadata": {},
   "source": [
    "$$e^{\\hat{\\alpha}}{}_{\\mu}A^{s\\mu}{}_{\\beta}=v^{(\\hat{\\alpha})}e^{\\hat{\\alpha}}{}_{\\beta}$$"
   ]
  },
  {
   "cell_type": "code",
   "execution_count": 17,
   "id": "336be585-2eca-4f21-aa6b-8b55eeabcd2a",
   "metadata": {},
   "outputs": [
    {
     "data": {
      "text/html": [
       "<div><img alt=\"Output\" src=\"data:image/png;base64,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\"></div>"
      ],
      "text/plain": [
       "0   0   0   0   0\n",
       "\n",
       "0   0   0   0   0\n",
       "\n",
       "0   0   0   0   0\n",
       "\n",
       "0   0   0   0   0\n",
       "\n",
       "0   0   0   0   0\n",
       "\n",
       "0   0   0   0   0"
      ]
     },
     "execution_count": 17,
     "metadata": {
      "text/html": [],
      "text/plain": []
     },
     "output_type": "execute_result"
    }
   ],
   "source": [
    "Join[\n",
    "    {eLeftVector[[1]].As - eLeftVector[[1]]eValue[[1]]},\n",
    "    {eLeftVector[[2]].As - eLeftVector[[2]]eValue[[4]]/.cnd},\n",
    "    {eLeftVector[[3]].As - eLeftVector[[3]]eValue[[5]]/.cnd},\n",
    "    Table[(eLeftVector[[i]].As - eLeftVector[[i]]eValue[[1]]//Simplify)/.cnd, {i,4,6}]\n",
    "]//MatrixForm"
   ]
  },
  {
   "cell_type": "markdown",
   "id": "77c1372b-5c89-4746-b597-f006bd4085c0",
   "metadata": {
    "tags": []
   },
   "source": [
    "#### Charateristic Fields ($U^{\\hat{\\alpha}}=e^{\\hat{\\alpha}}{}_\\beta U^{\\beta}$)\n",
    "$$\n",
    "\\begin{align}\n",
    "  \\begin{array}{lll}\n",
    "    U^{\\hat{0}}    &=u, \\quad                          &\\text{speed} \\quad 0, \\\\\n",
    "    U^{\\hat{1}\\pm} &=\\rho\\mp\\mathbf{s}\\cdot\\mathbf{v},         &\\text{speed} \\quad \\pm 1, \\\\\n",
    "    U^{\\hat{2}}    &=\\mathbf{v}-\\mathbf{s}(\\mathbf{s}\\cdot\\mathbf{v}), &\\text{speed} \\quad 0.\n",
    "  \\end{array}\n",
    "\\end{align}\n",
    "$$"
   ]
  },
  {
   "cell_type": "code",
   "execution_count": 18,
   "id": "615876e0-6ca1-4d04-847a-650968d3c8a2",
   "metadata": {},
   "outputs": [
    {
     "data": {
      "text/html": [
       "<div><img alt=\"Output\" src=\"data:image/png;base64,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\"></div>"
      ],
      "text/plain": [
       "u\n",
       "\n",
       "sv + ρ\n",
       "\n",
       "-sv + ρ\n",
       "\n",
       "(sD2 sU2 + sD3 sU3) vD1 - sD1 sU2 vD2 - sD1 sU3 vD3\n",
       "\n",
       "-(sD2 sU1 vD1) + (sD1 sU1 + sD3 sU3) vD2 - sD2 sU3 vD3\n",
       "\n",
       "-(sD3 sU1 vD1) - sD3 sU2 vD2 + (sD1 sU1 + sD2 sU2) vD3"
      ]
     },
     "execution_count": 18,
     "metadata": {
      "text/html": [],
      "text/plain": []
     },
     "output_type": "execute_result"
    }
   ],
   "source": [
    "(eLeftVector.U)/.cnd//MatrixForm"
   ]
  },
  {
   "cell_type": "markdown",
   "id": "6274eb02-283c-43a0-a7d9-d74d3c091854",
   "metadata": {},
   "source": [
    "#### Right Eigenvectors ($A^{\\mathbf{s}\\alpha}{}_\\mu r^{\\mu}{}_{\\hat{\\beta}} =v_{(\\hat{\\beta})}r^{\\alpha}{}_{\\hat{\\beta}}$)\n",
    "$$\n",
    "\\begin{align*}\n",
    "r^{{\\alpha}}{}_{\\hat{\\beta}}=\n",
    "\\begin{pmatrix}\n",
    "1 &0 &0 &0\\\\\n",
    "0 &1/2 &1/2 &0 \\\\\n",
    "0 &s_j/2 &-s_j/2 &\\delta_j{}^k-s_js^k\n",
    "\\end{pmatrix}\n",
    "\\end{align*}\n",
    "$$"
   ]
  },
  {
   "cell_type": "code",
   "execution_count": 19,
   "id": "9d8f66e9-0a90-4803-b616-6372a91836d7",
   "metadata": {},
   "outputs": [
    {
     "data": {
      "text/html": [
       "<div><img alt=\"Output\" src=\"data:image/png;base64,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\"></div>"
      ],
      "text/plain": [
       "\n",
       "\n",
       "1                   0                   0                   0\n",
       " \n",
       "\n",
       "\n",
       ">    0                   0\n",
       "\n",
       "                    1                   1\n",
       "                    -                   -\n",
       "0                   2                   2                   0\n",
       " \n",
       "\n",
       "\n",
       ">    0                   0\n",
       "\n",
       "                    sD1                   1\n",
       "                    ---                 -(-) sD1\n",
       "0                    2                    2                 sD2 sU2 + sD3 sU3\n",
       " \n",
       "\n",
       "\n",
       ">    -(sD1 sU2)          -(sD1 sU3)\n",
       "\n",
       "                    sD2                   1\n",
       "                    ---                 -(-) sD2\n",
       "0                    2                    2                 -(sD2 sU1)\n",
       " \n",
       "\n",
       "\n",
       ">    sD1 sU1 + sD3 sU3   -(sD2 sU3)\n",
       "\n",
       "                    sD3                   1\n",
       "                    ---                 -(-) sD3\n",
       "0                    2                    2                 -(sD3 sU1)\n",
       " \n",
       "\n",
       "\n",
       ">    -(sD3 sU2)          sD1 sU1 + sD2 sU2"
      ]
     },
     "execution_count": 20,
     "metadata": {
      "text/html": [],
      "text/plain": []
     },
     "output_type": "execute_result"
    }
   ],
   "source": [
    "Module[{eRightVectorRaw = Eigenvectors[As]/.cnd},\n",
    "eRightVector = Transpose[Join[\n",
    "    {eRightVectorRaw[[3]]},\n",
    "    {eRightVectorRaw[[4]]sD3/2},\n",
    "    -{eRightVectorRaw[[5]]sD3/2},\n",
    "    {-eRightVectorRaw[[1]]sU1 sD3 - eRightVectorRaw[[2]]sU1 sD2},\n",
    "    {-eRightVectorRaw[[1]]sU2 sD3 + eRightVectorRaw[[2]](sU3 sD3+sD1 sU1)}//Simplify,\n",
    "    {+eRightVectorRaw[[1]](sD1 sU1+sD2 sU2) - eRightVectorRaw[[2]]sD2 sU3}//Simplify\n",
    "]]];\n",
    "eRightVector//MatrixForm"
   ]
  },
  {
   "cell_type": "markdown",
   "id": "31c06f34-3b36-4392-8aa0-07709dcfc05d",
   "metadata": {},
   "source": [
    "$$A^{\\mathbf{s}\\alpha}{}_\\mu r^{\\mu}{}_{\\hat{\\beta}} =v_{(\\hat{\\beta})}r^{\\alpha}{}_{\\hat{\\beta}}$$"
   ]
  },
  {
   "cell_type": "code",
   "execution_count": 21,
   "id": "d525b329-245c-4281-9205-4a3090d8325f",
   "metadata": {},
   "outputs": [
    {
     "data": {
      "text/html": [
       "<div><img alt=\"Output\" src=\"data:image/png;base64,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\"></div>"
      ],
      "text/plain": [
       "0   0   0   0   0\n",
       "\n",
       "0   0   0   0   0\n",
       "\n",
       "0   0   0   0   0\n",
       "\n",
       "0   0   0   0   0\n",
       "\n",
       "0   0   0   0   0\n",
       "\n",
       "0   0   0   0   0"
      ]
     },
     "execution_count": 21,
     "metadata": {
      "text/html": [],
      "text/plain": []
     },
     "output_type": "execute_result"
    }
   ],
   "source": [
    "Join[\n",
    "    {As.(eRightVector[[All, 1]]) - eValue[[1]]eRightVector[[All, 1]]},\n",
    "    {As.(eRightVector[[All, 2]]) - eValue[[4]]eRightVector[[All, 2]]//Simplify}/.cnd,\n",
    "    {As.(eRightVector[[All, 3]]) - eValue[[5]]eRightVector[[All, 3]]//Simplify}/.cnd,\n",
    "    Table[(As.eRightVector[[All, i]] - eValue[[1]]eRightVector[[All, i]]//Simplify)/.cnd, {i,4,6}]\n",
    "]//MatrixForm"
   ]
  },
  {
   "cell_type": "code",
   "execution_count": 25,
   "id": "8ba16ce7-3cac-4118-9d5c-24e51f049748",
   "metadata": {},
   "outputs": [
    {
     "data": {
      "text/html": [
       "<div><img alt=\"Output\" src=\"data:image/png;base64,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\"></div>"
      ],
      "text/plain": [
       "   -2\n",
       "--------\n",
       "   2\n",
       "sD3  sU1"
      ]
     },
     "execution_count": 25,
     "metadata": {
      "text/html": [],
      "text/plain": []
     },
     "output_type": "execute_result"
    }
   ],
   "source": [
    "(Det[Eigenvectors[As]]/.cnd//Simplify)/.cnd"
   ]
  },
  {
   "cell_type": "code",
   "execution_count": 37,
   "id": "8686357b-2119-4fc2-95e9-4b997ce16087",
   "metadata": {},
   "outputs": [
    {
     "data": {
      "text/html": [
       "<div><img alt=\"Output\" src=\"data:image/png;base64,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\"></div>"
      ],
      "text/plain": [
       "{1   0   0   0   0, 1   0   0   0   0}\n",
       "\n",
       " 0   1   0   0   0  0   1   0   0   0\n",
       "\n",
       " 0   0   1   0   0  0   0   1   0   0\n",
       "\n",
       " 0   0   0   1   0  0   0   0   1   0\n",
       "\n",
       " 0   0   0   0   1  0   0   0   0   1"
      ]
     },
     "execution_count": 37,
     "metadata": {
      "text/html": [],
      "text/plain": []
     },
     "output_type": "execute_result"
    }
   ],
   "source": [
    "Module[{left = (Inverse[Transpose[Eigenvectors[As]/.cnd]]//Simplify)/.cnd, right = Transpose[Eigenvectors[As]]},\n",
    "    {left.right/.cnd//Simplify//MatrixForm, (right.left/.cnd//Simplify)/.cnd/.cnd//MatrixForm}\n",
    "]"
   ]
  },
  {
   "cell_type": "markdown",
   "id": "a4547d08-ce91-452c-9525-b78357abe09a",
   "metadata": {},
   "source": [
    "#### Inverse of Left Eigenvector\n",
    "$$\n",
    "\\begin{align*}\n",
    "e^{\\alpha}{}_{\\hat{\\beta}}=\n",
    "\\begin{pmatrix}\n",
    "1 &0 &0 &0\\\\\n",
    "0 &1/2 &1/2 &0 \\\\\n",
    "0 &s_j/2 &-s_j/2 &\\delta_j{}^k \\\\\n",
    "\\end{pmatrix}\n",
    "\\end{align*}\n",
    "$$"
   ]
  },
  {
   "cell_type": "code",
   "execution_count": 51,
   "id": "6f600695-fc9e-49e3-9a12-f41c90038613",
   "metadata": {},
   "outputs": [
    {
     "data": {
      "text/html": [
       "<div><img alt=\"Output\" src=\"data:image/png;base64,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\"></div>"
      ],
      "text/plain": [
       "\n",
       "\n",
       "1          0          0          0          0          0\n",
       "\n",
       "           1          1\n",
       "           -          -\n",
       "0          2          2          0          0          0\n",
       "\n",
       "           sD1          1\n",
       "           ---        -(-) sD1\n",
       "0           2           2        1          0          0\n",
       "\n",
       "           sD2          1\n",
       "           ---        -(-) sD2\n",
       "0           2           2        0          1          0\n",
       "\n",
       "           sD3          1\n",
       "           ---        -(-) sD3\n",
       "0           2           2        0          0          1"
      ]
     },
     "execution_count": 53,
     "metadata": {
      "text/html": [],
      "text/plain": []
     },
     "output_type": "execute_result"
    }
   ],
   "source": [
    "(*eRightVector = PseudoInverse[eLeftVector]*)\n",
    "eRightVector = {\n",
    "    {1, 0, 0, 0, 0, 0},\n",
    "    {0, 1/2, 1/2, 0, 0, 0},\n",
    "    {0, sD1/2, -sD1/2, 1, 0, 0},\n",
    "    {0, sD2/2, -sD2/2, 0, 1, 0},\n",
    "    {0, sD3/2, -sD3/2, 0, 0, 1}\n",
    "};\n",
    "eRightVector//MatrixForm"
   ]
  },
  {
   "cell_type": "code",
   "execution_count": 71,
   "id": "c83da97a-37f1-49b9-bd5e-1c379ceaa854",
   "metadata": {},
   "outputs": [
    {
     "data": {
      "text/html": [
       "<div><img alt=\"Output\" src=\"data:image/png;base64,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\"></div>"
      ],
      "text/plain": [
       "\n",
       "\n",
       "0          0          0          0          0          0\n",
       "\n",
       "             1        1\n",
       "           -(-)       -\n",
       "0            2        2          -sU1       -sU2       -sU3\n",
       "\n",
       "             1          1\n",
       "           -(-) sD1   -(-) sD1\n",
       "0            2          2        0          0          0\n",
       "\n",
       "             1          1\n",
       "           -(-) sD2   -(-) sD2\n",
       "0            2          2        0          0          0\n",
       "\n",
       "             1          1\n",
       "           -(-) sD3   -(-) sD3\n",
       "0            2          2        0          0          0"
      ]
     },
     "execution_count": 71,
     "metadata": {
      "text/html": [],
      "text/plain": []
     },
     "output_type": "execute_result"
    }
   ],
   "source": [
    "(As.eRightVector//Simplify)/.cnd//MatrixForm"
   ]
  },
  {
   "cell_type": "code",
   "execution_count": 96,
   "id": "6765da03-5bbb-44d3-937e-35585f07cae6",
   "metadata": {},
   "outputs": [
    {
     "data": {
      "text/html": [
       "<div><img alt=\"Output\" src=\"data:image/png;base64,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\"></div>"
      ],
      "text/plain": [
       "    1  sD1  sD2  sD3\n",
       "{0, -, ---, ---, ---}\n",
       "    2   2    2    2"
      ]
     },
     "execution_count": 96,
     "metadata": {
      "text/html": [],
      "text/plain": []
     },
     "output_type": "execute_result"
    }
   ],
   "source": [
    "eRightVector[[All, 2]]"
   ]
  },
  {
   "cell_type": "code",
   "execution_count": 95,
   "id": "ab62f372-3b48-478e-b0a5-10a61aa9ffbc",
   "metadata": {},
   "outputs": [
    {
     "data": {
      "text/html": [
       "<div><img alt=\"Output\" src=\"data:image/png;base64,iVBORw0KGgoAAAANSUhEUgAAAPgAAAAoCAIAAABcjaBzAAAA0HpUWHRSYXcgcHJvZmlsZSB0eXBlIGV4aWYAAHjabU/bDQMhDPtnio5AHjgwDr0DqRt0/IZHVSHVEomxk0BCe796eAwwxaDJMgoQHVq0cHWS48LKFMuME/3r0akH3gZVl9LPQNv689QNK3vfOSjyIjJecC66G/Yg4aVTXffnruea8zGoX31if3h6++t/7yrGSCBTj8rRDMV5Dk49IXFMho4L8ELCzVEvzw1m3gYbFVJH4wA3O6tbgLhwjxVkHJHqOc3oWwlNvqIK8e26Tnes8wG4clxrRaTcLAAAAAlwSFlzAAAWJQAAFiUBSVIk8AAAADx0RVh0U29mdHdhcmUAQ3JlYXRlZCB3aXRoIHRoZSBXb2xmcmFtIExhbmd1YWdlIDogd3d3LndvbGZyYW0uY29tXKKmhQAAACF0RVh0Q3JlYXRpb24gVGltZQAyMDIzOjA1OjAzIDE1OjE1OjQxPYiVTgAAB91JREFUeJztnX1IU20fx6/p5sptjdbLhgYaKGyEnaQQCyNKI2cYFoIIymJQmv1hYVBBETboDkKyaEKsQgiS3hATbGH7oxkpZVloyOZeyrfUvWS5uRbu7Pnjup/de3zOOfdy53ht7nz+Ol5v39/143fOud525ASDQcDCstJJQm0AC8tywAY6KQ6H49GjR2q1WigU7t69G7U5LFHBpcgzm80Gg+HXr1+nT59eNoNih3v37p07dw5e4ziO1hgWMux2e1tb25YtWw4cOLBq1SqyYsRPdBzHa2pqFAqFRqP5/PkzY0bGNPX19W632+12p6amoraFhRSfz/f8+fPKysrs7Gy9Xk9aLkhEY2NjSkrK/fv3cRwnLJBQCASCXbt2obaChYqpqakjR46IRCKbzUZYgPiJ3tbW1tDQUFVVxeFwmLoTWVjoQyqVPnjwQCQSdXZ2EhYgDnSbzZafn8+kYSwsNMPn83Nzc0dGRghziQM9GAzyeLwIBXAcN5lMDodjiQaykIPWt3GnzuPxgiT7QlEtL5rN5uLiYolEIpfLN27cmJWVdfbs2UAgEE2bLBC0vl2B6oQjdx6P19XVRT387+npkUgksJHU1FQu9++VSqVSOTc3F93UIrZY/skoWt/Gr3pZWdnJkycJs5YY6D6fb8OGDQAAmUzW29uL47jH49FoNNCmhoaGCHsVFyxzoKP1bVyr0x/oOp0OAMDlcoeHh8PTz5w5AwAQi8U/f/6ktgkhOI5PTk729fUNDg7+/v2bsIzFYvnrv/B4vIyMDHh9584dps1D69u4Vqc/0DEMAwCUlpYuSh8fH09OTgYAaLVaiuqomJmZqaurW7NmTWjkxuPxcnJyrl+/Pj8/H16yq6uLcKSXnZ3NtJFofRvX6jQH+sLCAlR9+PDh/+fu27cPAHD8+HEKg5Dg8Xi2b98O41Uqle7cuVMul4eGgGlpabHwFkLr23hXpwj0pay6TE1NwSlwVlYWAGB6evratWtPnz6FB0Jg4sTExBJaZpRnz569f/8eANDc3Dw5OfnmzZvh4WGv19va2pqZmVlTUyMSiVDbiNi3K1id4FCX3+/HcZxiTzQkJpVKAQBqtRq+6Ds6Og4dOiSTyQAA4+PjSzOIOUKHdqqrq5OS/r7DU1JSVCpVdXV1jOwBo/VtvKtzOByfz0eYRfBENxgMOI5v27aNrDmn0wkv4DKQyWSCf759+xYAsHbt2vAyscOePXvgRWFhYUdHh9/vD2UlJSXFSKCj9W28q2MY9vLlS8KsxYE+Nzen0+kwDIM3ECHr16+HF7OzswCAiooKAIBIJIIXMDFUJnbYv39/Y2Mjh8P5+PFjWVmZVCo9evRoe3u7x+NBbdo/oPVtvKsXFRWNjo4SH3cJH7BfunRJIBCkpaV1d3dTDPlDr4+BgQGYMjY2FlrMr62tBQAcPHiQooUo6e7uvkjJ9+/fyep++PChvLw8/OStQCA4derU2NgYcwZHDlrfrgB1rVYrEAiUSmV/f394+v880U0mk9frzcvLC61OECKTyeDs2Gq1wpRNmzYJhUJ4bbPZAADp6ekULUSJ3W5/TQnZQA0AkJub+/jxY6fT2dnZWVtbK5PJvF5vc3MzhmFDQ0PM2RwhaH27AtRlMhmXy9Xr9YunrYtuCKvVmpOTU1xcTH3fbN26FQBw+PDhRenfvn2DC3a3bt0iq4vjeG9v76tXr8g2a5YTv9/f1NQE/VtZWRl9g9H3Dq1v41c9GAwODQ0lJyer1eqRkZFFWQTr6K2trXw+3+v1UrR4+/ZtAACPx7NareHpFy5cAACIRKIfP34QVgwEAqEDwEqlkkKCdiwWi8lkIsyCPwndsWNHlBK09A6tb+NUHdLU1CQQCBbt/UEIAt3lcnE4HIPBQNHi/Pw8nBpnZmaazeZgMBgIBLRaLVy7qK+vJ6toNBrD3yfT09MUKjTi8XgUCgWXy62rq/vy5Ut4ll6vX716NQDgxIkTUarQ0ju0vo1TdUhFRUV5eTlh1tJPL+r1+tD4SS6Xr1u3Dl4XFBS43W6yWg6Hg8/nh9zx5MkTahW6GB0dLSoqCumKxeL8/PySkhK5XA5T0tPTv379GqUKXb1D69t4VIfQf9YF0t/fj2FYaPNFKBSqVCqfz0ddS6fThSa7LS0t/6pCI0ajsbS0dNHKKZ/PV6lUFouFFgm6eofWt/GoHmQu0CGzs7NGo3FgYGBhYSHCKjMzM3D+9+LFiwir0IvL5erp6Xn9+rXJZIrEg38Ejb1D69u4U6cIdKrvukSIWCz+0+/7tLe3BwKBlJQUeFpt+ZFIJAUFBQw1TmPv0Po27tQpQPClLpvNduXKFQDAsWPH4KmGlQTa3iWy+r9A+Jz/o6HLH6HVauH0AsMwp9PJhARC0PYukdUhzI7RIwfH8YyMDD6fr9FoYmG3iF7Q9i6R1UMwO0aPHA6H09LSsnnzZoVCsZy6ywPa3iWyeiSQBnqQme+ml5SUMNFsjIC2d4msDqEIWuLJqFQqtVgsjNnDwsIINpuN7Hg5caDv3bv36tWrdrudSatYWOjkxo0bg4ODhYWFxNmEI3eXy6VQKPh8flVV1d27d5mbPbCwRMnExMT58+fhjuzFixfJihE/0SUSyadPn27evBkIBMh+m8TCEgs4HI6+vr68vLx3795dvnyZrBgnyP6zLpYEgP0fRiwJARvoLAnBfwB+hyV2SS21rwAAAABJRU5ErkJggg==\"></div>"
      ],
      "text/plain": [
       "{0, -sU1, 0, 0, 0}"
      ]
     },
     "execution_count": 95,
     "metadata": {
      "text/html": [],
      "text/plain": []
     },
     "output_type": "execute_result"
    }
   ],
   "source": [
    "As.(eRightVector[[All,4]])"
   ]
  },
  {
   "cell_type": "code",
   "execution_count": 93,
   "id": "5d0db739-493d-484f-9962-d425e0ca298f",
   "metadata": {},
   "outputs": [
    {
     "data": {
      "text/html": [
       "<div><img alt=\"Output\" src=\"data:image/png;base64,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\"></div>"
      ],
      "text/plain": [
       "{{0, -sU1, 0, 0, 0}}"
      ]
     },
     "execution_count": 93,
     "metadata": {
      "text/html": [],
      "text/plain": []
     },
     "output_type": "execute_result"
    }
   ],
   "source": [
    "Table[(As.eRightVector[[All, i]] - eValue[[1]]eRightVector[[All, i]]//Simplify)/.cnd, {i,4,4}]"
   ]
  },
  {
   "cell_type": "markdown",
   "id": "3ce88968-0e3a-4293-b931-2b16b7b1e736",
   "metadata": {},
   "source": [
    "It's left inverse of $e^{\\hat{\\alpha}}{}_{\\beta}$\n",
    "$$e^{\\alpha}{}_{\\hat{\\gamma}}e^{\\hat{\\gamma}}{}_\\beta=\\delta^\\alpha{}_{\\beta}$$"
   ]
  },
  {
   "cell_type": "code",
   "execution_count": 87,
   "id": "9d7e7ac9-25a8-4417-a62e-9cdeb5f863b2",
   "metadata": {},
   "outputs": [
    {
     "data": {
      "text/html": [
       "<div><img alt=\"Output\" src=\"data:image/png;base64,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\"></div>"
      ],
      "text/plain": [
       "1   0   0   0   0\n",
       "\n",
       "0   1   0   0   0\n",
       "\n",
       "0   0   1   0   0\n",
       "\n",
       "0   0   0   1   0\n",
       "\n",
       "0   0   0   0   1"
      ]
     },
     "execution_count": 87,
     "metadata": {
      "text/html": [],
      "text/plain": []
     },
     "output_type": "execute_result"
    }
   ],
   "source": [
    "eRightVector.eLeftVector/.cnd//MatrixForm"
   ]
  },
  {
   "cell_type": "markdown",
   "id": "015404af-d872-4859-968c-ed4c27e6fabf",
   "metadata": {},
   "source": [
    "But not the right inverse\n",
    "$$e^{\\hat{\\alpha}}{}_{\\gamma}e^{\\gamma}{}_{\\hat{\\beta}}\\neq \\delta^{\\hat{\\alpha}}{}_{\\hat{\\beta}}$$"
   ]
  },
  {
   "cell_type": "code",
   "execution_count": 89,
   "id": "c3eb4ca2-1678-48af-9700-bc298ae3dfb8",
   "metadata": {},
   "outputs": [
    {
     "data": {
      "text/html": [
       "<div><img alt=\"Output\" src=\"data:image/png;base64,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\"></div>"
      ],
      "text/plain": [
       "1                   0                   0                   0\n",
       " \n",
       ">    0                   0\n",
       "\n",
       "0                   1                   0                   sU1\n",
       " \n",
       ">    sU2                 sU3\n",
       "\n",
       "0                   0                   1                   -sU1\n",
       " \n",
       ">    -sU2                -sU3\n",
       "\n",
       "0                   0                   0                   sD2 sU2 + sD3 sU3\n",
       " \n",
       ">    -(sD1 sU2)          -(sD1 sU3)\n",
       "\n",
       "0                   0                   0                   -(sD2 sU1)          sD1 \n",
       " \n",
       ">     sU1 + sD3 sU3   -(sD2 sU3)\n",
       "\n",
       "0                   0                   0                   -(sD3 sU1)\n",
       " \n",
       ">    -(sD3 sU2)          sD1 sU1 + sD2 sU2"
      ]
     },
     "execution_count": 89,
     "metadata": {
      "text/html": [],
      "text/plain": []
     },
     "output_type": "execute_result"
    }
   ],
   "source": [
    "(eLeftVector.eRightVector/.cnd//Simplify)/.cnd//MatrixForm"
   ]
  },
  {
   "cell_type": "markdown",
   "id": "d187de7b-4bc9-4df5-b2b3-7c9f85d33fbe",
   "metadata": {},
   "source": [
    "### Radiative Boundary Condition"
   ]
  },
  {
   "cell_type": "markdown",
   "id": "8c0a284b-8fc4-40a6-837d-e75e930bfc4c",
   "metadata": {},
   "source": [
    "$$U^{\\hat{1}-}=0$$"
   ]
  }
 ],
 "metadata": {
  "kernelspec": {
   "display_name": "Wolfram Language 13.2",
   "language": "Wolfram Language",
   "name": "wolframlanguage13.2"
  },
  "language_info": {
   "codemirror_mode": "mathematica",
   "file_extension": ".m",
   "mimetype": "application/vnd.wolfram.m",
   "name": "Wolfram Language",
   "pygments_lexer": "mathematica",
   "version": "12.0"
  }
 },
 "nbformat": 4,
 "nbformat_minor": 5
}
